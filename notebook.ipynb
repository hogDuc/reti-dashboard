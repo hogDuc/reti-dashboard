{
 "cells": [
  {
   "cell_type": "code",
   "execution_count": 1,
   "id": "7483ae38",
   "metadata": {},
   "outputs": [],
   "source": [
    "import pandas as pd\n",
    "import matplotlib.pyplot as plt\n",
    "from pandas.tseries.offsets import MonthEnd\n",
    "import plotly.express as px\n",
    "import numpy as np"
   ]
  },
  {
   "cell_type": "markdown",
   "id": "7ba93d97",
   "metadata": {},
   "source": [
    "Dữ liệu ban đầu được chia thành các sheet khác nhau để dễ xử lý: \"revenue\", \"cogs\" và \"fee\""
   ]
  },
  {
   "cell_type": "code",
   "execution_count": 1,
   "id": "83042c64",
   "metadata": {},
   "outputs": [],
   "source": [
    "def readData(sheetName=\"\", valueName=\"\"):\n",
    "    data = pd.read_excel(\"reti_data.xlsx\", sheet_name=sheetName, header=None).transpose()\n",
    "    data.columns = data.iloc[0]\n",
    "    data = data[1:]\n",
    "    df = pd.melt(\n",
    "        data,\n",
    "        id_vars=['Tháng',\"Năm\"],\n",
    "        value_vars=data.columns[2:],\n",
    "        var_name=\"project\",\n",
    "        value_name=valueName\n",
    "    ).rename(columns={\n",
    "        \"Tháng\":\"month\",\n",
    "        \"Năm\":\"year\"\n",
    "    }).assign(\n",
    "        date=lambda x: x['month'].astype(int).astype(str) + '/' + x['year'].astype(int).astype(str)\n",
    "    ).assign(\n",
    "        date = lambda x: pd.to_datetime(x['date'], format=\"%m/%Y\") + MonthEnd(0)\n",
    "    )\n",
    "    return df"
   ]
  },
  {
   "cell_type": "code",
   "execution_count": 2,
   "id": "8e662ab5",
   "metadata": {},
   "outputs": [
    {
     "ename": "NameError",
     "evalue": "name 'pd' is not defined",
     "output_type": "error",
     "traceback": [
      "\u001b[1;31m---------------------------------------------------------------------------\u001b[0m",
      "\u001b[1;31mNameError\u001b[0m                                 Traceback (most recent call last)",
      "Cell \u001b[1;32mIn[2], line 1\u001b[0m\n\u001b[1;32m----> 1\u001b[0m rev_df \u001b[38;5;241m=\u001b[39m \u001b[43mreadData\u001b[49m\u001b[43m(\u001b[49m\u001b[38;5;124;43m'\u001b[39;49m\u001b[38;5;124;43mrevenue\u001b[39;49m\u001b[38;5;124;43m'\u001b[39;49m\u001b[43m,\u001b[49m\u001b[43m \u001b[49m\u001b[38;5;124;43m'\u001b[39;49m\u001b[38;5;124;43mrevenue\u001b[39;49m\u001b[38;5;124;43m'\u001b[39;49m\u001b[43m)\u001b[49m\n\u001b[0;32m      2\u001b[0m cogs_df \u001b[38;5;241m=\u001b[39m readData(\u001b[38;5;124m'\u001b[39m\u001b[38;5;124mcogs\u001b[39m\u001b[38;5;124m'\u001b[39m, \u001b[38;5;124m'\u001b[39m\u001b[38;5;124mcogs\u001b[39m\u001b[38;5;124m'\u001b[39m)\n\u001b[0;32m      3\u001b[0m rev_df[\u001b[38;5;124m\"\u001b[39m\u001b[38;5;124mproject\u001b[39m\u001b[38;5;124m\"\u001b[39m] \u001b[38;5;241m=\u001b[39m rev_df[\u001b[38;5;124m\"\u001b[39m\u001b[38;5;124mproject\u001b[39m\u001b[38;5;124m\"\u001b[39m]\u001b[38;5;241m.\u001b[39mreplace(\u001b[38;5;124m\"\u001b[39m\u001b[38;5;124mDOANH THU\u001b[39m\u001b[38;5;124m\"\u001b[39m, \u001b[38;5;124m\"\u001b[39m\u001b[38;5;124mtotal\u001b[39m\u001b[38;5;124m\"\u001b[39m)\n",
      "Cell \u001b[1;32mIn[1], line 2\u001b[0m, in \u001b[0;36mreadData\u001b[1;34m(sheetName, valueName)\u001b[0m\n\u001b[0;32m      1\u001b[0m \u001b[38;5;28;01mdef\u001b[39;00m \u001b[38;5;21mreadData\u001b[39m(sheetName\u001b[38;5;241m=\u001b[39m\u001b[38;5;124m\"\u001b[39m\u001b[38;5;124m\"\u001b[39m, valueName\u001b[38;5;241m=\u001b[39m\u001b[38;5;124m\"\u001b[39m\u001b[38;5;124m\"\u001b[39m):\n\u001b[1;32m----> 2\u001b[0m     data \u001b[38;5;241m=\u001b[39m \u001b[43mpd\u001b[49m\u001b[38;5;241m.\u001b[39mread_excel(\u001b[38;5;124m\"\u001b[39m\u001b[38;5;124mreti_data.xlsx\u001b[39m\u001b[38;5;124m\"\u001b[39m, sheet_name\u001b[38;5;241m=\u001b[39msheetName, header\u001b[38;5;241m=\u001b[39m\u001b[38;5;28;01mNone\u001b[39;00m)\u001b[38;5;241m.\u001b[39mtranspose()\n\u001b[0;32m      3\u001b[0m     data\u001b[38;5;241m.\u001b[39mcolumns \u001b[38;5;241m=\u001b[39m data\u001b[38;5;241m.\u001b[39miloc[\u001b[38;5;241m0\u001b[39m]\n\u001b[0;32m      4\u001b[0m     data \u001b[38;5;241m=\u001b[39m data[\u001b[38;5;241m1\u001b[39m:]\n",
      "\u001b[1;31mNameError\u001b[0m: name 'pd' is not defined"
     ]
    }
   ],
   "source": [
    "rev_df = readData('revenue', 'revenue')\n",
    "cogs_df = readData('cogs', 'cogs')\n",
    "rev_df[\"project\"] = rev_df[\"project\"].replace(\"DOANH THU\", \"total\")\n",
    "cogs_df[\"project\"] = cogs_df[\"project\"].replace(\"GIÁ VỐN HÀNG BÁN\", \"total\")"
   ]
  },
  {
   "cell_type": "code",
   "execution_count": null,
   "id": "64ba0cbf",
   "metadata": {},
   "outputs": [],
   "source": []
  },
  {
   "cell_type": "code",
   "execution_count": 4,
   "id": "1b1b3a56",
   "metadata": {},
   "outputs": [
    {
     "name": "stderr",
     "output_type": "stream",
     "text": [
      "C:\\Users\\ADMIN\\AppData\\Local\\Temp\\ipykernel_3132\\317247726.py:3: SettingWithCopyWarning: \n",
      "A value is trying to be set on a copy of a slice from a DataFrame.\n",
      "Try using .loc[row_indexer,col_indexer] = value instead\n",
      "\n",
      "See the caveats in the documentation: https://pandas.pydata.org/pandas-docs/stable/user_guide/indexing.html#returning-a-view-versus-a-copy\n",
      "  ebt[\"project\"] = ebt[\"project\"].replace(\"LỢI NHUẬN THUẦN TRƯỚC THUẾ\", \"total\")\n"
     ]
    }
   ],
   "source": [
    "fee_df = readData('fee', 'fee')\n",
    "ebt = fee_df.loc[fee_df['project']==\"LỢI NHUẬN THUẦN TRƯỚC THUẾ\"]\n",
    "ebt[\"project\"] = ebt[\"project\"].replace(\"LỢI NHUẬN THUẦN TRƯỚC THUẾ\", \"total\")"
   ]
  },
  {
   "cell_type": "code",
   "execution_count": 5,
   "id": "7ae34482",
   "metadata": {},
   "outputs": [
    {
     "data": {
      "application/vnd.microsoft.datawrangler.viewer.v0+json": {
       "columns": [
        {
         "name": "index",
         "rawType": "int64",
         "type": "integer"
        },
        {
         "name": "month",
         "rawType": "object",
         "type": "unknown"
        },
        {
         "name": "year",
         "rawType": "object",
         "type": "unknown"
        },
        {
         "name": "project",
         "rawType": "object",
         "type": "string"
        },
        {
         "name": "cogs",
         "rawType": "object",
         "type": "unknown"
        },
        {
         "name": "date",
         "rawType": "datetime64[ns]",
         "type": "datetime"
        }
       ],
       "conversionMethod": "pd.DataFrame",
       "ref": "795e463f-c276-4bab-b542-2b2ad98fafb7",
       "rows": [
        [
         "0",
         "1.0",
         "2024.0",
         "FPT Plaza 2",
         "40188330.0",
         "2024-01-31 00:00:00"
        ],
        [
         "1",
         "2.0",
         "2024.0",
         "FPT Plaza 2",
         "0.0",
         "2024-02-29 00:00:00"
        ],
        [
         "2",
         "3.0",
         "2024.0",
         "FPT Plaza 2",
         "0.0",
         "2024-03-31 00:00:00"
        ],
        [
         "3",
         "4.0",
         "2024.0",
         "FPT Plaza 2",
         "0.0",
         "2024-04-30 00:00:00"
        ],
        [
         "4",
         "5.0",
         "2024.0",
         "FPT Plaza 2",
         "0.0",
         "2024-05-31 00:00:00"
        ],
        [
         "5",
         "6.0",
         "2024.0",
         "FPT Plaza 2",
         "0.0",
         "2024-06-30 00:00:00"
        ],
        [
         "6",
         "7.0",
         "2024.0",
         "FPT Plaza 2",
         "0.0",
         "2024-07-31 00:00:00"
        ],
        [
         "7",
         "8.0",
         "2024.0",
         "FPT Plaza 2",
         "0.0",
         "2024-08-31 00:00:00"
        ],
        [
         "8",
         "9.0",
         "2024.0",
         "FPT Plaza 2",
         "0.0",
         "2024-09-30 00:00:00"
        ],
        [
         "9",
         "10.0",
         "2024.0",
         "FPT Plaza 2",
         "0.0",
         "2024-10-31 00:00:00"
        ],
        [
         "10",
         "11.0",
         "2024.0",
         "FPT Plaza 2",
         "0.0",
         "2024-11-30 00:00:00"
        ],
        [
         "11",
         "12.0",
         "2024.0",
         "FPT Plaza 2",
         "0.0",
         "2024-12-31 00:00:00"
        ],
        [
         "12",
         "1.0",
         "2025.0",
         "FPT Plaza 2",
         "0.0",
         "2025-01-31 00:00:00"
        ],
        [
         "13",
         "2.0",
         "2025.0",
         "FPT Plaza 2",
         "0.0",
         "2025-02-28 00:00:00"
        ],
        [
         "14",
         "1.0",
         "2024.0",
         "FPT 3",
         "0.0",
         "2024-01-31 00:00:00"
        ],
        [
         "15",
         "2.0",
         "2024.0",
         "FPT 3",
         "0.0",
         "2024-02-29 00:00:00"
        ],
        [
         "16",
         "3.0",
         "2024.0",
         "FPT 3",
         "0.0",
         "2024-03-31 00:00:00"
        ],
        [
         "17",
         "4.0",
         "2024.0",
         "FPT 3",
         "0.0",
         "2024-04-30 00:00:00"
        ],
        [
         "18",
         "5.0",
         "2024.0",
         "FPT 3",
         "0.0",
         "2024-05-31 00:00:00"
        ],
        [
         "19",
         "6.0",
         "2024.0",
         "FPT 3",
         "0.0",
         "2024-06-30 00:00:00"
        ],
        [
         "20",
         "7.0",
         "2024.0",
         "FPT 3",
         "0.0",
         "2024-07-31 00:00:00"
        ],
        [
         "21",
         "8.0",
         "2024.0",
         "FPT 3",
         "0.0",
         "2024-08-31 00:00:00"
        ],
        [
         "22",
         "9.0",
         "2024.0",
         "FPT 3",
         "0.0",
         "2024-09-30 00:00:00"
        ],
        [
         "23",
         "10.0",
         "2024.0",
         "FPT 3",
         "0.0",
         "2024-10-31 00:00:00"
        ],
        [
         "24",
         "11.0",
         "2024.0",
         "FPT 3",
         "61884355.0",
         "2024-11-30 00:00:00"
        ],
        [
         "25",
         "12.0",
         "2024.0",
         "FPT 3",
         "0.0",
         "2024-12-31 00:00:00"
        ],
        [
         "26",
         "1.0",
         "2025.0",
         "FPT 3",
         "0.0",
         "2025-01-31 00:00:00"
        ],
        [
         "27",
         "2.0",
         "2025.0",
         "FPT 3",
         "0.0",
         "2025-02-28 00:00:00"
        ],
        [
         "28",
         "1.0",
         "2024.0",
         "The Sea - Sunset Town",
         "0.0",
         "2024-01-31 00:00:00"
        ],
        [
         "29",
         "2.0",
         "2024.0",
         "The Sea - Sunset Town",
         "0.0",
         "2024-02-29 00:00:00"
        ],
        [
         "30",
         "3.0",
         "2024.0",
         "The Sea - Sunset Town",
         "55565590.177999996",
         "2024-03-31 00:00:00"
        ],
        [
         "31",
         "4.0",
         "2024.0",
         "The Sea - Sunset Town",
         "0.0",
         "2024-04-30 00:00:00"
        ],
        [
         "32",
         "5.0",
         "2024.0",
         "The Sea - Sunset Town",
         "0.0",
         "2024-05-31 00:00:00"
        ],
        [
         "33",
         "6.0",
         "2024.0",
         "The Sea - Sunset Town",
         "0.0",
         "2024-06-30 00:00:00"
        ],
        [
         "34",
         "7.0",
         "2024.0",
         "The Sea - Sunset Town",
         "0.0",
         "2024-07-31 00:00:00"
        ],
        [
         "35",
         "8.0",
         "2024.0",
         "The Sea - Sunset Town",
         "0.0",
         "2024-08-31 00:00:00"
        ],
        [
         "36",
         "9.0",
         "2024.0",
         "The Sea - Sunset Town",
         "0.0",
         "2024-09-30 00:00:00"
        ],
        [
         "37",
         "10.0",
         "2024.0",
         "The Sea - Sunset Town",
         "0.0",
         "2024-10-31 00:00:00"
        ],
        [
         "38",
         "11.0",
         "2024.0",
         "The Sea - Sunset Town",
         "0.0",
         "2024-11-30 00:00:00"
        ],
        [
         "39",
         "12.0",
         "2024.0",
         "The Sea - Sunset Town",
         "0.0",
         "2024-12-31 00:00:00"
        ],
        [
         "40",
         "1.0",
         "2025.0",
         "The Sea - Sunset Town",
         "0.0",
         "2025-01-31 00:00:00"
        ],
        [
         "41",
         "2.0",
         "2025.0",
         "The Sea - Sunset Town",
         "0.0",
         "2025-02-28 00:00:00"
        ],
        [
         "42",
         "1.0",
         "2024.0",
         "IMPERIA SIGNATURE",
         "0.0",
         "2024-01-31 00:00:00"
        ],
        [
         "43",
         "2.0",
         "2024.0",
         "IMPERIA SIGNATURE",
         "0.0",
         "2024-02-29 00:00:00"
        ],
        [
         "44",
         "3.0",
         "2024.0",
         "IMPERIA SIGNATURE",
         "0.0",
         "2024-03-31 00:00:00"
        ],
        [
         "45",
         "4.0",
         "2024.0",
         "IMPERIA SIGNATURE",
         "0.0",
         "2024-04-30 00:00:00"
        ],
        [
         "46",
         "5.0",
         "2024.0",
         "IMPERIA SIGNATURE",
         "0.0",
         "2024-05-31 00:00:00"
        ],
        [
         "47",
         "6.0",
         "2024.0",
         "IMPERIA SIGNATURE",
         "0.0",
         "2024-06-30 00:00:00"
        ],
        [
         "48",
         "7.0",
         "2024.0",
         "IMPERIA SIGNATURE",
         "0.0",
         "2024-07-31 00:00:00"
        ],
        [
         "49",
         "8.0",
         "2024.0",
         "IMPERIA SIGNATURE",
         "0.0",
         "2024-08-31 00:00:00"
        ]
       ],
       "shape": {
        "columns": 5,
        "rows": 322
       }
      },
      "text/html": [
       "<div>\n",
       "<style scoped>\n",
       "    .dataframe tbody tr th:only-of-type {\n",
       "        vertical-align: middle;\n",
       "    }\n",
       "\n",
       "    .dataframe tbody tr th {\n",
       "        vertical-align: top;\n",
       "    }\n",
       "\n",
       "    .dataframe thead th {\n",
       "        text-align: right;\n",
       "    }\n",
       "</style>\n",
       "<table border=\"1\" class=\"dataframe\">\n",
       "  <thead>\n",
       "    <tr style=\"text-align: right;\">\n",
       "      <th></th>\n",
       "      <th>month</th>\n",
       "      <th>year</th>\n",
       "      <th>project</th>\n",
       "      <th>cogs</th>\n",
       "      <th>date</th>\n",
       "    </tr>\n",
       "  </thead>\n",
       "  <tbody>\n",
       "    <tr>\n",
       "      <th>0</th>\n",
       "      <td>1.0</td>\n",
       "      <td>2024.0</td>\n",
       "      <td>FPT Plaza 2</td>\n",
       "      <td>40188330.0</td>\n",
       "      <td>2024-01-31</td>\n",
       "    </tr>\n",
       "    <tr>\n",
       "      <th>1</th>\n",
       "      <td>2.0</td>\n",
       "      <td>2024.0</td>\n",
       "      <td>FPT Plaza 2</td>\n",
       "      <td>0.0</td>\n",
       "      <td>2024-02-29</td>\n",
       "    </tr>\n",
       "    <tr>\n",
       "      <th>2</th>\n",
       "      <td>3.0</td>\n",
       "      <td>2024.0</td>\n",
       "      <td>FPT Plaza 2</td>\n",
       "      <td>0.0</td>\n",
       "      <td>2024-03-31</td>\n",
       "    </tr>\n",
       "    <tr>\n",
       "      <th>3</th>\n",
       "      <td>4.0</td>\n",
       "      <td>2024.0</td>\n",
       "      <td>FPT Plaza 2</td>\n",
       "      <td>0.0</td>\n",
       "      <td>2024-04-30</td>\n",
       "    </tr>\n",
       "    <tr>\n",
       "      <th>4</th>\n",
       "      <td>5.0</td>\n",
       "      <td>2024.0</td>\n",
       "      <td>FPT Plaza 2</td>\n",
       "      <td>0.0</td>\n",
       "      <td>2024-05-31</td>\n",
       "    </tr>\n",
       "    <tr>\n",
       "      <th>...</th>\n",
       "      <td>...</td>\n",
       "      <td>...</td>\n",
       "      <td>...</td>\n",
       "      <td>...</td>\n",
       "      <td>...</td>\n",
       "    </tr>\n",
       "    <tr>\n",
       "      <th>317</th>\n",
       "      <td>10.0</td>\n",
       "      <td>2024.0</td>\n",
       "      <td>Doanh thu khác</td>\n",
       "      <td>1388889.0</td>\n",
       "      <td>2024-10-31</td>\n",
       "    </tr>\n",
       "    <tr>\n",
       "      <th>318</th>\n",
       "      <td>11.0</td>\n",
       "      <td>2024.0</td>\n",
       "      <td>Doanh thu khác</td>\n",
       "      <td>0.0</td>\n",
       "      <td>2024-11-30</td>\n",
       "    </tr>\n",
       "    <tr>\n",
       "      <th>319</th>\n",
       "      <td>12.0</td>\n",
       "      <td>2024.0</td>\n",
       "      <td>Doanh thu khác</td>\n",
       "      <td>0.0</td>\n",
       "      <td>2024-12-31</td>\n",
       "    </tr>\n",
       "    <tr>\n",
       "      <th>320</th>\n",
       "      <td>1.0</td>\n",
       "      <td>2025.0</td>\n",
       "      <td>Doanh thu khác</td>\n",
       "      <td>0.0</td>\n",
       "      <td>2025-01-31</td>\n",
       "    </tr>\n",
       "    <tr>\n",
       "      <th>321</th>\n",
       "      <td>2.0</td>\n",
       "      <td>2025.0</td>\n",
       "      <td>Doanh thu khác</td>\n",
       "      <td>0.0</td>\n",
       "      <td>2025-02-28</td>\n",
       "    </tr>\n",
       "  </tbody>\n",
       "</table>\n",
       "<p>322 rows × 5 columns</p>\n",
       "</div>"
      ],
      "text/plain": [
       "    month    year         project        cogs       date\n",
       "0     1.0  2024.0     FPT Plaza 2  40188330.0 2024-01-31\n",
       "1     2.0  2024.0     FPT Plaza 2         0.0 2024-02-29\n",
       "2     3.0  2024.0     FPT Plaza 2         0.0 2024-03-31\n",
       "3     4.0  2024.0     FPT Plaza 2         0.0 2024-04-30\n",
       "4     5.0  2024.0     FPT Plaza 2         0.0 2024-05-31\n",
       "..    ...     ...             ...         ...        ...\n",
       "317  10.0  2024.0  Doanh thu khác   1388889.0 2024-10-31\n",
       "318  11.0  2024.0  Doanh thu khác         0.0 2024-11-30\n",
       "319  12.0  2024.0  Doanh thu khác         0.0 2024-12-31\n",
       "320   1.0  2025.0  Doanh thu khác         0.0 2025-01-31\n",
       "321   2.0  2025.0  Doanh thu khác         0.0 2025-02-28\n",
       "\n",
       "[322 rows x 5 columns]"
      ]
     },
     "execution_count": 5,
     "metadata": {},
     "output_type": "execute_result"
    }
   ],
   "source": [
    "cogs_df"
   ]
  },
  {
   "cell_type": "code",
   "execution_count": 28,
   "id": "74695a91",
   "metadata": {},
   "outputs": [
    {
     "data": {
      "application/vnd.microsoft.datawrangler.viewer.v0+json": {
       "columns": [
        {
         "name": "index",
         "rawType": "int64",
         "type": "integer"
        },
        {
         "name": "month",
         "rawType": "object",
         "type": "unknown"
        },
        {
         "name": "year",
         "rawType": "object",
         "type": "unknown"
        },
        {
         "name": "project",
         "rawType": "object",
         "type": "string"
        },
        {
         "name": "cogs",
         "rawType": "object",
         "type": "unknown"
        },
        {
         "name": "date",
         "rawType": "datetime64[ns]",
         "type": "datetime"
        }
       ],
       "conversionMethod": "pd.DataFrame",
       "ref": "60304ff3-dc4d-47ee-b7d8-6fc26dd308d4",
       "rows": [
        [
         "0",
         "1.0",
         "2024.0",
         "FPT Plaza 2",
         "40188330.0",
         "2024-01-31 00:00:00"
        ],
        [
         "1",
         "2.0",
         "2024.0",
         "FPT Plaza 2",
         "0.0",
         "2024-02-29 00:00:00"
        ],
        [
         "2",
         "3.0",
         "2024.0",
         "FPT Plaza 2",
         "0.0",
         "2024-03-31 00:00:00"
        ],
        [
         "3",
         "4.0",
         "2024.0",
         "FPT Plaza 2",
         "0.0",
         "2024-04-30 00:00:00"
        ],
        [
         "4",
         "5.0",
         "2024.0",
         "FPT Plaza 2",
         "0.0",
         "2024-05-31 00:00:00"
        ],
        [
         "5",
         "6.0",
         "2024.0",
         "FPT Plaza 2",
         "0.0",
         "2024-06-30 00:00:00"
        ],
        [
         "6",
         "7.0",
         "2024.0",
         "FPT Plaza 2",
         "0.0",
         "2024-07-31 00:00:00"
        ],
        [
         "7",
         "8.0",
         "2024.0",
         "FPT Plaza 2",
         "0.0",
         "2024-08-31 00:00:00"
        ],
        [
         "8",
         "9.0",
         "2024.0",
         "FPT Plaza 2",
         "0.0",
         "2024-09-30 00:00:00"
        ],
        [
         "9",
         "10.0",
         "2024.0",
         "FPT Plaza 2",
         "0.0",
         "2024-10-31 00:00:00"
        ],
        [
         "10",
         "11.0",
         "2024.0",
         "FPT Plaza 2",
         "0.0",
         "2024-11-30 00:00:00"
        ],
        [
         "11",
         "12.0",
         "2024.0",
         "FPT Plaza 2",
         "0.0",
         "2024-12-31 00:00:00"
        ],
        [
         "12",
         "1.0",
         "2025.0",
         "FPT Plaza 2",
         "0.0",
         "2025-01-31 00:00:00"
        ],
        [
         "13",
         "2.0",
         "2025.0",
         "FPT Plaza 2",
         "0.0",
         "2025-02-28 00:00:00"
        ],
        [
         "14",
         "1.0",
         "2024.0",
         "FPT 3",
         "0.0",
         "2024-01-31 00:00:00"
        ],
        [
         "15",
         "2.0",
         "2024.0",
         "FPT 3",
         "0.0",
         "2024-02-29 00:00:00"
        ],
        [
         "16",
         "3.0",
         "2024.0",
         "FPT 3",
         "0.0",
         "2024-03-31 00:00:00"
        ],
        [
         "17",
         "4.0",
         "2024.0",
         "FPT 3",
         "0.0",
         "2024-04-30 00:00:00"
        ],
        [
         "18",
         "5.0",
         "2024.0",
         "FPT 3",
         "0.0",
         "2024-05-31 00:00:00"
        ],
        [
         "19",
         "6.0",
         "2024.0",
         "FPT 3",
         "0.0",
         "2024-06-30 00:00:00"
        ],
        [
         "20",
         "7.0",
         "2024.0",
         "FPT 3",
         "0.0",
         "2024-07-31 00:00:00"
        ],
        [
         "21",
         "8.0",
         "2024.0",
         "FPT 3",
         "0.0",
         "2024-08-31 00:00:00"
        ],
        [
         "22",
         "9.0",
         "2024.0",
         "FPT 3",
         "0.0",
         "2024-09-30 00:00:00"
        ],
        [
         "23",
         "10.0",
         "2024.0",
         "FPT 3",
         "0.0",
         "2024-10-31 00:00:00"
        ],
        [
         "24",
         "11.0",
         "2024.0",
         "FPT 3",
         "61884355.0",
         "2024-11-30 00:00:00"
        ],
        [
         "25",
         "12.0",
         "2024.0",
         "FPT 3",
         "0.0",
         "2024-12-31 00:00:00"
        ],
        [
         "26",
         "1.0",
         "2025.0",
         "FPT 3",
         "0.0",
         "2025-01-31 00:00:00"
        ],
        [
         "27",
         "2.0",
         "2025.0",
         "FPT 3",
         "0.0",
         "2025-02-28 00:00:00"
        ],
        [
         "28",
         "1.0",
         "2024.0",
         "The Sea - Sunset Town",
         "0.0",
         "2024-01-31 00:00:00"
        ],
        [
         "29",
         "2.0",
         "2024.0",
         "The Sea - Sunset Town",
         "0.0",
         "2024-02-29 00:00:00"
        ],
        [
         "30",
         "3.0",
         "2024.0",
         "The Sea - Sunset Town",
         "55565590.177999996",
         "2024-03-31 00:00:00"
        ],
        [
         "31",
         "4.0",
         "2024.0",
         "The Sea - Sunset Town",
         "0.0",
         "2024-04-30 00:00:00"
        ],
        [
         "32",
         "5.0",
         "2024.0",
         "The Sea - Sunset Town",
         "0.0",
         "2024-05-31 00:00:00"
        ],
        [
         "33",
         "6.0",
         "2024.0",
         "The Sea - Sunset Town",
         "0.0",
         "2024-06-30 00:00:00"
        ],
        [
         "34",
         "7.0",
         "2024.0",
         "The Sea - Sunset Town",
         "0.0",
         "2024-07-31 00:00:00"
        ],
        [
         "35",
         "8.0",
         "2024.0",
         "The Sea - Sunset Town",
         "0.0",
         "2024-08-31 00:00:00"
        ],
        [
         "36",
         "9.0",
         "2024.0",
         "The Sea - Sunset Town",
         "0.0",
         "2024-09-30 00:00:00"
        ],
        [
         "37",
         "10.0",
         "2024.0",
         "The Sea - Sunset Town",
         "0.0",
         "2024-10-31 00:00:00"
        ],
        [
         "38",
         "11.0",
         "2024.0",
         "The Sea - Sunset Town",
         "0.0",
         "2024-11-30 00:00:00"
        ],
        [
         "39",
         "12.0",
         "2024.0",
         "The Sea - Sunset Town",
         "0.0",
         "2024-12-31 00:00:00"
        ],
        [
         "40",
         "1.0",
         "2025.0",
         "The Sea - Sunset Town",
         "0.0",
         "2025-01-31 00:00:00"
        ],
        [
         "41",
         "2.0",
         "2025.0",
         "The Sea - Sunset Town",
         "0.0",
         "2025-02-28 00:00:00"
        ],
        [
         "42",
         "1.0",
         "2024.0",
         "IMPERIA SIGNATURE",
         "0.0",
         "2024-01-31 00:00:00"
        ],
        [
         "43",
         "2.0",
         "2024.0",
         "IMPERIA SIGNATURE",
         "0.0",
         "2024-02-29 00:00:00"
        ],
        [
         "44",
         "3.0",
         "2024.0",
         "IMPERIA SIGNATURE",
         "0.0",
         "2024-03-31 00:00:00"
        ],
        [
         "45",
         "4.0",
         "2024.0",
         "IMPERIA SIGNATURE",
         "0.0",
         "2024-04-30 00:00:00"
        ],
        [
         "46",
         "5.0",
         "2024.0",
         "IMPERIA SIGNATURE",
         "0.0",
         "2024-05-31 00:00:00"
        ],
        [
         "47",
         "6.0",
         "2024.0",
         "IMPERIA SIGNATURE",
         "0.0",
         "2024-06-30 00:00:00"
        ],
        [
         "48",
         "7.0",
         "2024.0",
         "IMPERIA SIGNATURE",
         "0.0",
         "2024-07-31 00:00:00"
        ],
        [
         "49",
         "8.0",
         "2024.0",
         "IMPERIA SIGNATURE",
         "0.0",
         "2024-08-31 00:00:00"
        ]
       ],
       "shape": {
        "columns": 5,
        "rows": 322
       }
      },
      "text/html": [
       "<div>\n",
       "<style scoped>\n",
       "    .dataframe tbody tr th:only-of-type {\n",
       "        vertical-align: middle;\n",
       "    }\n",
       "\n",
       "    .dataframe tbody tr th {\n",
       "        vertical-align: top;\n",
       "    }\n",
       "\n",
       "    .dataframe thead th {\n",
       "        text-align: right;\n",
       "    }\n",
       "</style>\n",
       "<table border=\"1\" class=\"dataframe\">\n",
       "  <thead>\n",
       "    <tr style=\"text-align: right;\">\n",
       "      <th></th>\n",
       "      <th>month</th>\n",
       "      <th>year</th>\n",
       "      <th>project</th>\n",
       "      <th>cogs</th>\n",
       "      <th>date</th>\n",
       "    </tr>\n",
       "  </thead>\n",
       "  <tbody>\n",
       "    <tr>\n",
       "      <th>0</th>\n",
       "      <td>1.0</td>\n",
       "      <td>2024.0</td>\n",
       "      <td>FPT Plaza 2</td>\n",
       "      <td>40188330.0</td>\n",
       "      <td>2024-01-31</td>\n",
       "    </tr>\n",
       "    <tr>\n",
       "      <th>1</th>\n",
       "      <td>2.0</td>\n",
       "      <td>2024.0</td>\n",
       "      <td>FPT Plaza 2</td>\n",
       "      <td>0.0</td>\n",
       "      <td>2024-02-29</td>\n",
       "    </tr>\n",
       "    <tr>\n",
       "      <th>2</th>\n",
       "      <td>3.0</td>\n",
       "      <td>2024.0</td>\n",
       "      <td>FPT Plaza 2</td>\n",
       "      <td>0.0</td>\n",
       "      <td>2024-03-31</td>\n",
       "    </tr>\n",
       "    <tr>\n",
       "      <th>3</th>\n",
       "      <td>4.0</td>\n",
       "      <td>2024.0</td>\n",
       "      <td>FPT Plaza 2</td>\n",
       "      <td>0.0</td>\n",
       "      <td>2024-04-30</td>\n",
       "    </tr>\n",
       "    <tr>\n",
       "      <th>4</th>\n",
       "      <td>5.0</td>\n",
       "      <td>2024.0</td>\n",
       "      <td>FPT Plaza 2</td>\n",
       "      <td>0.0</td>\n",
       "      <td>2024-05-31</td>\n",
       "    </tr>\n",
       "    <tr>\n",
       "      <th>...</th>\n",
       "      <td>...</td>\n",
       "      <td>...</td>\n",
       "      <td>...</td>\n",
       "      <td>...</td>\n",
       "      <td>...</td>\n",
       "    </tr>\n",
       "    <tr>\n",
       "      <th>317</th>\n",
       "      <td>10.0</td>\n",
       "      <td>2024.0</td>\n",
       "      <td>Doanh thu khác</td>\n",
       "      <td>1388889.0</td>\n",
       "      <td>2024-10-31</td>\n",
       "    </tr>\n",
       "    <tr>\n",
       "      <th>318</th>\n",
       "      <td>11.0</td>\n",
       "      <td>2024.0</td>\n",
       "      <td>Doanh thu khác</td>\n",
       "      <td>0.0</td>\n",
       "      <td>2024-11-30</td>\n",
       "    </tr>\n",
       "    <tr>\n",
       "      <th>319</th>\n",
       "      <td>12.0</td>\n",
       "      <td>2024.0</td>\n",
       "      <td>Doanh thu khác</td>\n",
       "      <td>0.0</td>\n",
       "      <td>2024-12-31</td>\n",
       "    </tr>\n",
       "    <tr>\n",
       "      <th>320</th>\n",
       "      <td>1.0</td>\n",
       "      <td>2025.0</td>\n",
       "      <td>Doanh thu khác</td>\n",
       "      <td>0.0</td>\n",
       "      <td>2025-01-31</td>\n",
       "    </tr>\n",
       "    <tr>\n",
       "      <th>321</th>\n",
       "      <td>2.0</td>\n",
       "      <td>2025.0</td>\n",
       "      <td>Doanh thu khác</td>\n",
       "      <td>0.0</td>\n",
       "      <td>2025-02-28</td>\n",
       "    </tr>\n",
       "  </tbody>\n",
       "</table>\n",
       "<p>322 rows × 5 columns</p>\n",
       "</div>"
      ],
      "text/plain": [
       "    month    year         project        cogs       date\n",
       "0     1.0  2024.0     FPT Plaza 2  40188330.0 2024-01-31\n",
       "1     2.0  2024.0     FPT Plaza 2         0.0 2024-02-29\n",
       "2     3.0  2024.0     FPT Plaza 2         0.0 2024-03-31\n",
       "3     4.0  2024.0     FPT Plaza 2         0.0 2024-04-30\n",
       "4     5.0  2024.0     FPT Plaza 2         0.0 2024-05-31\n",
       "..    ...     ...             ...         ...        ...\n",
       "317  10.0  2024.0  Doanh thu khác   1388889.0 2024-10-31\n",
       "318  11.0  2024.0  Doanh thu khác         0.0 2024-11-30\n",
       "319  12.0  2024.0  Doanh thu khác         0.0 2024-12-31\n",
       "320   1.0  2025.0  Doanh thu khác         0.0 2025-01-31\n",
       "321   2.0  2025.0  Doanh thu khác         0.0 2025-02-28\n",
       "\n",
       "[322 rows x 5 columns]"
      ]
     },
     "execution_count": 28,
     "metadata": {},
     "output_type": "execute_result"
    }
   ],
   "source": [
    "cogs_df"
   ]
  },
  {
   "cell_type": "code",
   "execution_count": 6,
   "id": "2ea56046",
   "metadata": {},
   "outputs": [
    {
     "data": {
      "application/vnd.microsoft.datawrangler.viewer.v0+json": {
       "columns": [
        {
         "name": "index",
         "rawType": "int64",
         "type": "integer"
        },
        {
         "name": "month",
         "rawType": "object",
         "type": "unknown"
        },
        {
         "name": "year",
         "rawType": "object",
         "type": "unknown"
        },
        {
         "name": "project",
         "rawType": "object",
         "type": "string"
        },
        {
         "name": "revenue",
         "rawType": "object",
         "type": "unknown"
        },
        {
         "name": "date",
         "rawType": "datetime64[ns]",
         "type": "datetime"
        },
        {
         "name": "cogs",
         "rawType": "object",
         "type": "unknown"
        }
       ],
       "conversionMethod": "pd.DataFrame",
       "ref": "c60ce07b-86a2-4f09-915b-57128aedd6ae",
       "rows": [
        [
         "0",
         "1.0",
         "2024.0",
         "Doanh thu cho thuê HCM",
         "89091345.0",
         "2024-01-31 00:00:00",
         null
        ],
        [
         "1",
         "1.0",
         "2024.0",
         "Doanh thu khác",
         null,
         "2024-01-31 00:00:00",
         "23892796.0"
        ],
        [
         "2",
         "1.0",
         "2024.0",
         "FPT 3",
         null,
         "2024-01-31 00:00:00",
         "0.0"
        ],
        [
         "3",
         "1.0",
         "2024.0",
         "FPT Plaza 2",
         "57411900.0",
         "2024-01-31 00:00:00",
         "40188330.0"
        ],
        [
         "4",
         "1.0",
         "2024.0",
         "Giá vốn VP HCM",
         null,
         "2024-01-31 00:00:00",
         "89649915.0"
        ],
        [
         "5",
         "1.0",
         "2024.0",
         "IMPERIA SIGNATURE",
         null,
         "2024-01-31 00:00:00",
         "0.0"
        ],
        [
         "6",
         "1.0",
         "2024.0",
         "LUMI HANOI",
         null,
         "2024-01-31 00:00:00",
         "0.0"
        ],
        [
         "7",
         "1.0",
         "2024.0",
         "SGB",
         null,
         "2024-01-31 00:00:00",
         "0.0"
        ],
        [
         "8",
         "1.0",
         "2024.0",
         "SUN PONTE RESIDENCE",
         "173266539.0",
         "2024-01-31 00:00:00",
         "121286577.3"
        ],
        [
         "9",
         "1.0",
         "2024.0",
         "SUN RIVERSIDE VILLAGE SẦM SƠN",
         null,
         "2024-01-31 00:00:00",
         "0.0"
        ],
        [
         "10",
         "1.0",
         "2024.0",
         "SUN URBAN CITY",
         null,
         "2024-01-31 00:00:00",
         "0.0"
        ],
        [
         "11",
         "1.0",
         "2024.0",
         "Sun Cosmo Residence Đà Nẵng",
         null,
         "2024-01-31 00:00:00",
         "0.0"
        ],
        [
         "12",
         "1.0",
         "2024.0",
         "Sun Pathway",
         null,
         "2024-01-31 00:00:00",
         "0.0"
        ],
        [
         "13",
         "1.0",
         "2024.0",
         "Sun Symphony Residences",
         null,
         "2024-01-31 00:00:00",
         "0.0"
        ],
        [
         "14",
         "1.0",
         "2024.0",
         "THE MIAMI - GS5",
         null,
         "2024-01-31 00:00:00",
         "0.0"
        ],
        [
         "15",
         "1.0",
         "2024.0",
         "The Panoma",
         null,
         "2024-01-31 00:00:00",
         "0.0"
        ],
        [
         "16",
         "1.0",
         "2024.0",
         "The Sea - Sunset Town",
         null,
         "2024-01-31 00:00:00",
         "0.0"
        ],
        [
         "17",
         "1.0",
         "2024.0",
         "The Senique",
         null,
         "2024-01-31 00:00:00",
         "0.0"
        ],
        [
         "18",
         "1.0",
         "2024.0",
         "The Sola Park",
         null,
         "2024-01-31 00:00:00",
         null
        ],
        [
         "19",
         "1.0",
         "2024.0",
         "The Victoria",
         null,
         "2024-01-31 00:00:00",
         null
        ],
        [
         "20",
         "1.0",
         "2024.0",
         "Thưởng nóng",
         "13636364.0",
         "2024-01-31 00:00:00",
         "13636363.0"
        ],
        [
         "21",
         "1.0",
         "2024.0",
         "Vinhomes Global Gate",
         null,
         "2024-01-31 00:00:00",
         null
        ],
        [
         "22",
         "1.0",
         "2024.0",
         "Vinhomes Royal Island",
         null,
         "2024-01-31 00:00:00",
         null
        ],
        [
         "23",
         "1.0",
         "2024.0",
         "Vinhomes Royal Residences",
         null,
         "2024-01-31 00:00:00",
         "0.0"
        ],
        [
         "24",
         "1.0",
         "2024.0",
         "total",
         "333406148.0",
         "2024-01-31 00:00:00",
         null
        ],
        [
         "25",
         "1.0",
         "2025.0",
         "Doanh thu cho thuê HCM",
         "0.0",
         "2025-01-31 00:00:00",
         null
        ],
        [
         "26",
         "1.0",
         "2025.0",
         "Doanh thu khác",
         null,
         "2025-01-31 00:00:00",
         "0.0"
        ],
        [
         "27",
         "1.0",
         "2025.0",
         "FPT 3",
         "0.0",
         "2025-01-31 00:00:00",
         "0.0"
        ],
        [
         "28",
         "1.0",
         "2025.0",
         "FPT Plaza 2",
         "0.0",
         "2025-01-31 00:00:00",
         "0.0"
        ],
        [
         "29",
         "1.0",
         "2025.0",
         "Giá vốn VP HCM",
         null,
         "2025-01-31 00:00:00",
         "0.0"
        ],
        [
         "30",
         "1.0",
         "2025.0",
         "IMPERIA SIGNATURE",
         "182381862.6",
         "2025-01-31 00:00:00",
         "127667303.82"
        ],
        [
         "31",
         "1.0",
         "2025.0",
         "LUMI HANOI",
         "0.0",
         "2025-01-31 00:00:00",
         "0.0"
        ],
        [
         "32",
         "1.0",
         "2025.0",
         "SGB",
         "0.0",
         "2025-01-31 00:00:00",
         "0.0"
        ],
        [
         "33",
         "1.0",
         "2025.0",
         "SUN PONTE RESIDENCE",
         "0.0",
         "2025-01-31 00:00:00",
         "0.0"
        ],
        [
         "34",
         "1.0",
         "2025.0",
         "SUN RIVERSIDE VILLAGE SẦM SƠN",
         "0.0",
         "2025-01-31 00:00:00",
         "0.0"
        ],
        [
         "35",
         "1.0",
         "2025.0",
         "SUN URBAN CITY",
         "0.0",
         "2025-01-31 00:00:00",
         "0.0"
        ],
        [
         "36",
         "1.0",
         "2025.0",
         "Sun Cosmo Residence Đà Nẵng",
         "0.0",
         "2025-01-31 00:00:00",
         "0.0"
        ],
        [
         "37",
         "1.0",
         "2025.0",
         "Sun Pathway",
         "0.0",
         "2025-01-31 00:00:00",
         "0.0"
        ],
        [
         "38",
         "1.0",
         "2025.0",
         "Sun Symphony Residences",
         "356977149.603",
         "2025-01-31 00:00:00",
         "249884004.72209996"
        ],
        [
         "39",
         "1.0",
         "2025.0",
         "THE MIAMI - GS5",
         "0.0",
         "2025-01-31 00:00:00",
         "0.0"
        ],
        [
         "40",
         "1.0",
         "2025.0",
         "The Panoma",
         "0.0",
         "2025-01-31 00:00:00",
         "0.0"
        ],
        [
         "41",
         "1.0",
         "2025.0",
         "The Sea - Sunset Town",
         "0.0",
         "2025-01-31 00:00:00",
         "0.0"
        ],
        [
         "42",
         "1.0",
         "2025.0",
         "The Senique",
         "0.0",
         "2025-01-31 00:00:00",
         "0.0"
        ],
        [
         "43",
         "1.0",
         "2025.0",
         "The Sola Park",
         "0.0",
         "2025-01-31 00:00:00",
         "0.0"
        ],
        [
         "44",
         "1.0",
         "2025.0",
         "The Victoria",
         "0.0",
         "2025-01-31 00:00:00",
         "0.0"
        ],
        [
         "45",
         "1.0",
         "2025.0",
         "Thưởng nóng",
         "144090908.0",
         "2025-01-31 00:00:00",
         "50000000.0"
        ],
        [
         "46",
         "1.0",
         "2025.0",
         "Vinhomes Global Gate",
         "0.0",
         "2025-01-31 00:00:00",
         "0.0"
        ],
        [
         "47",
         "1.0",
         "2025.0",
         "Vinhomes Royal Island",
         "0.0",
         "2025-01-31 00:00:00",
         "0.0"
        ],
        [
         "48",
         "1.0",
         "2025.0",
         "Vinhomes Royal Residences",
         "0.0",
         "2025-01-31 00:00:00",
         "0.0"
        ],
        [
         "49",
         "1.0",
         "2025.0",
         "total",
         "683449920.203",
         "2025-01-31 00:00:00",
         null
        ]
       ],
       "shape": {
        "columns": 6,
        "rows": 350
       }
      },
      "text/html": [
       "<div>\n",
       "<style scoped>\n",
       "    .dataframe tbody tr th:only-of-type {\n",
       "        vertical-align: middle;\n",
       "    }\n",
       "\n",
       "    .dataframe tbody tr th {\n",
       "        vertical-align: top;\n",
       "    }\n",
       "\n",
       "    .dataframe thead th {\n",
       "        text-align: right;\n",
       "    }\n",
       "</style>\n",
       "<table border=\"1\" class=\"dataframe\">\n",
       "  <thead>\n",
       "    <tr style=\"text-align: right;\">\n",
       "      <th></th>\n",
       "      <th>month</th>\n",
       "      <th>year</th>\n",
       "      <th>project</th>\n",
       "      <th>revenue</th>\n",
       "      <th>date</th>\n",
       "      <th>cogs</th>\n",
       "    </tr>\n",
       "  </thead>\n",
       "  <tbody>\n",
       "    <tr>\n",
       "      <th>0</th>\n",
       "      <td>1.0</td>\n",
       "      <td>2024.0</td>\n",
       "      <td>Doanh thu cho thuê HCM</td>\n",
       "      <td>89091345.0</td>\n",
       "      <td>2024-01-31</td>\n",
       "      <td>NaN</td>\n",
       "    </tr>\n",
       "    <tr>\n",
       "      <th>1</th>\n",
       "      <td>1.0</td>\n",
       "      <td>2024.0</td>\n",
       "      <td>Doanh thu khác</td>\n",
       "      <td>NaN</td>\n",
       "      <td>2024-01-31</td>\n",
       "      <td>23892796.0</td>\n",
       "    </tr>\n",
       "    <tr>\n",
       "      <th>2</th>\n",
       "      <td>1.0</td>\n",
       "      <td>2024.0</td>\n",
       "      <td>FPT 3</td>\n",
       "      <td>NaN</td>\n",
       "      <td>2024-01-31</td>\n",
       "      <td>0.0</td>\n",
       "    </tr>\n",
       "    <tr>\n",
       "      <th>3</th>\n",
       "      <td>1.0</td>\n",
       "      <td>2024.0</td>\n",
       "      <td>FPT Plaza 2</td>\n",
       "      <td>57411900.0</td>\n",
       "      <td>2024-01-31</td>\n",
       "      <td>40188330.0</td>\n",
       "    </tr>\n",
       "    <tr>\n",
       "      <th>4</th>\n",
       "      <td>1.0</td>\n",
       "      <td>2024.0</td>\n",
       "      <td>Giá vốn VP HCM</td>\n",
       "      <td>NaN</td>\n",
       "      <td>2024-01-31</td>\n",
       "      <td>89649915.0</td>\n",
       "    </tr>\n",
       "    <tr>\n",
       "      <th>...</th>\n",
       "      <td>...</td>\n",
       "      <td>...</td>\n",
       "      <td>...</td>\n",
       "      <td>...</td>\n",
       "      <td>...</td>\n",
       "      <td>...</td>\n",
       "    </tr>\n",
       "    <tr>\n",
       "      <th>345</th>\n",
       "      <td>12.0</td>\n",
       "      <td>2024.0</td>\n",
       "      <td>Thưởng nóng</td>\n",
       "      <td>0.0</td>\n",
       "      <td>2024-12-31</td>\n",
       "      <td>74090909.0</td>\n",
       "    </tr>\n",
       "    <tr>\n",
       "      <th>346</th>\n",
       "      <td>12.0</td>\n",
       "      <td>2024.0</td>\n",
       "      <td>Vinhomes Global Gate</td>\n",
       "      <td>0.0</td>\n",
       "      <td>2024-12-31</td>\n",
       "      <td>0.0</td>\n",
       "    </tr>\n",
       "    <tr>\n",
       "      <th>347</th>\n",
       "      <td>12.0</td>\n",
       "      <td>2024.0</td>\n",
       "      <td>Vinhomes Royal Island</td>\n",
       "      <td>0.0</td>\n",
       "      <td>2024-12-31</td>\n",
       "      <td>0.0</td>\n",
       "    </tr>\n",
       "    <tr>\n",
       "      <th>348</th>\n",
       "      <td>12.0</td>\n",
       "      <td>2024.0</td>\n",
       "      <td>Vinhomes Royal Residences</td>\n",
       "      <td>0.0</td>\n",
       "      <td>2024-12-31</td>\n",
       "      <td>57634393.35</td>\n",
       "    </tr>\n",
       "    <tr>\n",
       "      <th>349</th>\n",
       "      <td>12.0</td>\n",
       "      <td>2024.0</td>\n",
       "      <td>total</td>\n",
       "      <td>10902849307.128</td>\n",
       "      <td>2024-12-31</td>\n",
       "      <td>NaN</td>\n",
       "    </tr>\n",
       "  </tbody>\n",
       "</table>\n",
       "<p>350 rows × 6 columns</p>\n",
       "</div>"
      ],
      "text/plain": [
       "    month    year                    project          revenue       date  \\\n",
       "0     1.0  2024.0     Doanh thu cho thuê HCM       89091345.0 2024-01-31   \n",
       "1     1.0  2024.0             Doanh thu khác              NaN 2024-01-31   \n",
       "2     1.0  2024.0                      FPT 3              NaN 2024-01-31   \n",
       "3     1.0  2024.0                FPT Plaza 2       57411900.0 2024-01-31   \n",
       "4     1.0  2024.0             Giá vốn VP HCM              NaN 2024-01-31   \n",
       "..    ...     ...                        ...              ...        ...   \n",
       "345  12.0  2024.0                Thưởng nóng              0.0 2024-12-31   \n",
       "346  12.0  2024.0       Vinhomes Global Gate              0.0 2024-12-31   \n",
       "347  12.0  2024.0      Vinhomes Royal Island              0.0 2024-12-31   \n",
       "348  12.0  2024.0  Vinhomes Royal Residences              0.0 2024-12-31   \n",
       "349  12.0  2024.0                      total  10902849307.128 2024-12-31   \n",
       "\n",
       "            cogs  \n",
       "0            NaN  \n",
       "1     23892796.0  \n",
       "2            0.0  \n",
       "3     40188330.0  \n",
       "4     89649915.0  \n",
       "..           ...  \n",
       "345   74090909.0  \n",
       "346          0.0  \n",
       "347          0.0  \n",
       "348  57634393.35  \n",
       "349          NaN  \n",
       "\n",
       "[350 rows x 6 columns]"
      ]
     },
     "execution_count": 6,
     "metadata": {},
     "output_type": "execute_result"
    }
   ],
   "source": [
    "pd.merge(rev_df, cogs_df, how='outer')"
   ]
  },
  {
   "cell_type": "code",
   "execution_count": 15,
   "id": "77c8e94a",
   "metadata": {},
   "outputs": [
    {
     "data": {
      "application/vnd.microsoft.datawrangler.viewer.v0+json": {
       "columns": [
        {
         "name": "index",
         "rawType": "int64",
         "type": "integer"
        },
        {
         "name": "month",
         "rawType": "object",
         "type": "unknown"
        },
        {
         "name": "year",
         "rawType": "object",
         "type": "unknown"
        },
        {
         "name": "project",
         "rawType": "object",
         "type": "string"
        },
        {
         "name": "revenue",
         "rawType": "object",
         "type": "unknown"
        },
        {
         "name": "date",
         "rawType": "datetime64[ns]",
         "type": "datetime"
        },
        {
         "name": "cogs",
         "rawType": "object",
         "type": "unknown"
        },
        {
         "name": "CoR",
         "rawType": "object",
         "type": "unknown"
        }
       ],
       "conversionMethod": "pd.DataFrame",
       "ref": "4a5ea84b-f81d-41ec-8929-06a8aa551a7f",
       "rows": [
        [
         "0",
         "1.0",
         "2024.0",
         "total",
         "333406148.0",
         "2024-01-31 00:00:00",
         "288653981.3",
         "0.8657728210218847"
        ],
        [
         "1",
         "2.0",
         "2024.0",
         "total",
         "88749053.0",
         "2024-02-29 00:00:00",
         "103190754.0",
         "1.1627251278951676"
        ],
        [
         "2",
         "3.0",
         "2024.0",
         "total",
         "325324554.15400004",
         "2024-03-31 00:00:00",
         "189604130.408",
         "0.5828153085495243"
        ],
        [
         "3",
         "4.0",
         "2024.0",
         "total",
         "11125519157.978199",
         "2024-04-30 00:00:00",
         "6105671597.0114155",
         "0.5487988030323052"
        ],
        [
         "4",
         "5.0",
         "2024.0",
         "total",
         "8480957529.1652",
         "2024-05-31 00:00:00",
         "4814754753.248005",
         "0.5677135791201081"
        ],
        [
         "5",
         "6.0",
         "2024.0",
         "total",
         "7009143922.650002",
         "2024-06-30 00:00:00",
         "4383817269.261001",
         "0.6254426100589437"
        ],
        [
         "6",
         "7.0",
         "2024.0",
         "total",
         "3752681701.8",
         "2024-07-31 00:00:00",
         "2770334086.882",
         "0.7382278346583964"
        ],
        [
         "7",
         "8.0",
         "2024.0",
         "total",
         "5511126127.71",
         "2024-08-31 00:00:00",
         "3020618164.3645",
         "0.5480945444483297"
        ],
        [
         "8",
         "9.0",
         "2024.0",
         "total",
         "9923808838.904999",
         "2024-09-30 00:00:00",
         "6576453582.76575",
         "0.6626945046526512"
        ],
        [
         "9",
         "10.0",
         "2024.0",
         "total",
         "16667480507.249197",
         "2024-10-31 00:00:00",
         "10742338881.197002",
         "0.6445088612237962"
        ],
        [
         "10",
         "11.0",
         "2024.0",
         "total",
         "4107057676.366505",
         "2024-11-30 00:00:00",
         "2798482521.2985",
         "0.6813837890327132"
        ],
        [
         "11",
         "12.0",
         "2024.0",
         "total",
         "10902849307.128",
         "2024-12-31 00:00:00",
         "5967661498.887801",
         "0.547348801288696"
        ],
        [
         "12",
         "1.0",
         "2025.0",
         "total",
         "683449920.203",
         "2025-01-31 00:00:00",
         "427551308.54209995",
         "0.625578108802921"
        ],
        [
         "13",
         "2.0",
         "2025.0",
         "total",
         "1382445966.785",
         "2025-02-28 00:00:00",
         "969712176.7494999",
         "0.7014467111540359"
        ],
        [
         "14",
         "1.0",
         "2024.0",
         "FPT Plaza 2",
         "57411900.0",
         "2024-01-31 00:00:00",
         "28705950.0",
         "0.5"
        ],
        [
         "15",
         "1.0",
         "2024.0",
         "FPT Plaza 2",
         "57411900.0",
         "2024-01-31 00:00:00",
         "40188330.0",
         "0.7"
        ],
        [
         "16",
         "2.0",
         "2024.0",
         "FPT Plaza 2",
         null,
         "2024-02-29 00:00:00",
         "0.0",
         null
        ],
        [
         "17",
         "2.0",
         "2024.0",
         "FPT Plaza 2",
         null,
         "2024-02-29 00:00:00",
         "0.0",
         null
        ],
        [
         "18",
         "3.0",
         "2024.0",
         "FPT Plaza 2",
         "0.0",
         "2024-03-31 00:00:00",
         "0.0",
         null
        ],
        [
         "19",
         "3.0",
         "2024.0",
         "FPT Plaza 2",
         "0.0",
         "2024-03-31 00:00:00",
         "0.0",
         null
        ],
        [
         "20",
         "4.0",
         "2024.0",
         "FPT Plaza 2",
         "0.0",
         "2024-04-30 00:00:00",
         "0.0",
         null
        ],
        [
         "21",
         "4.0",
         "2024.0",
         "FPT Plaza 2",
         "0.0",
         "2024-04-30 00:00:00",
         "0.0",
         null
        ],
        [
         "22",
         "5.0",
         "2024.0",
         "FPT Plaza 2",
         "0.0",
         "2024-05-31 00:00:00",
         "0.0",
         null
        ],
        [
         "23",
         "5.0",
         "2024.0",
         "FPT Plaza 2",
         "0.0",
         "2024-05-31 00:00:00",
         "0.0",
         null
        ],
        [
         "24",
         "6.0",
         "2024.0",
         "FPT Plaza 2",
         "0.0",
         "2024-06-30 00:00:00",
         "0.0",
         null
        ],
        [
         "25",
         "6.0",
         "2024.0",
         "FPT Plaza 2",
         "0.0",
         "2024-06-30 00:00:00",
         "0.0",
         null
        ],
        [
         "26",
         "7.0",
         "2024.0",
         "FPT Plaza 2",
         "0.0",
         "2024-07-31 00:00:00",
         "0.0",
         null
        ],
        [
         "27",
         "7.0",
         "2024.0",
         "FPT Plaza 2",
         "0.0",
         "2024-07-31 00:00:00",
         "0.0",
         null
        ],
        [
         "28",
         "8.0",
         "2024.0",
         "FPT Plaza 2",
         "0.0",
         "2024-08-31 00:00:00",
         "0.0",
         null
        ],
        [
         "29",
         "8.0",
         "2024.0",
         "FPT Plaza 2",
         "0.0",
         "2024-08-31 00:00:00",
         "0.0",
         null
        ],
        [
         "30",
         "9.0",
         "2024.0",
         "FPT Plaza 2",
         "0.0",
         "2024-09-30 00:00:00",
         "0.0",
         null
        ],
        [
         "31",
         "9.0",
         "2024.0",
         "FPT Plaza 2",
         "0.0",
         "2024-09-30 00:00:00",
         "0.0",
         null
        ],
        [
         "32",
         "10.0",
         "2024.0",
         "FPT Plaza 2",
         "0.0",
         "2024-10-31 00:00:00",
         null,
         null
        ],
        [
         "33",
         "10.0",
         "2024.0",
         "FPT Plaza 2",
         "0.0",
         "2024-10-31 00:00:00",
         "0.0",
         null
        ],
        [
         "34",
         "11.0",
         "2024.0",
         "FPT Plaza 2",
         "0.0",
         "2024-11-30 00:00:00",
         null,
         null
        ],
        [
         "35",
         "11.0",
         "2024.0",
         "FPT Plaza 2",
         "0.0",
         "2024-11-30 00:00:00",
         "0.0",
         null
        ],
        [
         "36",
         "12.0",
         "2024.0",
         "FPT Plaza 2",
         "0.0",
         "2024-12-31 00:00:00",
         null,
         null
        ],
        [
         "37",
         "12.0",
         "2024.0",
         "FPT Plaza 2",
         "0.0",
         "2024-12-31 00:00:00",
         "0.0",
         null
        ],
        [
         "38",
         "1.0",
         "2025.0",
         "FPT Plaza 2",
         "0.0",
         "2025-01-31 00:00:00",
         null,
         null
        ],
        [
         "39",
         "1.0",
         "2025.0",
         "FPT Plaza 2",
         "0.0",
         "2025-01-31 00:00:00",
         "0.0",
         null
        ],
        [
         "40",
         "2.0",
         "2025.0",
         "FPT Plaza 2",
         "0.0",
         "2025-02-28 00:00:00",
         null,
         null
        ],
        [
         "41",
         "2.0",
         "2025.0",
         "FPT Plaza 2",
         "0.0",
         "2025-02-28 00:00:00",
         "0.0",
         null
        ],
        [
         "42",
         "1.0",
         "2024.0",
         "FPT 3",
         null,
         "2024-01-31 00:00:00",
         "0.0",
         null
        ],
        [
         "43",
         "2.0",
         "2024.0",
         "FPT 3",
         null,
         "2024-02-29 00:00:00",
         "0.0",
         null
        ],
        [
         "44",
         "3.0",
         "2024.0",
         "FPT 3",
         "0.0",
         "2024-03-31 00:00:00",
         "0.0",
         null
        ],
        [
         "45",
         "4.0",
         "2024.0",
         "FPT 3",
         "0.0",
         "2024-04-30 00:00:00",
         "0.0",
         null
        ],
        [
         "46",
         "5.0",
         "2024.0",
         "FPT 3",
         "0.0",
         "2024-05-31 00:00:00",
         "0.0",
         null
        ],
        [
         "47",
         "6.0",
         "2024.0",
         "FPT 3",
         "0.0",
         "2024-06-30 00:00:00",
         "0.0",
         null
        ],
        [
         "48",
         "7.0",
         "2024.0",
         "FPT 3",
         "0.0",
         "2024-07-31 00:00:00",
         "0.0",
         null
        ],
        [
         "49",
         "8.0",
         "2024.0",
         "FPT 3",
         "0.0",
         "2024-08-31 00:00:00",
         "0.0",
         null
        ]
       ],
       "shape": {
        "columns": 7,
        "rows": 420
       }
      },
      "text/html": [
       "<div>\n",
       "<style scoped>\n",
       "    .dataframe tbody tr th:only-of-type {\n",
       "        vertical-align: middle;\n",
       "    }\n",
       "\n",
       "    .dataframe tbody tr th {\n",
       "        vertical-align: top;\n",
       "    }\n",
       "\n",
       "    .dataframe thead th {\n",
       "        text-align: right;\n",
       "    }\n",
       "</style>\n",
       "<table border=\"1\" class=\"dataframe\">\n",
       "  <thead>\n",
       "    <tr style=\"text-align: right;\">\n",
       "      <th></th>\n",
       "      <th>month</th>\n",
       "      <th>year</th>\n",
       "      <th>project</th>\n",
       "      <th>revenue</th>\n",
       "      <th>date</th>\n",
       "      <th>cogs</th>\n",
       "      <th>CoR</th>\n",
       "    </tr>\n",
       "  </thead>\n",
       "  <tbody>\n",
       "    <tr>\n",
       "      <th>0</th>\n",
       "      <td>1.0</td>\n",
       "      <td>2024.0</td>\n",
       "      <td>total</td>\n",
       "      <td>333406148.0</td>\n",
       "      <td>2024-01-31</td>\n",
       "      <td>288653981.3</td>\n",
       "      <td>0.865773</td>\n",
       "    </tr>\n",
       "    <tr>\n",
       "      <th>1</th>\n",
       "      <td>2.0</td>\n",
       "      <td>2024.0</td>\n",
       "      <td>total</td>\n",
       "      <td>88749053.0</td>\n",
       "      <td>2024-02-29</td>\n",
       "      <td>103190754.0</td>\n",
       "      <td>1.162725</td>\n",
       "    </tr>\n",
       "    <tr>\n",
       "      <th>2</th>\n",
       "      <td>3.0</td>\n",
       "      <td>2024.0</td>\n",
       "      <td>total</td>\n",
       "      <td>325324554.154</td>\n",
       "      <td>2024-03-31</td>\n",
       "      <td>189604130.408</td>\n",
       "      <td>0.582815</td>\n",
       "    </tr>\n",
       "    <tr>\n",
       "      <th>3</th>\n",
       "      <td>4.0</td>\n",
       "      <td>2024.0</td>\n",
       "      <td>total</td>\n",
       "      <td>11125519157.978199</td>\n",
       "      <td>2024-04-30</td>\n",
       "      <td>6105671597.011415</td>\n",
       "      <td>0.548799</td>\n",
       "    </tr>\n",
       "    <tr>\n",
       "      <th>4</th>\n",
       "      <td>5.0</td>\n",
       "      <td>2024.0</td>\n",
       "      <td>total</td>\n",
       "      <td>8480957529.1652</td>\n",
       "      <td>2024-05-31</td>\n",
       "      <td>4814754753.248005</td>\n",
       "      <td>0.567714</td>\n",
       "    </tr>\n",
       "    <tr>\n",
       "      <th>...</th>\n",
       "      <td>...</td>\n",
       "      <td>...</td>\n",
       "      <td>...</td>\n",
       "      <td>...</td>\n",
       "      <td>...</td>\n",
       "      <td>...</td>\n",
       "      <td>...</td>\n",
       "    </tr>\n",
       "    <tr>\n",
       "      <th>415</th>\n",
       "      <td>10.0</td>\n",
       "      <td>2024.0</td>\n",
       "      <td>Doanh thu cho thuê HCM</td>\n",
       "      <td>NaN</td>\n",
       "      <td>2024-10-31</td>\n",
       "      <td>NaN</td>\n",
       "      <td>NaN</td>\n",
       "    </tr>\n",
       "    <tr>\n",
       "      <th>416</th>\n",
       "      <td>11.0</td>\n",
       "      <td>2024.0</td>\n",
       "      <td>Doanh thu cho thuê HCM</td>\n",
       "      <td>NaN</td>\n",
       "      <td>2024-11-30</td>\n",
       "      <td>NaN</td>\n",
       "      <td>NaN</td>\n",
       "    </tr>\n",
       "    <tr>\n",
       "      <th>417</th>\n",
       "      <td>12.0</td>\n",
       "      <td>2024.0</td>\n",
       "      <td>Doanh thu cho thuê HCM</td>\n",
       "      <td>NaN</td>\n",
       "      <td>2024-12-31</td>\n",
       "      <td>NaN</td>\n",
       "      <td>NaN</td>\n",
       "    </tr>\n",
       "    <tr>\n",
       "      <th>418</th>\n",
       "      <td>1.0</td>\n",
       "      <td>2025.0</td>\n",
       "      <td>Doanh thu cho thuê HCM</td>\n",
       "      <td>0.0</td>\n",
       "      <td>2025-01-31</td>\n",
       "      <td>NaN</td>\n",
       "      <td>NaN</td>\n",
       "    </tr>\n",
       "    <tr>\n",
       "      <th>419</th>\n",
       "      <td>2.0</td>\n",
       "      <td>2025.0</td>\n",
       "      <td>Doanh thu cho thuê HCM</td>\n",
       "      <td>0.0</td>\n",
       "      <td>2025-02-28</td>\n",
       "      <td>NaN</td>\n",
       "      <td>NaN</td>\n",
       "    </tr>\n",
       "  </tbody>\n",
       "</table>\n",
       "<p>420 rows × 7 columns</p>\n",
       "</div>"
      ],
      "text/plain": [
       "    month    year                 project             revenue       date  \\\n",
       "0     1.0  2024.0                   total         333406148.0 2024-01-31   \n",
       "1     2.0  2024.0                   total          88749053.0 2024-02-29   \n",
       "2     3.0  2024.0                   total       325324554.154 2024-03-31   \n",
       "3     4.0  2024.0                   total  11125519157.978199 2024-04-30   \n",
       "4     5.0  2024.0                   total     8480957529.1652 2024-05-31   \n",
       "..    ...     ...                     ...                 ...        ...   \n",
       "415  10.0  2024.0  Doanh thu cho thuê HCM                 NaN 2024-10-31   \n",
       "416  11.0  2024.0  Doanh thu cho thuê HCM                 NaN 2024-11-30   \n",
       "417  12.0  2024.0  Doanh thu cho thuê HCM                 NaN 2024-12-31   \n",
       "418   1.0  2025.0  Doanh thu cho thuê HCM                 0.0 2025-01-31   \n",
       "419   2.0  2025.0  Doanh thu cho thuê HCM                 0.0 2025-02-28   \n",
       "\n",
       "                  cogs       CoR  \n",
       "0          288653981.3  0.865773  \n",
       "1          103190754.0  1.162725  \n",
       "2        189604130.408  0.582815  \n",
       "3    6105671597.011415  0.548799  \n",
       "4    4814754753.248005  0.567714  \n",
       "..                 ...       ...  \n",
       "415                NaN       NaN  \n",
       "416                NaN       NaN  \n",
       "417                NaN       NaN  \n",
       "418                NaN       NaN  \n",
       "419                NaN       NaN  \n",
       "\n",
       "[420 rows x 7 columns]"
      ]
     },
     "execution_count": 15,
     "metadata": {},
     "output_type": "execute_result"
    }
   ],
   "source": [
    "df"
   ]
  },
  {
   "cell_type": "code",
   "execution_count": 9,
   "id": "9e04b52a",
   "metadata": {},
   "outputs": [
    {
     "name": "stderr",
     "output_type": "stream",
     "text": [
      "C:\\Users\\ADMIN\\AppData\\Local\\Temp\\ipykernel_2776\\3576229627.py:2: FutureWarning: Downcasting behavior in `replace` is deprecated and will be removed in a future version. To retain the old behavior, explicitly call `result.infer_objects(copy=False)`. To opt-in to the future behavior, set `pd.set_option('future.no_silent_downcasting', True)`\n",
      "  ebtRev = lambda x: x['ebt'] / x['revenue'].replace(0, np.nan)\n"
     ]
    }
   ],
   "source": [
    "df = pd.merge(df, ebt, on=[\"project\", \"date\", \"year\", \"month\"], how=\"outer\").rename(columns={\"fee\":\"ebt\"}).assign(\n",
    "    ebtRev = lambda x: x['ebt'] / x['revenue'].replace(0, np.nan)\n",
    ")"
   ]
  },
  {
   "cell_type": "code",
   "execution_count": null,
   "id": "ef03d8d4",
   "metadata": {},
   "outputs": [
    {
     "name": "stderr",
     "output_type": "stream",
     "text": [
      "C:\\Users\\ADMIN\\AppData\\Local\\Temp\\ipykernel_10760\\63151610.py:2: FutureWarning:\n",
      "\n",
      "Downcasting behavior in `replace` is deprecated and will be removed in a future version. To retain the old behavior, explicitly call `result.infer_objects(copy=False)`. To opt-in to the future behavior, set `pd.set_option('future.no_silent_downcasting', True)`\n",
      "\n"
     ]
    },
    {
     "data": {
      "application/vnd.microsoft.datawrangler.viewer.v0+json": {
       "columns": [
        {
         "name": "index",
         "rawType": "int64",
         "type": "integer"
        },
        {
         "name": "month",
         "rawType": "object",
         "type": "unknown"
        },
        {
         "name": "year",
         "rawType": "object",
         "type": "unknown"
        },
        {
         "name": "project",
         "rawType": "object",
         "type": "string"
        },
        {
         "name": "revenue",
         "rawType": "object",
         "type": "unknown"
        },
        {
         "name": "date",
         "rawType": "datetime64[ns]",
         "type": "datetime"
        },
        {
         "name": "cogs",
         "rawType": "object",
         "type": "unknown"
        },
        {
         "name": "CoR",
         "rawType": "object",
         "type": "unknown"
        }
       ],
       "conversionMethod": "pd.DataFrame",
       "ref": "653d220a-7f47-43fd-a030-2f8b8439c706",
       "rows": [
        [
         "0",
         "1.0",
         "2024.0",
         "DOANH THU",
         "333406148.0",
         "2024-01-31 00:00:00",
         null,
         null
        ],
        [
         "1",
         "1.0",
         "2025.0",
         "DOANH THU",
         "683449920.203",
         "2025-01-31 00:00:00",
         null,
         null
        ],
        [
         "2",
         "2.0",
         "2024.0",
         "DOANH THU",
         "88749053.0",
         "2024-02-29 00:00:00",
         null,
         null
        ],
        [
         "3",
         "2.0",
         "2025.0",
         "DOANH THU",
         "1382445966.785",
         "2025-02-28 00:00:00",
         null,
         null
        ],
        [
         "4",
         "3.0",
         "2024.0",
         "DOANH THU",
         "325324554.15400004",
         "2024-03-31 00:00:00",
         null,
         null
        ],
        [
         "5",
         "4.0",
         "2024.0",
         "DOANH THU",
         "11125519157.978199",
         "2024-04-30 00:00:00",
         null,
         null
        ],
        [
         "6",
         "5.0",
         "2024.0",
         "DOANH THU",
         "8480957529.1652",
         "2024-05-31 00:00:00",
         null,
         null
        ],
        [
         "7",
         "6.0",
         "2024.0",
         "DOANH THU",
         "7009143922.650002",
         "2024-06-30 00:00:00",
         null,
         null
        ],
        [
         "8",
         "7.0",
         "2024.0",
         "DOANH THU",
         "3752681701.8",
         "2024-07-31 00:00:00",
         null,
         null
        ],
        [
         "9",
         "8.0",
         "2024.0",
         "DOANH THU",
         "5511126127.71",
         "2024-08-31 00:00:00",
         null,
         null
        ],
        [
         "10",
         "9.0",
         "2024.0",
         "DOANH THU",
         "9923808838.904999",
         "2024-09-30 00:00:00",
         null,
         null
        ],
        [
         "11",
         "10.0",
         "2024.0",
         "DOANH THU",
         "16667480507.249197",
         "2024-10-31 00:00:00",
         null,
         null
        ],
        [
         "12",
         "11.0",
         "2024.0",
         "DOANH THU",
         "4107057676.366505",
         "2024-11-30 00:00:00",
         null,
         null
        ],
        [
         "13",
         "12.0",
         "2024.0",
         "DOANH THU",
         "10902849307.128",
         "2024-12-31 00:00:00",
         null,
         null
        ],
        [
         "14",
         "1.0",
         "2024.0",
         "Doanh thu cho thuê HCM",
         "89091345.0",
         "2024-01-31 00:00:00",
         null,
         null
        ],
        [
         "15",
         "1.0",
         "2025.0",
         "Doanh thu cho thuê HCM",
         "0.0",
         "2025-01-31 00:00:00",
         null,
         null
        ],
        [
         "16",
         "2.0",
         "2024.0",
         "Doanh thu cho thuê HCM",
         "88749053.0",
         "2024-02-29 00:00:00",
         null,
         null
        ],
        [
         "17",
         "2.0",
         "2025.0",
         "Doanh thu cho thuê HCM",
         "0.0",
         "2025-02-28 00:00:00",
         null,
         null
        ],
        [
         "18",
         "3.0",
         "2024.0",
         "Doanh thu cho thuê HCM",
         "5292206.0",
         "2024-03-31 00:00:00",
         null,
         null
        ],
        [
         "19",
         "4.0",
         "2024.0",
         "Doanh thu cho thuê HCM",
         "0.0",
         "2024-04-30 00:00:00",
         null,
         null
        ],
        [
         "20",
         "5.0",
         "2024.0",
         "Doanh thu cho thuê HCM",
         "0.0",
         "2024-05-31 00:00:00",
         null,
         null
        ],
        [
         "21",
         "6.0",
         "2024.0",
         "Doanh thu cho thuê HCM",
         "0.0",
         "2024-06-30 00:00:00",
         null,
         null
        ],
        [
         "22",
         "7.0",
         "2024.0",
         "Doanh thu cho thuê HCM",
         "0.0",
         "2024-07-31 00:00:00",
         null,
         null
        ],
        [
         "23",
         "8.0",
         "2024.0",
         "Doanh thu cho thuê HCM",
         "0.0",
         "2024-08-31 00:00:00",
         null,
         null
        ],
        [
         "24",
         "9.0",
         "2024.0",
         "Doanh thu cho thuê HCM",
         "0.0",
         "2024-09-30 00:00:00",
         null,
         null
        ],
        [
         "25",
         "10.0",
         "2024.0",
         "Doanh thu cho thuê HCM",
         null,
         "2024-10-31 00:00:00",
         null,
         null
        ],
        [
         "26",
         "11.0",
         "2024.0",
         "Doanh thu cho thuê HCM",
         null,
         "2024-11-30 00:00:00",
         null,
         null
        ],
        [
         "27",
         "12.0",
         "2024.0",
         "Doanh thu cho thuê HCM",
         null,
         "2024-12-31 00:00:00",
         null,
         null
        ],
        [
         "28",
         "1.0",
         "2024.0",
         "FPT 3",
         null,
         "2024-01-31 00:00:00",
         "0.0",
         null
        ],
        [
         "29",
         "1.0",
         "2025.0",
         "FPT 3",
         "0.0",
         "2025-01-31 00:00:00",
         "0.0",
         null
        ],
        [
         "30",
         "2.0",
         "2024.0",
         "FPT 3",
         null,
         "2024-02-29 00:00:00",
         "0.0",
         null
        ],
        [
         "31",
         "2.0",
         "2025.0",
         "FPT 3",
         "0.0",
         "2025-02-28 00:00:00",
         "0.0",
         null
        ],
        [
         "32",
         "3.0",
         "2024.0",
         "FPT 3",
         "0.0",
         "2024-03-31 00:00:00",
         "0.0",
         null
        ],
        [
         "33",
         "4.0",
         "2024.0",
         "FPT 3",
         "0.0",
         "2024-04-30 00:00:00",
         "0.0",
         null
        ],
        [
         "34",
         "5.0",
         "2024.0",
         "FPT 3",
         "0.0",
         "2024-05-31 00:00:00",
         "0.0",
         null
        ],
        [
         "35",
         "6.0",
         "2024.0",
         "FPT 3",
         "0.0",
         "2024-06-30 00:00:00",
         "0.0",
         null
        ],
        [
         "36",
         "7.0",
         "2024.0",
         "FPT 3",
         "0.0",
         "2024-07-31 00:00:00",
         "0.0",
         null
        ],
        [
         "37",
         "8.0",
         "2024.0",
         "FPT 3",
         "0.0",
         "2024-08-31 00:00:00",
         "0.0",
         null
        ],
        [
         "38",
         "9.0",
         "2024.0",
         "FPT 3",
         "0.0",
         "2024-09-30 00:00:00",
         "0.0",
         null
        ],
        [
         "39",
         "10.0",
         "2024.0",
         "FPT 3",
         "0.0",
         "2024-10-31 00:00:00",
         "0.0",
         null
        ],
        [
         "40",
         "11.0",
         "2024.0",
         "FPT 3",
         "142810050.0",
         "2024-11-30 00:00:00",
         "61884355.0",
         "0.43333333333333335"
        ],
        [
         "41",
         "12.0",
         "2024.0",
         "FPT 3",
         "0.0",
         "2024-12-31 00:00:00",
         "0.0",
         null
        ],
        [
         "42",
         "1.0",
         "2024.0",
         "FPT Plaza 2",
         "57411900.0",
         "2024-01-31 00:00:00",
         "28705950.0",
         "0.5"
        ],
        [
         "43",
         "1.0",
         "2024.0",
         "FPT Plaza 2",
         "57411900.0",
         "2024-01-31 00:00:00",
         "40188330.0",
         "0.7"
        ],
        [
         "44",
         "1.0",
         "2025.0",
         "FPT Plaza 2",
         "0.0",
         "2025-01-31 00:00:00",
         null,
         null
        ],
        [
         "45",
         "1.0",
         "2025.0",
         "FPT Plaza 2",
         "0.0",
         "2025-01-31 00:00:00",
         "0.0",
         null
        ],
        [
         "46",
         "2.0",
         "2024.0",
         "FPT Plaza 2",
         null,
         "2024-02-29 00:00:00",
         "0.0",
         null
        ],
        [
         "47",
         "2.0",
         "2024.0",
         "FPT Plaza 2",
         null,
         "2024-02-29 00:00:00",
         "0.0",
         null
        ],
        [
         "48",
         "2.0",
         "2025.0",
         "FPT Plaza 2",
         "0.0",
         "2025-02-28 00:00:00",
         null,
         null
        ],
        [
         "49",
         "2.0",
         "2025.0",
         "FPT Plaza 2",
         "0.0",
         "2025-02-28 00:00:00",
         "0.0",
         null
        ]
       ],
       "shape": {
        "columns": 7,
        "rows": 476
       }
      },
      "text/html": [
       "<div>\n",
       "<style scoped>\n",
       "    .dataframe tbody tr th:only-of-type {\n",
       "        vertical-align: middle;\n",
       "    }\n",
       "\n",
       "    .dataframe tbody tr th {\n",
       "        vertical-align: top;\n",
       "    }\n",
       "\n",
       "    .dataframe thead th {\n",
       "        text-align: right;\n",
       "    }\n",
       "</style>\n",
       "<table border=\"1\" class=\"dataframe\">\n",
       "  <thead>\n",
       "    <tr style=\"text-align: right;\">\n",
       "      <th></th>\n",
       "      <th>month</th>\n",
       "      <th>year</th>\n",
       "      <th>project</th>\n",
       "      <th>revenue</th>\n",
       "      <th>date</th>\n",
       "      <th>cogs</th>\n",
       "      <th>CoR</th>\n",
       "    </tr>\n",
       "  </thead>\n",
       "  <tbody>\n",
       "    <tr>\n",
       "      <th>0</th>\n",
       "      <td>1.0</td>\n",
       "      <td>2024.0</td>\n",
       "      <td>DOANH THU</td>\n",
       "      <td>333406148.0</td>\n",
       "      <td>2024-01-31</td>\n",
       "      <td>NaN</td>\n",
       "      <td>NaN</td>\n",
       "    </tr>\n",
       "    <tr>\n",
       "      <th>1</th>\n",
       "      <td>1.0</td>\n",
       "      <td>2025.0</td>\n",
       "      <td>DOANH THU</td>\n",
       "      <td>683449920.203</td>\n",
       "      <td>2025-01-31</td>\n",
       "      <td>NaN</td>\n",
       "      <td>NaN</td>\n",
       "    </tr>\n",
       "    <tr>\n",
       "      <th>2</th>\n",
       "      <td>2.0</td>\n",
       "      <td>2024.0</td>\n",
       "      <td>DOANH THU</td>\n",
       "      <td>88749053.0</td>\n",
       "      <td>2024-02-29</td>\n",
       "      <td>NaN</td>\n",
       "      <td>NaN</td>\n",
       "    </tr>\n",
       "    <tr>\n",
       "      <th>3</th>\n",
       "      <td>2.0</td>\n",
       "      <td>2025.0</td>\n",
       "      <td>DOANH THU</td>\n",
       "      <td>1382445966.785</td>\n",
       "      <td>2025-02-28</td>\n",
       "      <td>NaN</td>\n",
       "      <td>NaN</td>\n",
       "    </tr>\n",
       "    <tr>\n",
       "      <th>4</th>\n",
       "      <td>3.0</td>\n",
       "      <td>2024.0</td>\n",
       "      <td>DOANH THU</td>\n",
       "      <td>325324554.154</td>\n",
       "      <td>2024-03-31</td>\n",
       "      <td>NaN</td>\n",
       "      <td>NaN</td>\n",
       "    </tr>\n",
       "    <tr>\n",
       "      <th>...</th>\n",
       "      <td>...</td>\n",
       "      <td>...</td>\n",
       "      <td>...</td>\n",
       "      <td>...</td>\n",
       "      <td>...</td>\n",
       "      <td>...</td>\n",
       "      <td>...</td>\n",
       "    </tr>\n",
       "    <tr>\n",
       "      <th>471</th>\n",
       "      <td>8.0</td>\n",
       "      <td>2024.0</td>\n",
       "      <td>Vinhomes Royal Residences</td>\n",
       "      <td>0.0</td>\n",
       "      <td>2024-08-31</td>\n",
       "      <td>0.0</td>\n",
       "      <td>NaN</td>\n",
       "    </tr>\n",
       "    <tr>\n",
       "      <th>472</th>\n",
       "      <td>9.0</td>\n",
       "      <td>2024.0</td>\n",
       "      <td>Vinhomes Royal Residences</td>\n",
       "      <td>0.0</td>\n",
       "      <td>2024-09-30</td>\n",
       "      <td>0.0</td>\n",
       "      <td>NaN</td>\n",
       "    </tr>\n",
       "    <tr>\n",
       "      <th>473</th>\n",
       "      <td>10.0</td>\n",
       "      <td>2024.0</td>\n",
       "      <td>Vinhomes Royal Residences</td>\n",
       "      <td>146894178.34</td>\n",
       "      <td>2024-10-31</td>\n",
       "      <td>104924413.1</td>\n",
       "      <td>0.714286</td>\n",
       "    </tr>\n",
       "    <tr>\n",
       "      <th>474</th>\n",
       "      <td>11.0</td>\n",
       "      <td>2024.0</td>\n",
       "      <td>Vinhomes Royal Residences</td>\n",
       "      <td>60240202.26</td>\n",
       "      <td>2024-11-30</td>\n",
       "      <td>43028715.9</td>\n",
       "      <td>0.714286</td>\n",
       "    </tr>\n",
       "    <tr>\n",
       "      <th>475</th>\n",
       "      <td>12.0</td>\n",
       "      <td>2024.0</td>\n",
       "      <td>Vinhomes Royal Residences</td>\n",
       "      <td>0.0</td>\n",
       "      <td>2024-12-31</td>\n",
       "      <td>57634393.35</td>\n",
       "      <td>NaN</td>\n",
       "    </tr>\n",
       "  </tbody>\n",
       "</table>\n",
       "<p>476 rows × 7 columns</p>\n",
       "</div>"
      ],
      "text/plain": [
       "    month    year                    project         revenue       date  \\\n",
       "0     1.0  2024.0                  DOANH THU     333406148.0 2024-01-31   \n",
       "1     1.0  2025.0                  DOANH THU   683449920.203 2025-01-31   \n",
       "2     2.0  2024.0                  DOANH THU      88749053.0 2024-02-29   \n",
       "3     2.0  2025.0                  DOANH THU  1382445966.785 2025-02-28   \n",
       "4     3.0  2024.0                  DOANH THU   325324554.154 2024-03-31   \n",
       "..    ...     ...                        ...             ...        ...   \n",
       "471   8.0  2024.0  Vinhomes Royal Residences             0.0 2024-08-31   \n",
       "472   9.0  2024.0  Vinhomes Royal Residences             0.0 2024-09-30   \n",
       "473  10.0  2024.0  Vinhomes Royal Residences    146894178.34 2024-10-31   \n",
       "474  11.0  2024.0  Vinhomes Royal Residences     60240202.26 2024-11-30   \n",
       "475  12.0  2024.0  Vinhomes Royal Residences             0.0 2024-12-31   \n",
       "\n",
       "            cogs       CoR  \n",
       "0            NaN       NaN  \n",
       "1            NaN       NaN  \n",
       "2            NaN       NaN  \n",
       "3            NaN       NaN  \n",
       "4            NaN       NaN  \n",
       "..           ...       ...  \n",
       "471          0.0       NaN  \n",
       "472          0.0       NaN  \n",
       "473  104924413.1  0.714286  \n",
       "474   43028715.9  0.714286  \n",
       "475  57634393.35       NaN  \n",
       "\n",
       "[476 rows x 7 columns]"
      ]
     },
     "execution_count": 115,
     "metadata": {},
     "output_type": "execute_result"
    }
   ],
   "source": []
  },
  {
   "cell_type": "code",
   "execution_count": null,
   "id": "65fc7f0f",
   "metadata": {},
   "outputs": [],
   "source": [
    "1293696913.785"
   ]
  },
  {
   "cell_type": "code",
   "execution_count": 94,
   "id": "27338fe9",
   "metadata": {},
   "outputs": [
    {
     "data": {
      "text/plain": [
       "1293696913.785"
      ]
     },
     "execution_count": 94,
     "metadata": {},
     "output_type": "execute_result"
    }
   ],
   "source": [
    "df.sort_values(by=[\"year\", \"month\"]).loc[df['project']==\"DOANH THU\"][\"revenue\"].diff(periods=12).tail(1).values[0]"
   ]
  },
  {
   "cell_type": "code",
   "execution_count": 33,
   "id": "d17aab7b",
   "metadata": {},
   "outputs": [
    {
     "data": {
      "text/plain": [
       "78228104524.1061"
      ]
     },
     "execution_count": 33,
     "metadata": {},
     "output_type": "execute_result"
    }
   ],
   "source": [
    "np.nansum(df.loc[~df.project.isin([\"DOANH THU\"])].loc[df['year']==2024][\"revenue\"])"
   ]
  },
  {
   "cell_type": "code",
   "execution_count": 32,
   "id": "a3f906b3",
   "metadata": {},
   "outputs": [],
   "source": [
    "ignore_category = [\n",
    "    \"DOANH THU\", \"Thưởng nóng\", \"Doanh thu cho thuê HCM\",\n",
    "    \"Doanh thu khác\", \"Giá vốn VP HCM\", \"total\"\n",
    "]"
   ]
  },
  {
   "cell_type": "code",
   "execution_count": null,
   "id": "a4a7eabc",
   "metadata": {},
   "outputs": [],
   "source": [
    "a = df.loc[\n",
    "        ~df.project.isin(ignore_category)\n",
    "    ]\n",
    "a"
   ]
  },
  {
   "cell_type": "code",
   "execution_count": 33,
   "id": "31520e7a",
   "metadata": {},
   "outputs": [
    {
     "data": {
      "application/vnd.plotly.v1+json": {
       "config": {
        "plotlyServerURL": "https://plot.ly"
       },
       "data": [
        {
         "alignmentgroup": "True",
         "hovertemplate": "project=FPT 3<br>date=%{x}<br>revenue=%{y}<extra></extra>",
         "legendgroup": "FPT 3",
         "marker": {
          "color": "#636efa",
          "pattern": {
           "shape": ""
          }
         },
         "name": "FPT 3",
         "offsetgroup": "FPT 3",
         "orientation": "v",
         "showlegend": true,
         "textposition": "auto",
         "type": "bar",
         "x": [
          "2024-01-31T00:00:00.000000000",
          "2024-02-29T00:00:00.000000000",
          "2024-03-31T00:00:00.000000000",
          "2024-04-30T00:00:00.000000000",
          "2024-05-31T00:00:00.000000000",
          "2024-06-30T00:00:00.000000000",
          "2024-07-31T00:00:00.000000000",
          "2024-08-31T00:00:00.000000000",
          "2024-09-30T00:00:00.000000000",
          "2024-10-31T00:00:00.000000000",
          "2024-11-30T00:00:00.000000000",
          "2024-12-31T00:00:00.000000000",
          "2025-01-31T00:00:00.000000000",
          "2025-02-28T00:00:00.000000000"
         ],
         "xaxis": "x",
         "y": [
          null,
          null,
          0,
          0,
          0,
          0,
          0,
          0,
          0,
          0,
          142810050,
          0,
          0,
          0
         ],
         "yaxis": "y"
        },
        {
         "alignmentgroup": "True",
         "hovertemplate": "project=FPT Plaza 2<br>date=%{x}<br>revenue=%{y}<extra></extra>",
         "legendgroup": "FPT Plaza 2",
         "marker": {
          "color": "#EF553B",
          "pattern": {
           "shape": ""
          }
         },
         "name": "FPT Plaza 2",
         "offsetgroup": "FPT Plaza 2",
         "orientation": "v",
         "showlegend": true,
         "textposition": "auto",
         "type": "bar",
         "x": [
          "2024-01-31T00:00:00.000000000",
          "2024-01-31T00:00:00.000000000",
          "2024-02-29T00:00:00.000000000",
          "2024-02-29T00:00:00.000000000",
          "2024-03-31T00:00:00.000000000",
          "2024-03-31T00:00:00.000000000",
          "2024-04-30T00:00:00.000000000",
          "2024-04-30T00:00:00.000000000",
          "2024-05-31T00:00:00.000000000",
          "2024-05-31T00:00:00.000000000",
          "2024-06-30T00:00:00.000000000",
          "2024-06-30T00:00:00.000000000",
          "2024-07-31T00:00:00.000000000",
          "2024-07-31T00:00:00.000000000",
          "2024-08-31T00:00:00.000000000",
          "2024-08-31T00:00:00.000000000",
          "2024-09-30T00:00:00.000000000",
          "2024-09-30T00:00:00.000000000",
          "2024-10-31T00:00:00.000000000",
          "2024-10-31T00:00:00.000000000",
          "2024-11-30T00:00:00.000000000",
          "2024-11-30T00:00:00.000000000",
          "2024-12-31T00:00:00.000000000",
          "2024-12-31T00:00:00.000000000",
          "2025-01-31T00:00:00.000000000",
          "2025-01-31T00:00:00.000000000",
          "2025-02-28T00:00:00.000000000",
          "2025-02-28T00:00:00.000000000"
         ],
         "xaxis": "x",
         "y": [
          57411900,
          57411900,
          null,
          null,
          0,
          0,
          0,
          0,
          0,
          0,
          0,
          0,
          0,
          0,
          0,
          0,
          0,
          0,
          0,
          0,
          0,
          0,
          0,
          0,
          0,
          0,
          0,
          0
         ],
         "yaxis": "y"
        },
        {
         "alignmentgroup": "True",
         "hovertemplate": "project=IMPERIA SIGNATURE<br>date=%{x}<br>revenue=%{y}<extra></extra>",
         "legendgroup": "IMPERIA SIGNATURE",
         "marker": {
          "color": "#00cc96",
          "pattern": {
           "shape": ""
          }
         },
         "name": "IMPERIA SIGNATURE",
         "offsetgroup": "IMPERIA SIGNATURE",
         "orientation": "v",
         "showlegend": true,
         "textposition": "auto",
         "type": "bar",
         "x": [
          "2024-01-31T00:00:00.000000000",
          "2024-02-29T00:00:00.000000000",
          "2024-03-31T00:00:00.000000000",
          "2024-04-30T00:00:00.000000000",
          "2024-05-31T00:00:00.000000000",
          "2024-06-30T00:00:00.000000000",
          "2024-07-31T00:00:00.000000000",
          "2024-08-31T00:00:00.000000000",
          "2024-09-30T00:00:00.000000000",
          "2024-10-31T00:00:00.000000000",
          "2024-11-30T00:00:00.000000000",
          "2024-12-31T00:00:00.000000000",
          "2025-01-31T00:00:00.000000000",
          "2025-02-28T00:00:00.000000000"
         ],
         "xaxis": "x",
         "y": [
          null,
          null,
          0,
          0,
          0,
          0,
          0,
          0,
          0,
          0,
          0,
          9022524461.369999,
          182381862.6,
          431613111.59999996
         ],
         "yaxis": "y"
        },
        {
         "alignmentgroup": "True",
         "hovertemplate": "project=LUMI HANOI<br>date=%{x}<br>revenue=%{y}<extra></extra>",
         "legendgroup": "LUMI HANOI",
         "marker": {
          "color": "#ab63fa",
          "pattern": {
           "shape": ""
          }
         },
         "name": "LUMI HANOI",
         "offsetgroup": "LUMI HANOI",
         "orientation": "v",
         "showlegend": true,
         "textposition": "auto",
         "type": "bar",
         "x": [
          "2024-01-31T00:00:00.000000000",
          "2024-01-31T00:00:00.000000000",
          "2024-02-29T00:00:00.000000000",
          "2024-02-29T00:00:00.000000000",
          "2024-03-31T00:00:00.000000000",
          "2024-03-31T00:00:00.000000000",
          "2024-04-30T00:00:00.000000000",
          "2024-04-30T00:00:00.000000000",
          "2024-05-31T00:00:00.000000000",
          "2024-05-31T00:00:00.000000000",
          "2024-06-30T00:00:00.000000000",
          "2024-06-30T00:00:00.000000000",
          "2024-07-31T00:00:00.000000000",
          "2024-07-31T00:00:00.000000000",
          "2024-08-31T00:00:00.000000000",
          "2024-08-31T00:00:00.000000000",
          "2024-09-30T00:00:00.000000000",
          "2024-09-30T00:00:00.000000000",
          "2024-10-31T00:00:00.000000000",
          "2024-10-31T00:00:00.000000000",
          "2024-11-30T00:00:00.000000000",
          "2024-11-30T00:00:00.000000000",
          "2024-12-31T00:00:00.000000000",
          "2024-12-31T00:00:00.000000000",
          "2025-01-31T00:00:00.000000000",
          "2025-01-31T00:00:00.000000000",
          "2025-02-28T00:00:00.000000000",
          "2025-02-28T00:00:00.000000000"
         ],
         "xaxis": "x",
         "y": [
          null,
          null,
          null,
          null,
          0,
          0,
          4144433585.7500005,
          4144433585.7500005,
          370843856.55,
          370843856.55,
          0,
          0,
          881957089.2,
          881957089.2,
          0,
          0,
          0,
          0,
          1258210384.18,
          1258210384.18,
          0,
          0,
          0,
          0,
          0,
          0,
          0,
          0
         ],
         "yaxis": "y"
        },
        {
         "alignmentgroup": "True",
         "hovertemplate": "project=SGB<br>date=%{x}<br>revenue=%{y}<extra></extra>",
         "legendgroup": "SGB",
         "marker": {
          "color": "#FFA15A",
          "pattern": {
           "shape": ""
          }
         },
         "name": "SGB",
         "offsetgroup": "SGB",
         "orientation": "v",
         "showlegend": true,
         "textposition": "auto",
         "type": "bar",
         "x": [
          "2024-01-31T00:00:00.000000000",
          "2024-02-29T00:00:00.000000000",
          "2024-03-31T00:00:00.000000000",
          "2024-04-30T00:00:00.000000000",
          "2024-05-31T00:00:00.000000000",
          "2024-06-30T00:00:00.000000000",
          "2024-07-31T00:00:00.000000000",
          "2024-08-31T00:00:00.000000000",
          "2024-09-30T00:00:00.000000000",
          "2024-10-31T00:00:00.000000000",
          "2024-11-30T00:00:00.000000000",
          "2024-12-31T00:00:00.000000000",
          "2025-01-31T00:00:00.000000000",
          "2025-02-28T00:00:00.000000000"
         ],
         "xaxis": "x",
         "y": [
          null,
          null,
          0,
          0,
          0,
          0,
          0,
          0,
          0,
          0,
          88848502.67,
          0,
          0,
          0
         ],
         "yaxis": "y"
        },
        {
         "alignmentgroup": "True",
         "hovertemplate": "project=SUN PONTE RESIDENCE<br>date=%{x}<br>revenue=%{y}<extra></extra>",
         "legendgroup": "SUN PONTE RESIDENCE",
         "marker": {
          "color": "#19d3f3",
          "pattern": {
           "shape": ""
          }
         },
         "name": "SUN PONTE RESIDENCE",
         "offsetgroup": "SUN PONTE RESIDENCE",
         "orientation": "v",
         "showlegend": true,
         "textposition": "auto",
         "type": "bar",
         "x": [
          "2024-01-31T00:00:00.000000000",
          "2024-01-31T00:00:00.000000000",
          "2024-02-29T00:00:00.000000000",
          "2024-02-29T00:00:00.000000000",
          "2024-03-31T00:00:00.000000000",
          "2024-03-31T00:00:00.000000000",
          "2024-04-30T00:00:00.000000000",
          "2024-04-30T00:00:00.000000000",
          "2024-05-31T00:00:00.000000000",
          "2024-05-31T00:00:00.000000000",
          "2024-06-30T00:00:00.000000000",
          "2024-06-30T00:00:00.000000000",
          "2024-07-31T00:00:00.000000000",
          "2024-07-31T00:00:00.000000000",
          "2024-08-31T00:00:00.000000000",
          "2024-08-31T00:00:00.000000000",
          "2024-09-30T00:00:00.000000000",
          "2024-09-30T00:00:00.000000000",
          "2024-10-31T00:00:00.000000000",
          "2024-10-31T00:00:00.000000000",
          "2024-11-30T00:00:00.000000000",
          "2024-11-30T00:00:00.000000000",
          "2024-12-31T00:00:00.000000000",
          "2024-12-31T00:00:00.000000000",
          "2025-01-31T00:00:00.000000000",
          "2025-01-31T00:00:00.000000000",
          "2025-02-28T00:00:00.000000000",
          "2025-02-28T00:00:00.000000000"
         ],
         "xaxis": "x",
         "y": [
          173266539,
          173266539,
          null,
          null,
          0,
          0,
          6644721935.228199,
          6644721935.228199,
          1738785420.1202002,
          1738785420.1202002,
          0,
          0,
          0,
          0,
          0,
          0,
          0,
          0,
          0,
          0,
          175083789.028905,
          175083789.028905,
          0,
          0,
          0,
          0,
          0,
          0
         ],
         "yaxis": "y"
        },
        {
         "alignmentgroup": "True",
         "hovertemplate": "project=SUN RIVERSIDE VILLAGE SẦM SƠN<br>date=%{x}<br>revenue=%{y}<extra></extra>",
         "legendgroup": "SUN RIVERSIDE VILLAGE SẦM SƠN",
         "marker": {
          "color": "#FF6692",
          "pattern": {
           "shape": ""
          }
         },
         "name": "SUN RIVERSIDE VILLAGE SẦM SƠN",
         "offsetgroup": "SUN RIVERSIDE VILLAGE SẦM SƠN",
         "orientation": "v",
         "showlegend": true,
         "textposition": "auto",
         "type": "bar",
         "x": [
          "2024-01-31T00:00:00.000000000",
          "2024-02-29T00:00:00.000000000",
          "2024-03-31T00:00:00.000000000",
          "2024-04-30T00:00:00.000000000",
          "2024-05-31T00:00:00.000000000",
          "2024-06-30T00:00:00.000000000",
          "2024-07-31T00:00:00.000000000",
          "2024-08-31T00:00:00.000000000",
          "2024-09-30T00:00:00.000000000",
          "2024-10-31T00:00:00.000000000",
          "2024-11-30T00:00:00.000000000",
          "2024-12-31T00:00:00.000000000",
          "2025-01-31T00:00:00.000000000",
          "2025-02-28T00:00:00.000000000"
         ],
         "xaxis": "x",
         "y": [
          null,
          null,
          0,
          0,
          0,
          0,
          0,
          0,
          0,
          0,
          0,
          516927422.36,
          0,
          0
         ],
         "yaxis": "y"
        },
        {
         "alignmentgroup": "True",
         "hovertemplate": "project=SUN URBAN CITY<br>date=%{x}<br>revenue=%{y}<extra></extra>",
         "legendgroup": "SUN URBAN CITY",
         "marker": {
          "color": "#B6E880",
          "pattern": {
           "shape": ""
          }
         },
         "name": "SUN URBAN CITY",
         "offsetgroup": "SUN URBAN CITY",
         "orientation": "v",
         "showlegend": true,
         "textposition": "auto",
         "type": "bar",
         "x": [
          "2024-01-31T00:00:00.000000000",
          "2024-02-29T00:00:00.000000000",
          "2024-03-31T00:00:00.000000000",
          "2024-04-30T00:00:00.000000000",
          "2024-05-31T00:00:00.000000000",
          "2024-06-30T00:00:00.000000000",
          "2024-07-31T00:00:00.000000000",
          "2024-08-31T00:00:00.000000000",
          "2024-09-30T00:00:00.000000000",
          "2024-10-31T00:00:00.000000000",
          "2024-11-30T00:00:00.000000000",
          "2024-12-31T00:00:00.000000000",
          "2025-01-31T00:00:00.000000000",
          "2025-02-28T00:00:00.000000000"
         ],
         "xaxis": "x",
         "y": [
          null,
          null,
          0,
          0,
          0,
          0,
          0,
          0,
          0,
          1218783116.1941998,
          263897840.3832,
          0,
          0,
          0
         ],
         "yaxis": "y"
        },
        {
         "alignmentgroup": "True",
         "hovertemplate": "project=Sun Cosmo Residence Đà Nẵng<br>date=%{x}<br>revenue=%{y}<extra></extra>",
         "legendgroup": "Sun Cosmo Residence Đà Nẵng",
         "marker": {
          "color": "#FF97FF",
          "pattern": {
           "shape": ""
          }
         },
         "name": "Sun Cosmo Residence Đà Nẵng",
         "offsetgroup": "Sun Cosmo Residence Đà Nẵng",
         "orientation": "v",
         "showlegend": true,
         "textposition": "auto",
         "type": "bar",
         "x": [
          "2024-01-31T00:00:00.000000000",
          "2024-01-31T00:00:00.000000000",
          "2024-02-29T00:00:00.000000000",
          "2024-02-29T00:00:00.000000000",
          "2024-03-31T00:00:00.000000000",
          "2024-03-31T00:00:00.000000000",
          "2024-04-30T00:00:00.000000000",
          "2024-04-30T00:00:00.000000000",
          "2024-05-31T00:00:00.000000000",
          "2024-05-31T00:00:00.000000000",
          "2024-06-30T00:00:00.000000000",
          "2024-06-30T00:00:00.000000000",
          "2024-07-31T00:00:00.000000000",
          "2024-07-31T00:00:00.000000000",
          "2024-08-31T00:00:00.000000000",
          "2024-08-31T00:00:00.000000000",
          "2024-09-30T00:00:00.000000000",
          "2024-09-30T00:00:00.000000000",
          "2024-10-31T00:00:00.000000000",
          "2024-10-31T00:00:00.000000000",
          "2024-11-30T00:00:00.000000000",
          "2024-11-30T00:00:00.000000000",
          "2024-12-31T00:00:00.000000000",
          "2024-12-31T00:00:00.000000000",
          "2025-01-31T00:00:00.000000000",
          "2025-01-31T00:00:00.000000000",
          "2025-02-28T00:00:00.000000000",
          "2025-02-28T00:00:00.000000000"
         ],
         "xaxis": "x",
         "y": [
          null,
          null,
          null,
          null,
          0,
          0,
          0,
          0,
          2766217216.08,
          2766217216.08,
          0,
          0,
          0,
          0,
          0,
          0,
          0,
          0,
          0,
          0,
          0,
          0,
          0,
          0,
          0,
          0,
          236845706.68,
          236845706.68
         ],
         "yaxis": "y"
        },
        {
         "alignmentgroup": "True",
         "hovertemplate": "project=Sun Pathway<br>date=%{x}<br>revenue=%{y}<extra></extra>",
         "legendgroup": "Sun Pathway",
         "marker": {
          "color": "#FECB52",
          "pattern": {
           "shape": ""
          }
         },
         "name": "Sun Pathway",
         "offsetgroup": "Sun Pathway",
         "orientation": "v",
         "showlegend": true,
         "textposition": "auto",
         "type": "bar",
         "x": [
          "2024-01-31T00:00:00.000000000",
          "2024-02-29T00:00:00.000000000",
          "2024-03-31T00:00:00.000000000",
          "2024-04-30T00:00:00.000000000",
          "2024-05-31T00:00:00.000000000",
          "2024-06-30T00:00:00.000000000",
          "2024-07-31T00:00:00.000000000",
          "2024-08-31T00:00:00.000000000",
          "2024-09-30T00:00:00.000000000",
          "2024-10-31T00:00:00.000000000",
          "2024-11-30T00:00:00.000000000",
          "2024-12-31T00:00:00.000000000",
          "2025-01-31T00:00:00.000000000",
          "2025-02-28T00:00:00.000000000"
         ],
         "xaxis": "x",
         "y": [
          null,
          null,
          0,
          0,
          2835854897.255,
          212234299.25,
          118630348.65,
          0,
          0,
          0,
          0,
          0,
          0,
          0
         ],
         "yaxis": "y"
        },
        {
         "alignmentgroup": "True",
         "hovertemplate": "project=Sun Symphony Residences<br>date=%{x}<br>revenue=%{y}<extra></extra>",
         "legendgroup": "Sun Symphony Residences",
         "marker": {
          "color": "#636efa",
          "pattern": {
           "shape": ""
          }
         },
         "name": "Sun Symphony Residences",
         "offsetgroup": "Sun Symphony Residences",
         "orientation": "v",
         "showlegend": true,
         "textposition": "auto",
         "type": "bar",
         "x": [
          "2024-01-31T00:00:00.000000000",
          "2024-02-29T00:00:00.000000000",
          "2024-03-31T00:00:00.000000000",
          "2024-04-30T00:00:00.000000000",
          "2024-05-31T00:00:00.000000000",
          "2024-06-30T00:00:00.000000000",
          "2024-07-31T00:00:00.000000000",
          "2024-08-31T00:00:00.000000000",
          "2024-09-30T00:00:00.000000000",
          "2024-10-31T00:00:00.000000000",
          "2024-11-30T00:00:00.000000000",
          "2024-12-31T00:00:00.000000000",
          "2025-01-31T00:00:00.000000000",
          "2025-02-28T00:00:00.000000000"
         ],
         "xaxis": "x",
         "y": [
          null,
          null,
          0,
          0,
          0,
          5983273259.400002,
          2002929905.1899998,
          3261102399.52,
          1146894478.1799998,
          2056007858.465,
          779001613.6844001,
          1162416203.5479999,
          356977149.603,
          713987148.505
         ],
         "yaxis": "y"
        },
        {
         "alignmentgroup": "True",
         "hovertemplate": "project=THE MIAMI - GS5<br>date=%{x}<br>revenue=%{y}<extra></extra>",
         "legendgroup": "THE MIAMI - GS5",
         "marker": {
          "color": "#EF553B",
          "pattern": {
           "shape": ""
          }
         },
         "name": "THE MIAMI - GS5",
         "offsetgroup": "THE MIAMI - GS5",
         "orientation": "v",
         "showlegend": true,
         "textposition": "auto",
         "type": "bar",
         "x": [
          "2024-01-31T00:00:00.000000000",
          "2024-01-31T00:00:00.000000000",
          "2024-02-29T00:00:00.000000000",
          "2024-02-29T00:00:00.000000000",
          "2024-03-31T00:00:00.000000000",
          "2024-03-31T00:00:00.000000000",
          "2024-04-30T00:00:00.000000000",
          "2024-04-30T00:00:00.000000000",
          "2024-05-31T00:00:00.000000000",
          "2024-05-31T00:00:00.000000000",
          "2024-06-30T00:00:00.000000000",
          "2024-06-30T00:00:00.000000000",
          "2024-07-31T00:00:00.000000000",
          "2024-07-31T00:00:00.000000000",
          "2024-08-31T00:00:00.000000000",
          "2024-08-31T00:00:00.000000000",
          "2024-09-30T00:00:00.000000000",
          "2024-09-30T00:00:00.000000000",
          "2024-10-31T00:00:00.000000000",
          "2024-10-31T00:00:00.000000000",
          "2024-11-30T00:00:00.000000000",
          "2024-11-30T00:00:00.000000000",
          "2024-12-31T00:00:00.000000000",
          "2024-12-31T00:00:00.000000000",
          "2025-01-31T00:00:00.000000000",
          "2025-01-31T00:00:00.000000000",
          "2025-02-28T00:00:00.000000000",
          "2025-02-28T00:00:00.000000000"
         ],
         "xaxis": "x",
         "y": [
          null,
          null,
          null,
          null,
          0,
          0,
          0,
          0,
          0,
          0,
          0,
          0,
          0,
          0,
          2236387364.19,
          2236387364.19,
          1094346451.085,
          1094346451.085,
          0,
          0,
          0,
          0,
          200981219.85,
          200981219.85,
          0,
          0,
          0,
          0
         ],
         "yaxis": "y"
        },
        {
         "alignmentgroup": "True",
         "hovertemplate": "project=THE PATHWAY<br>date=%{x}<br>revenue=%{y}<extra></extra>",
         "legendgroup": "THE PATHWAY",
         "marker": {
          "color": "#00cc96",
          "pattern": {
           "shape": ""
          }
         },
         "name": "THE PATHWAY",
         "offsetgroup": "THE PATHWAY",
         "orientation": "v",
         "showlegend": true,
         "textposition": "auto",
         "type": "bar",
         "x": [
          "2024-01-31T00:00:00.000000000",
          "2024-02-29T00:00:00.000000000",
          "2024-03-31T00:00:00.000000000",
          "2024-04-30T00:00:00.000000000",
          "2024-05-31T00:00:00.000000000",
          "2024-06-30T00:00:00.000000000",
          "2024-07-31T00:00:00.000000000",
          "2024-08-31T00:00:00.000000000",
          "2024-09-30T00:00:00.000000000",
          "2024-10-31T00:00:00.000000000",
          "2024-11-30T00:00:00.000000000",
          "2024-12-31T00:00:00.000000000",
          "2025-01-31T00:00:00.000000000",
          "2025-02-28T00:00:00.000000000"
         ],
         "xaxis": "x",
         "y": [
          null,
          null,
          null,
          null,
          null,
          null,
          null,
          null,
          null,
          null,
          null,
          null,
          null,
          null
         ],
         "yaxis": "y"
        },
        {
         "alignmentgroup": "True",
         "hovertemplate": "project=The Hill - Sunset Town<br>date=%{x}<br>revenue=%{y}<extra></extra>",
         "legendgroup": "The Hill - Sunset Town",
         "marker": {
          "color": "#ab63fa",
          "pattern": {
           "shape": ""
          }
         },
         "name": "The Hill - Sunset Town",
         "offsetgroup": "The Hill - Sunset Town",
         "orientation": "v",
         "showlegend": true,
         "textposition": "auto",
         "type": "bar",
         "x": [
          "2024-01-31T00:00:00.000000000",
          "2024-02-29T00:00:00.000000000",
          "2024-03-31T00:00:00.000000000",
          "2024-04-30T00:00:00.000000000",
          "2024-05-31T00:00:00.000000000",
          "2024-06-30T00:00:00.000000000",
          "2024-07-31T00:00:00.000000000",
          "2024-08-31T00:00:00.000000000",
          "2024-09-30T00:00:00.000000000",
          "2024-10-31T00:00:00.000000000",
          "2024-11-30T00:00:00.000000000",
          "2024-12-31T00:00:00.000000000",
          "2025-01-31T00:00:00.000000000",
          "2025-02-28T00:00:00.000000000"
         ],
         "xaxis": "x",
         "y": [
          null,
          null,
          null,
          null,
          null,
          null,
          null,
          null,
          null,
          null,
          null,
          null,
          null,
          null
         ],
         "yaxis": "y"
        },
        {
         "alignmentgroup": "True",
         "hovertemplate": "project=The Panoma<br>date=%{x}<br>revenue=%{y}<extra></extra>",
         "legendgroup": "The Panoma",
         "marker": {
          "color": "#FFA15A",
          "pattern": {
           "shape": ""
          }
         },
         "name": "The Panoma",
         "offsetgroup": "The Panoma",
         "orientation": "v",
         "showlegend": true,
         "textposition": "auto",
         "type": "bar",
         "x": [
          "2024-01-31T00:00:00.000000000",
          "2024-02-29T00:00:00.000000000",
          "2024-03-31T00:00:00.000000000",
          "2024-04-30T00:00:00.000000000",
          "2024-05-31T00:00:00.000000000",
          "2024-06-30T00:00:00.000000000",
          "2024-07-31T00:00:00.000000000",
          "2024-08-31T00:00:00.000000000",
          "2024-09-30T00:00:00.000000000",
          "2024-10-31T00:00:00.000000000",
          "2024-11-30T00:00:00.000000000",
          "2024-12-31T00:00:00.000000000",
          "2025-01-31T00:00:00.000000000",
          "2025-02-28T00:00:00.000000000"
         ],
         "xaxis": "x",
         "y": [
          null,
          null,
          0,
          0,
          155619775.16,
          0,
          0,
          0,
          0,
          0,
          0,
          0,
          0,
          0
         ],
         "yaxis": "y"
        },
        {
         "alignmentgroup": "True",
         "hovertemplate": "project=The Sea - Sunset Town<br>date=%{x}<br>revenue=%{y}<extra></extra>",
         "legendgroup": "The Sea - Sunset Town",
         "marker": {
          "color": "#19d3f3",
          "pattern": {
           "shape": ""
          }
         },
         "name": "The Sea - Sunset Town",
         "offsetgroup": "The Sea - Sunset Town",
         "orientation": "v",
         "showlegend": true,
         "textposition": "auto",
         "type": "bar",
         "x": [
          "2024-01-31T00:00:00.000000000",
          "2024-01-31T00:00:00.000000000",
          "2024-02-29T00:00:00.000000000",
          "2024-02-29T00:00:00.000000000",
          "2024-03-31T00:00:00.000000000",
          "2024-03-31T00:00:00.000000000",
          "2024-04-30T00:00:00.000000000",
          "2024-04-30T00:00:00.000000000",
          "2024-05-31T00:00:00.000000000",
          "2024-05-31T00:00:00.000000000",
          "2024-06-30T00:00:00.000000000",
          "2024-06-30T00:00:00.000000000",
          "2024-07-31T00:00:00.000000000",
          "2024-07-31T00:00:00.000000000",
          "2024-08-31T00:00:00.000000000",
          "2024-08-31T00:00:00.000000000",
          "2024-09-30T00:00:00.000000000",
          "2024-09-30T00:00:00.000000000",
          "2024-10-31T00:00:00.000000000",
          "2024-10-31T00:00:00.000000000",
          "2024-11-30T00:00:00.000000000",
          "2024-11-30T00:00:00.000000000",
          "2024-12-31T00:00:00.000000000",
          "2024-12-31T00:00:00.000000000",
          "2025-01-31T00:00:00.000000000",
          "2025-01-31T00:00:00.000000000",
          "2025-02-28T00:00:00.000000000",
          "2025-02-28T00:00:00.000000000"
         ],
         "xaxis": "x",
         "y": [
          null,
          null,
          null,
          null,
          79379414.54,
          79379414.54,
          0,
          0,
          0,
          0,
          0,
          0,
          0,
          0,
          0,
          0,
          0,
          0,
          0,
          0,
          0,
          0,
          0,
          0,
          0,
          0,
          0,
          0
         ],
         "yaxis": "y"
        },
        {
         "alignmentgroup": "True",
         "hovertemplate": "project=The Senique<br>date=%{x}<br>revenue=%{y}<extra></extra>",
         "legendgroup": "The Senique",
         "marker": {
          "color": "#FF6692",
          "pattern": {
           "shape": ""
          }
         },
         "name": "The Senique",
         "offsetgroup": "The Senique",
         "orientation": "v",
         "showlegend": true,
         "textposition": "auto",
         "type": "bar",
         "x": [
          "2024-01-31T00:00:00.000000000",
          "2024-02-29T00:00:00.000000000",
          "2024-03-31T00:00:00.000000000",
          "2024-04-30T00:00:00.000000000",
          "2024-05-31T00:00:00.000000000",
          "2024-06-30T00:00:00.000000000",
          "2024-07-31T00:00:00.000000000",
          "2024-08-31T00:00:00.000000000",
          "2024-09-30T00:00:00.000000000",
          "2024-10-31T00:00:00.000000000",
          "2024-11-30T00:00:00.000000000",
          "2024-12-31T00:00:00.000000000",
          "2025-01-31T00:00:00.000000000",
          "2025-02-28T00:00:00.000000000"
         ],
         "xaxis": "x",
         "y": [
          null,
          null,
          0,
          0,
          0,
          0,
          0,
          0,
          0,
          0,
          1958112816.8000002,
          0,
          0,
          0
         ],
         "yaxis": "y"
        },
        {
         "alignmentgroup": "True",
         "hovertemplate": "project=The Sola Park<br>date=%{x}<br>revenue=%{y}<extra></extra>",
         "legendgroup": "The Sola Park",
         "marker": {
          "color": "#B6E880",
          "pattern": {
           "shape": ""
          }
         },
         "name": "The Sola Park",
         "offsetgroup": "The Sola Park",
         "orientation": "v",
         "showlegend": true,
         "textposition": "auto",
         "type": "bar",
         "x": [
          "2024-01-31T00:00:00.000000000",
          "2024-02-29T00:00:00.000000000",
          "2024-03-31T00:00:00.000000000",
          "2024-04-30T00:00:00.000000000",
          "2024-05-31T00:00:00.000000000",
          "2024-06-30T00:00:00.000000000",
          "2024-07-31T00:00:00.000000000",
          "2024-08-31T00:00:00.000000000",
          "2024-09-30T00:00:00.000000000",
          "2024-10-31T00:00:00.000000000",
          "2024-11-30T00:00:00.000000000",
          "2024-12-31T00:00:00.000000000",
          "2025-01-31T00:00:00.000000000",
          "2025-02-28T00:00:00.000000000"
         ],
         "xaxis": "x",
         "y": [
          null,
          null,
          0,
          0,
          0,
          0,
          0,
          0,
          0,
          6646321405.169997,
          0,
          0,
          0,
          0
         ],
         "yaxis": "y"
        },
        {
         "alignmentgroup": "True",
         "hovertemplate": "project=The Symphony - Sun Symphony Residence<br>date=%{x}<br>revenue=%{y}<extra></extra>",
         "legendgroup": "The Symphony - Sun Symphony Residence",
         "marker": {
          "color": "#FF97FF",
          "pattern": {
           "shape": ""
          }
         },
         "name": "The Symphony - Sun Symphony Residence",
         "offsetgroup": "The Symphony - Sun Symphony Residence",
         "orientation": "v",
         "showlegend": true,
         "textposition": "auto",
         "type": "bar",
         "x": [
          "2024-01-31T00:00:00.000000000",
          "2024-02-29T00:00:00.000000000",
          "2024-03-31T00:00:00.000000000",
          "2024-04-30T00:00:00.000000000",
          "2024-05-31T00:00:00.000000000",
          "2024-06-30T00:00:00.000000000",
          "2024-07-31T00:00:00.000000000",
          "2024-08-31T00:00:00.000000000",
          "2024-09-30T00:00:00.000000000",
          "2024-10-31T00:00:00.000000000",
          "2024-11-30T00:00:00.000000000",
          "2024-12-31T00:00:00.000000000",
          "2025-01-31T00:00:00.000000000",
          "2025-02-28T00:00:00.000000000"
         ],
         "xaxis": "x",
         "y": [
          null,
          null,
          null,
          null,
          null,
          null,
          null,
          null,
          null,
          null,
          null,
          null,
          null,
          null
         ],
         "yaxis": "y"
        },
        {
         "alignmentgroup": "True",
         "hovertemplate": "project=The Victoria<br>date=%{x}<br>revenue=%{y}<extra></extra>",
         "legendgroup": "The Victoria",
         "marker": {
          "color": "#FECB52",
          "pattern": {
           "shape": ""
          }
         },
         "name": "The Victoria",
         "offsetgroup": "The Victoria",
         "orientation": "v",
         "showlegend": true,
         "textposition": "auto",
         "type": "bar",
         "x": [
          "2024-01-31T00:00:00.000000000",
          "2024-02-29T00:00:00.000000000",
          "2024-03-31T00:00:00.000000000",
          "2024-04-30T00:00:00.000000000",
          "2024-05-31T00:00:00.000000000",
          "2024-06-30T00:00:00.000000000",
          "2024-07-31T00:00:00.000000000",
          "2024-08-31T00:00:00.000000000",
          "2024-09-30T00:00:00.000000000",
          "2024-10-31T00:00:00.000000000",
          "2024-11-30T00:00:00.000000000",
          "2024-12-31T00:00:00.000000000",
          "2025-01-31T00:00:00.000000000",
          "2025-02-28T00:00:00.000000000"
         ],
         "xaxis": "x",
         "y": [
          null,
          null,
          0,
          0,
          0,
          0,
          0,
          0,
          0,
          2546598360.9999995,
          0,
          0,
          0,
          0
         ],
         "yaxis": "y"
        },
        {
         "alignmentgroup": "True",
         "hovertemplate": "project=Vinhomes Global Gate<br>date=%{x}<br>revenue=%{y}<extra></extra>",
         "legendgroup": "Vinhomes Global Gate",
         "marker": {
          "color": "#636efa",
          "pattern": {
           "shape": ""
          }
         },
         "name": "Vinhomes Global Gate",
         "offsetgroup": "Vinhomes Global Gate",
         "orientation": "v",
         "showlegend": true,
         "textposition": "auto",
         "type": "bar",
         "x": [
          "2024-01-31T00:00:00.000000000",
          "2024-02-29T00:00:00.000000000",
          "2024-03-31T00:00:00.000000000",
          "2024-04-30T00:00:00.000000000",
          "2024-05-31T00:00:00.000000000",
          "2024-06-30T00:00:00.000000000",
          "2024-07-31T00:00:00.000000000",
          "2024-08-31T00:00:00.000000000",
          "2024-09-30T00:00:00.000000000",
          "2024-10-31T00:00:00.000000000",
          "2024-11-30T00:00:00.000000000",
          "2024-12-31T00:00:00.000000000",
          "2025-01-31T00:00:00.000000000",
          "2025-02-28T00:00:00.000000000"
         ],
         "xaxis": "x",
         "y": [
          null,
          null,
          0,
          0,
          0,
          0,
          0,
          0,
          7028022455.639999,
          2576937930.9,
          616335588.54,
          0,
          0,
          0
         ],
         "yaxis": "y"
        },
        {
         "alignmentgroup": "True",
         "hovertemplate": "project=Vinhomes Royal Island<br>date=%{x}<br>revenue=%{y}<extra></extra>",
         "legendgroup": "Vinhomes Royal Island",
         "marker": {
          "color": "#EF553B",
          "pattern": {
           "shape": ""
          }
         },
         "name": "Vinhomes Royal Island",
         "offsetgroup": "Vinhomes Royal Island",
         "orientation": "v",
         "showlegend": true,
         "textposition": "auto",
         "type": "bar",
         "x": [
          "2024-01-31T00:00:00.000000000",
          "2024-01-31T00:00:00.000000000",
          "2024-02-29T00:00:00.000000000",
          "2024-02-29T00:00:00.000000000",
          "2024-03-31T00:00:00.000000000",
          "2024-03-31T00:00:00.000000000",
          "2024-04-30T00:00:00.000000000",
          "2024-04-30T00:00:00.000000000",
          "2024-05-31T00:00:00.000000000",
          "2024-05-31T00:00:00.000000000",
          "2024-06-30T00:00:00.000000000",
          "2024-06-30T00:00:00.000000000",
          "2024-07-31T00:00:00.000000000",
          "2024-07-31T00:00:00.000000000",
          "2024-08-31T00:00:00.000000000",
          "2024-08-31T00:00:00.000000000",
          "2024-09-30T00:00:00.000000000",
          "2024-09-30T00:00:00.000000000",
          "2024-10-31T00:00:00.000000000",
          "2024-10-31T00:00:00.000000000",
          "2024-11-30T00:00:00.000000000",
          "2024-11-30T00:00:00.000000000",
          "2024-12-31T00:00:00.000000000",
          "2024-12-31T00:00:00.000000000",
          "2025-01-31T00:00:00.000000000",
          "2025-01-31T00:00:00.000000000",
          "2025-02-28T00:00:00.000000000",
          "2025-02-28T00:00:00.000000000"
         ],
         "xaxis": "x",
         "y": [
          null,
          null,
          null,
          null,
          240652933.61400002,
          240652933.61400002,
          0,
          0,
          0,
          0,
          0,
          0,
          0,
          0,
          0,
          0,
          0,
          0,
          0,
          0,
          0,
          0,
          0,
          0,
          0,
          0,
          0,
          0
         ],
         "yaxis": "y"
        },
        {
         "alignmentgroup": "True",
         "hovertemplate": "project=Vinhomes Royal Residences<br>date=%{x}<br>revenue=%{y}<extra></extra>",
         "legendgroup": "Vinhomes Royal Residences",
         "marker": {
          "color": "#00cc96",
          "pattern": {
           "shape": ""
          }
         },
         "name": "Vinhomes Royal Residences",
         "offsetgroup": "Vinhomes Royal Residences",
         "orientation": "v",
         "showlegend": true,
         "textposition": "auto",
         "type": "bar",
         "x": [
          "2024-01-31T00:00:00.000000000",
          "2024-02-29T00:00:00.000000000",
          "2024-03-31T00:00:00.000000000",
          "2024-04-30T00:00:00.000000000",
          "2024-05-31T00:00:00.000000000",
          "2024-06-30T00:00:00.000000000",
          "2024-07-31T00:00:00.000000000",
          "2024-08-31T00:00:00.000000000",
          "2024-09-30T00:00:00.000000000",
          "2024-10-31T00:00:00.000000000",
          "2024-11-30T00:00:00.000000000",
          "2024-12-31T00:00:00.000000000",
          "2025-01-31T00:00:00.000000000",
          "2025-02-28T00:00:00.000000000"
         ],
         "xaxis": "x",
         "y": [
          null,
          null,
          0,
          0,
          0,
          0,
          484164357.76,
          0,
          0,
          146894178.34,
          60240202.260000005,
          0,
          0,
          0
         ],
         "yaxis": "y"
        }
       ],
       "layout": {
        "legend": {
         "title": {
          "text": "project"
         },
         "tracegroupgap": 0
        },
        "margin": {
         "t": 60
        },
        "template": {
         "data": {
          "bar": [
           {
            "error_x": {
             "color": "#2a3f5f"
            },
            "error_y": {
             "color": "#2a3f5f"
            },
            "marker": {
             "line": {
              "color": "#E5ECF6",
              "width": 0.5
             },
             "pattern": {
              "fillmode": "overlay",
              "size": 10,
              "solidity": 0.2
             }
            },
            "type": "bar"
           }
          ],
          "barpolar": [
           {
            "marker": {
             "line": {
              "color": "#E5ECF6",
              "width": 0.5
             },
             "pattern": {
              "fillmode": "overlay",
              "size": 10,
              "solidity": 0.2
             }
            },
            "type": "barpolar"
           }
          ],
          "carpet": [
           {
            "aaxis": {
             "endlinecolor": "#2a3f5f",
             "gridcolor": "white",
             "linecolor": "white",
             "minorgridcolor": "white",
             "startlinecolor": "#2a3f5f"
            },
            "baxis": {
             "endlinecolor": "#2a3f5f",
             "gridcolor": "white",
             "linecolor": "white",
             "minorgridcolor": "white",
             "startlinecolor": "#2a3f5f"
            },
            "type": "carpet"
           }
          ],
          "choropleth": [
           {
            "colorbar": {
             "outlinewidth": 0,
             "ticks": ""
            },
            "type": "choropleth"
           }
          ],
          "contour": [
           {
            "colorbar": {
             "outlinewidth": 0,
             "ticks": ""
            },
            "colorscale": [
             [
              0,
              "#0d0887"
             ],
             [
              0.1111111111111111,
              "#46039f"
             ],
             [
              0.2222222222222222,
              "#7201a8"
             ],
             [
              0.3333333333333333,
              "#9c179e"
             ],
             [
              0.4444444444444444,
              "#bd3786"
             ],
             [
              0.5555555555555556,
              "#d8576b"
             ],
             [
              0.6666666666666666,
              "#ed7953"
             ],
             [
              0.7777777777777778,
              "#fb9f3a"
             ],
             [
              0.8888888888888888,
              "#fdca26"
             ],
             [
              1,
              "#f0f921"
             ]
            ],
            "type": "contour"
           }
          ],
          "contourcarpet": [
           {
            "colorbar": {
             "outlinewidth": 0,
             "ticks": ""
            },
            "type": "contourcarpet"
           }
          ],
          "heatmap": [
           {
            "colorbar": {
             "outlinewidth": 0,
             "ticks": ""
            },
            "colorscale": [
             [
              0,
              "#0d0887"
             ],
             [
              0.1111111111111111,
              "#46039f"
             ],
             [
              0.2222222222222222,
              "#7201a8"
             ],
             [
              0.3333333333333333,
              "#9c179e"
             ],
             [
              0.4444444444444444,
              "#bd3786"
             ],
             [
              0.5555555555555556,
              "#d8576b"
             ],
             [
              0.6666666666666666,
              "#ed7953"
             ],
             [
              0.7777777777777778,
              "#fb9f3a"
             ],
             [
              0.8888888888888888,
              "#fdca26"
             ],
             [
              1,
              "#f0f921"
             ]
            ],
            "type": "heatmap"
           }
          ],
          "histogram": [
           {
            "marker": {
             "pattern": {
              "fillmode": "overlay",
              "size": 10,
              "solidity": 0.2
             }
            },
            "type": "histogram"
           }
          ],
          "histogram2d": [
           {
            "colorbar": {
             "outlinewidth": 0,
             "ticks": ""
            },
            "colorscale": [
             [
              0,
              "#0d0887"
             ],
             [
              0.1111111111111111,
              "#46039f"
             ],
             [
              0.2222222222222222,
              "#7201a8"
             ],
             [
              0.3333333333333333,
              "#9c179e"
             ],
             [
              0.4444444444444444,
              "#bd3786"
             ],
             [
              0.5555555555555556,
              "#d8576b"
             ],
             [
              0.6666666666666666,
              "#ed7953"
             ],
             [
              0.7777777777777778,
              "#fb9f3a"
             ],
             [
              0.8888888888888888,
              "#fdca26"
             ],
             [
              1,
              "#f0f921"
             ]
            ],
            "type": "histogram2d"
           }
          ],
          "histogram2dcontour": [
           {
            "colorbar": {
             "outlinewidth": 0,
             "ticks": ""
            },
            "colorscale": [
             [
              0,
              "#0d0887"
             ],
             [
              0.1111111111111111,
              "#46039f"
             ],
             [
              0.2222222222222222,
              "#7201a8"
             ],
             [
              0.3333333333333333,
              "#9c179e"
             ],
             [
              0.4444444444444444,
              "#bd3786"
             ],
             [
              0.5555555555555556,
              "#d8576b"
             ],
             [
              0.6666666666666666,
              "#ed7953"
             ],
             [
              0.7777777777777778,
              "#fb9f3a"
             ],
             [
              0.8888888888888888,
              "#fdca26"
             ],
             [
              1,
              "#f0f921"
             ]
            ],
            "type": "histogram2dcontour"
           }
          ],
          "mesh3d": [
           {
            "colorbar": {
             "outlinewidth": 0,
             "ticks": ""
            },
            "type": "mesh3d"
           }
          ],
          "parcoords": [
           {
            "line": {
             "colorbar": {
              "outlinewidth": 0,
              "ticks": ""
             }
            },
            "type": "parcoords"
           }
          ],
          "pie": [
           {
            "automargin": true,
            "type": "pie"
           }
          ],
          "scatter": [
           {
            "fillpattern": {
             "fillmode": "overlay",
             "size": 10,
             "solidity": 0.2
            },
            "type": "scatter"
           }
          ],
          "scatter3d": [
           {
            "line": {
             "colorbar": {
              "outlinewidth": 0,
              "ticks": ""
             }
            },
            "marker": {
             "colorbar": {
              "outlinewidth": 0,
              "ticks": ""
             }
            },
            "type": "scatter3d"
           }
          ],
          "scattercarpet": [
           {
            "marker": {
             "colorbar": {
              "outlinewidth": 0,
              "ticks": ""
             }
            },
            "type": "scattercarpet"
           }
          ],
          "scattergeo": [
           {
            "marker": {
             "colorbar": {
              "outlinewidth": 0,
              "ticks": ""
             }
            },
            "type": "scattergeo"
           }
          ],
          "scattergl": [
           {
            "marker": {
             "colorbar": {
              "outlinewidth": 0,
              "ticks": ""
             }
            },
            "type": "scattergl"
           }
          ],
          "scattermap": [
           {
            "marker": {
             "colorbar": {
              "outlinewidth": 0,
              "ticks": ""
             }
            },
            "type": "scattermap"
           }
          ],
          "scattermapbox": [
           {
            "marker": {
             "colorbar": {
              "outlinewidth": 0,
              "ticks": ""
             }
            },
            "type": "scattermapbox"
           }
          ],
          "scatterpolar": [
           {
            "marker": {
             "colorbar": {
              "outlinewidth": 0,
              "ticks": ""
             }
            },
            "type": "scatterpolar"
           }
          ],
          "scatterpolargl": [
           {
            "marker": {
             "colorbar": {
              "outlinewidth": 0,
              "ticks": ""
             }
            },
            "type": "scatterpolargl"
           }
          ],
          "scatterternary": [
           {
            "marker": {
             "colorbar": {
              "outlinewidth": 0,
              "ticks": ""
             }
            },
            "type": "scatterternary"
           }
          ],
          "surface": [
           {
            "colorbar": {
             "outlinewidth": 0,
             "ticks": ""
            },
            "colorscale": [
             [
              0,
              "#0d0887"
             ],
             [
              0.1111111111111111,
              "#46039f"
             ],
             [
              0.2222222222222222,
              "#7201a8"
             ],
             [
              0.3333333333333333,
              "#9c179e"
             ],
             [
              0.4444444444444444,
              "#bd3786"
             ],
             [
              0.5555555555555556,
              "#d8576b"
             ],
             [
              0.6666666666666666,
              "#ed7953"
             ],
             [
              0.7777777777777778,
              "#fb9f3a"
             ],
             [
              0.8888888888888888,
              "#fdca26"
             ],
             [
              1,
              "#f0f921"
             ]
            ],
            "type": "surface"
           }
          ],
          "table": [
           {
            "cells": {
             "fill": {
              "color": "#EBF0F8"
             },
             "line": {
              "color": "white"
             }
            },
            "header": {
             "fill": {
              "color": "#C8D4E3"
             },
             "line": {
              "color": "white"
             }
            },
            "type": "table"
           }
          ]
         },
         "layout": {
          "annotationdefaults": {
           "arrowcolor": "#2a3f5f",
           "arrowhead": 0,
           "arrowwidth": 1
          },
          "autotypenumbers": "strict",
          "coloraxis": {
           "colorbar": {
            "outlinewidth": 0,
            "ticks": ""
           }
          },
          "colorscale": {
           "diverging": [
            [
             0,
             "#8e0152"
            ],
            [
             0.1,
             "#c51b7d"
            ],
            [
             0.2,
             "#de77ae"
            ],
            [
             0.3,
             "#f1b6da"
            ],
            [
             0.4,
             "#fde0ef"
            ],
            [
             0.5,
             "#f7f7f7"
            ],
            [
             0.6,
             "#e6f5d0"
            ],
            [
             0.7,
             "#b8e186"
            ],
            [
             0.8,
             "#7fbc41"
            ],
            [
             0.9,
             "#4d9221"
            ],
            [
             1,
             "#276419"
            ]
           ],
           "sequential": [
            [
             0,
             "#0d0887"
            ],
            [
             0.1111111111111111,
             "#46039f"
            ],
            [
             0.2222222222222222,
             "#7201a8"
            ],
            [
             0.3333333333333333,
             "#9c179e"
            ],
            [
             0.4444444444444444,
             "#bd3786"
            ],
            [
             0.5555555555555556,
             "#d8576b"
            ],
            [
             0.6666666666666666,
             "#ed7953"
            ],
            [
             0.7777777777777778,
             "#fb9f3a"
            ],
            [
             0.8888888888888888,
             "#fdca26"
            ],
            [
             1,
             "#f0f921"
            ]
           ],
           "sequentialminus": [
            [
             0,
             "#0d0887"
            ],
            [
             0.1111111111111111,
             "#46039f"
            ],
            [
             0.2222222222222222,
             "#7201a8"
            ],
            [
             0.3333333333333333,
             "#9c179e"
            ],
            [
             0.4444444444444444,
             "#bd3786"
            ],
            [
             0.5555555555555556,
             "#d8576b"
            ],
            [
             0.6666666666666666,
             "#ed7953"
            ],
            [
             0.7777777777777778,
             "#fb9f3a"
            ],
            [
             0.8888888888888888,
             "#fdca26"
            ],
            [
             1,
             "#f0f921"
            ]
           ]
          },
          "colorway": [
           "#636efa",
           "#EF553B",
           "#00cc96",
           "#ab63fa",
           "#FFA15A",
           "#19d3f3",
           "#FF6692",
           "#B6E880",
           "#FF97FF",
           "#FECB52"
          ],
          "font": {
           "color": "#2a3f5f"
          },
          "geo": {
           "bgcolor": "white",
           "lakecolor": "white",
           "landcolor": "#E5ECF6",
           "showlakes": true,
           "showland": true,
           "subunitcolor": "white"
          },
          "hoverlabel": {
           "align": "left"
          },
          "hovermode": "closest",
          "mapbox": {
           "style": "light"
          },
          "paper_bgcolor": "white",
          "plot_bgcolor": "#E5ECF6",
          "polar": {
           "angularaxis": {
            "gridcolor": "white",
            "linecolor": "white",
            "ticks": ""
           },
           "bgcolor": "#E5ECF6",
           "radialaxis": {
            "gridcolor": "white",
            "linecolor": "white",
            "ticks": ""
           }
          },
          "scene": {
           "xaxis": {
            "backgroundcolor": "#E5ECF6",
            "gridcolor": "white",
            "gridwidth": 2,
            "linecolor": "white",
            "showbackground": true,
            "ticks": "",
            "zerolinecolor": "white"
           },
           "yaxis": {
            "backgroundcolor": "#E5ECF6",
            "gridcolor": "white",
            "gridwidth": 2,
            "linecolor": "white",
            "showbackground": true,
            "ticks": "",
            "zerolinecolor": "white"
           },
           "zaxis": {
            "backgroundcolor": "#E5ECF6",
            "gridcolor": "white",
            "gridwidth": 2,
            "linecolor": "white",
            "showbackground": true,
            "ticks": "",
            "zerolinecolor": "white"
           }
          },
          "shapedefaults": {
           "line": {
            "color": "#2a3f5f"
           }
          },
          "ternary": {
           "aaxis": {
            "gridcolor": "white",
            "linecolor": "white",
            "ticks": ""
           },
           "baxis": {
            "gridcolor": "white",
            "linecolor": "white",
            "ticks": ""
           },
           "bgcolor": "#E5ECF6",
           "caxis": {
            "gridcolor": "white",
            "linecolor": "white",
            "ticks": ""
           }
          },
          "title": {
           "x": 0.05
          },
          "xaxis": {
           "automargin": true,
           "gridcolor": "white",
           "linecolor": "white",
           "ticks": "",
           "title": {
            "standoff": 15
           },
           "zerolinecolor": "white",
           "zerolinewidth": 2
          },
          "yaxis": {
           "automargin": true,
           "gridcolor": "white",
           "linecolor": "white",
           "ticks": "",
           "title": {
            "standoff": 15
           },
           "zerolinecolor": "white",
           "zerolinewidth": 2
          }
         }
        },
        "xaxis": {
         "anchor": "y",
         "domain": [
          0,
          1
         ],
         "title": {
          "text": "date"
         }
        },
        "yaxis": {
         "anchor": "x",
         "domain": [
          0,
          1
         ],
         "title": {
          "text": "revenue"
         }
        }
       }
      }
     },
     "metadata": {},
     "output_type": "display_data"
    }
   ],
   "source": [
    "px.bar(\n",
    "    data_frame=df.loc[\n",
    "        ~df.project.isin(ignore_category)\n",
    "    ], \n",
    "    x=\"date\", y=\"revenue\",\n",
    "    color=\"project\",\n",
    "    barmode=None\n",
    ")"
   ]
  },
  {
   "cell_type": "code",
   "execution_count": 3,
   "id": "40a1b3a5",
   "metadata": {},
   "outputs": [
    {
     "name": "stderr",
     "output_type": "stream",
     "text": [
      "C:\\Users\\ADMIN\\AppData\\Local\\Temp\\ipykernel_20884\\1742378497.py:42: FutureWarning: Downcasting behavior in `replace` is deprecated and will be removed in a future version. To retain the old behavior, explicitly call `result.infer_objects(copy=False)`. To opt-in to the future behavior, set `pd.set_option('future.no_silent_downcasting', True)`\n",
      "  CoR = lambda x: x[\"cogs\"] / x[\"revenue\"].replace(0, np.nan)\n",
      "C:\\Users\\ADMIN\\AppData\\Local\\Temp\\ipykernel_20884\\1742378497.py:47: FutureWarning: Downcasting behavior in `replace` is deprecated and will be removed in a future version. To retain the old behavior, explicitly call `result.infer_objects(copy=False)`. To opt-in to the future behavior, set `pd.set_option('future.no_silent_downcasting', True)`\n",
      "  ebtRev = lambda x: x['ebt'] / x['revenue'].replace(0, np.nan)\n"
     ]
    }
   ],
   "source": [
    "import pandas as pd\n",
    "from pandas.tseries.offsets import MonthEnd\n",
    "import plotly.express as px\n",
    "import numpy as np\n",
    "import streamlit as st\n",
    "\n",
    "# Shorten unit\n",
    "UNIT = 1000000\n",
    "\n",
    "# Process data\n",
    "\n",
    "def readData(sheetName=\"\", valueName=\"\"):\n",
    "    data = pd.read_excel(\"reti_data.xlsx\", sheet_name=sheetName, header=None).transpose()\n",
    "    data.columns = data.iloc[0]\n",
    "    data = data[1:]\n",
    "    df = pd.melt(\n",
    "        data,\n",
    "        id_vars=['Tháng',\"Năm\"],\n",
    "        value_vars=data.columns[2:],\n",
    "        var_name=\"project\",\n",
    "        value_name=valueName\n",
    "    ).rename(columns={\n",
    "        \"Tháng\":\"month\",\n",
    "        \"Năm\":\"year\"\n",
    "    }).assign(\n",
    "        date=lambda x: x['month'].astype(int).astype(str) + '/' + x['year'].astype(int).astype(str)\n",
    "    ).assign(\n",
    "        date = lambda x: pd.to_datetime(x['date'], format=\"%m/%Y\") + MonthEnd(0)\n",
    "    )\n",
    "    return df\n",
    "\n",
    "revenue_df = readData('revenue', 'revenue')\n",
    "cogs_df = readData('cogs', 'cogs')\n",
    "fee_df = readData('fee', 'fee')\n",
    "ebt = fee_df.loc[fee_df['project']==\"LỢI NHUẬN THUẦN TRƯỚC THUẾ\"]\n",
    "\n",
    "revenue_df.loc[:,\"project\"] = revenue_df[\"project\"].replace(\"DOANH THU\", \"total\")\n",
    "cogs_df.loc[:,\"project\"] = cogs_df[\"project\"].replace(\"GIÁ VỐN HÀNG BÁN\", \"total\")\n",
    "ebt.loc[:,\"project\"] = ebt[\"project\"].replace(\"LỢI NHUẬN THUẦN TRƯỚC THUẾ\", \"total\")\n",
    "\n",
    "df = pd.merge(revenue_df, cogs_df, how='outer', on=[\"project\", \"date\", \"year\", \"month\"]).assign(\n",
    "    CoR = lambda x: x[\"cogs\"] / x[\"revenue\"].replace(0, np.nan)\n",
    ")\n",
    "df = pd.merge(\n",
    "    df, ebt, on=[\"project\", \"date\", \"year\", \"month\"], how=\"outer\"\n",
    ").rename(columns={\"fee\":\"ebt\"}).assign(\n",
    "    ebtRev = lambda x: x['ebt'] / x['revenue'].replace(0, np.nan)\n",
    ").assign(\n",
    "    month = lambda x: x['month'].astype(int),\n",
    "    year = lambda x: x['year'].astype(int),\n",
    "    revenue = lambda x: x['revenue'].astype(float),\n",
    "    cogs = lambda x: x['cogs'].astype(float),\n",
    "    CoR = lambda x: x['CoR'].astype(float),\n",
    "    ebt = lambda x: x['ebt'].astype(float),\n",
    "    ebtRev = lambda x: x['ebtRev'].astype(float)\n",
    ")\n"
   ]
  },
  {
   "cell_type": "code",
   "execution_count": null,
   "id": "89f50b7d",
   "metadata": {},
   "outputs": [],
   "source": [
    "\n",
    "ignore_category = [\n",
    "    \"DOANH THU\", \"Thưởng nóng\", \"Doanh thu cho thuê HCM\",\n",
    "    \"Doanh thu khác\", \"Giá vốn VP HCM\", \"total\"\n",
    "]\n",
    "revenue_df = df.loc[(~df.project.isin(ignore_category))]"
   ]
  },
  {
   "cell_type": "code",
   "execution_count": 67,
   "id": "404826be",
   "metadata": {},
   "outputs": [],
   "source": [
    "other_revenue = pd.DataFrame(\n",
    "    df.loc[(df.project.isin([\"Doanh thu cho thuê HCM\", \"Thưởng nóng\"]))].groupby([\"year\", \"month\", \"project\"])[[\"revenue\"]].sum()\n",
    ").reset_index()\n",
    "operational_revenue = pd.DataFrame(revenue_df.groupby([\"year\", \"month\"])[\"revenue\"].sum()).reset_index()\\\n",
    ".assign(\n",
    "    project = \"Project Revenue\"\n",
    ")\n",
    "revenue_summary = pd.concat([operational_revenue, other_revenue], axis=0).assign(\n",
    "        date=lambda x: x['month'].astype(int).astype(str) + '/' + x['year'].astype(int).astype(str)\n",
    "    ).assign(\n",
    "        date = lambda x: pd.to_datetime(x['date'], format=\"%m/%Y\") + MonthEnd(0)\n",
    "    )"
   ]
  },
  {
   "cell_type": "code",
   "execution_count": 68,
   "id": "3afcda9c",
   "metadata": {},
   "outputs": [
    {
     "data": {
      "application/vnd.microsoft.datawrangler.viewer.v0+json": {
       "columns": [
        {
         "name": "index",
         "rawType": "int64",
         "type": "integer"
        },
        {
         "name": "year",
         "rawType": "int32",
         "type": "integer"
        },
        {
         "name": "month",
         "rawType": "int32",
         "type": "integer"
        },
        {
         "name": "revenue",
         "rawType": "float64",
         "type": "float"
        },
        {
         "name": "project",
         "rawType": "object",
         "type": "string"
        },
        {
         "name": "date",
         "rawType": "datetime64[ns]",
         "type": "datetime"
        }
       ],
       "conversionMethod": "pd.DataFrame",
       "ref": "080b2aa0-2989-41e6-839f-5893939301a0",
       "rows": [
        [
         "0",
         "2024",
         "1",
         "230678439.0",
         "Project Revenue",
         "2024-01-31 00:00:00"
        ],
        [
         "1",
         "2024",
         "2",
         "0.0",
         "Project Revenue",
         "2024-02-29 00:00:00"
        ],
        [
         "2",
         "2024",
         "3",
         "320032348.15400004",
         "Project Revenue",
         "2024-03-31 00:00:00"
        ],
        [
         "3",
         "2024",
         "4",
         "10789155520.978199",
         "Project Revenue",
         "2024-04-30 00:00:00"
        ],
        [
         "4",
         "2024",
         "5",
         "7867321165.1652",
         "Project Revenue",
         "2024-05-31 00:00:00"
        ],
        [
         "5",
         "2024",
         "6",
         "6195507558.650002",
         "Project Revenue",
         "2024-06-30 00:00:00"
        ],
        [
         "6",
         "2024",
         "7",
         "3487681700.7999997",
         "Project Revenue",
         "2024-07-31 00:00:00"
        ],
        [
         "7",
         "2024",
         "8",
         "5497489763.71",
         "Project Revenue",
         "2024-08-31 00:00:00"
        ],
        [
         "8",
         "2024",
         "9",
         "9269263384.904999",
         "Project Revenue",
         "2024-09-30 00:00:00"
        ],
        [
         "9",
         "2024",
         "10",
         "16449753234.249197",
         "Project Revenue",
         "2024-10-31 00:00:00"
        ],
        [
         "10",
         "2024",
         "11",
         "4084330403.366505",
         "Project Revenue",
         "2024-11-30 00:00:00"
        ],
        [
         "11",
         "2024",
         "12",
         "10902849307.127998",
         "Project Revenue",
         "2024-12-31 00:00:00"
        ],
        [
         "12",
         "2025",
         "1",
         "539359012.2030001",
         "Project Revenue",
         "2025-01-31 00:00:00"
        ],
        [
         "13",
         "2025",
         "2",
         "1382445966.7849998",
         "Project Revenue",
         "2025-02-28 00:00:00"
        ],
        [
         "0",
         "2024",
         "1",
         "89091345.0",
         "Doanh thu cho thuê HCM",
         "2024-01-31 00:00:00"
        ],
        [
         "1",
         "2024",
         "1",
         "13636364.0",
         "Thưởng nóng",
         "2024-01-31 00:00:00"
        ],
        [
         "2",
         "2024",
         "2",
         "88749053.0",
         "Doanh thu cho thuê HCM",
         "2024-02-29 00:00:00"
        ],
        [
         "3",
         "2024",
         "2",
         "0.0",
         "Thưởng nóng",
         "2024-02-29 00:00:00"
        ],
        [
         "4",
         "2024",
         "3",
         "5292206.0",
         "Doanh thu cho thuê HCM",
         "2024-03-31 00:00:00"
        ],
        [
         "5",
         "2024",
         "3",
         "0.0",
         "Thưởng nóng",
         "2024-03-31 00:00:00"
        ],
        [
         "6",
         "2024",
         "4",
         "0.0",
         "Doanh thu cho thuê HCM",
         "2024-04-30 00:00:00"
        ],
        [
         "7",
         "2024",
         "4",
         "336363637.0",
         "Thưởng nóng",
         "2024-04-30 00:00:00"
        ],
        [
         "8",
         "2024",
         "5",
         "0.0",
         "Doanh thu cho thuê HCM",
         "2024-05-31 00:00:00"
        ],
        [
         "9",
         "2024",
         "5",
         "613636364.0",
         "Thưởng nóng",
         "2024-05-31 00:00:00"
        ],
        [
         "10",
         "2024",
         "6",
         "0.0",
         "Doanh thu cho thuê HCM",
         "2024-06-30 00:00:00"
        ],
        [
         "11",
         "2024",
         "6",
         "813636364.0",
         "Thưởng nóng",
         "2024-06-30 00:00:00"
        ],
        [
         "12",
         "2024",
         "7",
         "0.0",
         "Doanh thu cho thuê HCM",
         "2024-07-31 00:00:00"
        ],
        [
         "13",
         "2024",
         "7",
         "265000001.0",
         "Thưởng nóng",
         "2024-07-31 00:00:00"
        ],
        [
         "14",
         "2024",
         "8",
         "0.0",
         "Doanh thu cho thuê HCM",
         "2024-08-31 00:00:00"
        ],
        [
         "15",
         "2024",
         "8",
         "13636364.0",
         "Thưởng nóng",
         "2024-08-31 00:00:00"
        ],
        [
         "16",
         "2024",
         "9",
         "0.0",
         "Doanh thu cho thuê HCM",
         "2024-09-30 00:00:00"
        ],
        [
         "17",
         "2024",
         "9",
         "654545454.0",
         "Thưởng nóng",
         "2024-09-30 00:00:00"
        ],
        [
         "18",
         "2024",
         "10",
         "0.0",
         "Doanh thu cho thuê HCM",
         "2024-10-31 00:00:00"
        ],
        [
         "19",
         "2024",
         "10",
         "217727273.0",
         "Thưởng nóng",
         "2024-10-31 00:00:00"
        ],
        [
         "20",
         "2024",
         "11",
         "0.0",
         "Doanh thu cho thuê HCM",
         "2024-11-30 00:00:00"
        ],
        [
         "21",
         "2024",
         "11",
         "22727273.0",
         "Thưởng nóng",
         "2024-11-30 00:00:00"
        ],
        [
         "22",
         "2024",
         "12",
         "0.0",
         "Doanh thu cho thuê HCM",
         "2024-12-31 00:00:00"
        ],
        [
         "23",
         "2024",
         "12",
         "0.0",
         "Thưởng nóng",
         "2024-12-31 00:00:00"
        ],
        [
         "24",
         "2025",
         "1",
         "0.0",
         "Doanh thu cho thuê HCM",
         "2025-01-31 00:00:00"
        ],
        [
         "25",
         "2025",
         "1",
         "144090908.0",
         "Thưởng nóng",
         "2025-01-31 00:00:00"
        ],
        [
         "26",
         "2025",
         "2",
         "0.0",
         "Doanh thu cho thuê HCM",
         "2025-02-28 00:00:00"
        ],
        [
         "27",
         "2025",
         "2",
         "0.0",
         "Thưởng nóng",
         "2025-02-28 00:00:00"
        ]
       ],
       "shape": {
        "columns": 5,
        "rows": 42
       }
      },
      "text/html": [
       "<div>\n",
       "<style scoped>\n",
       "    .dataframe tbody tr th:only-of-type {\n",
       "        vertical-align: middle;\n",
       "    }\n",
       "\n",
       "    .dataframe tbody tr th {\n",
       "        vertical-align: top;\n",
       "    }\n",
       "\n",
       "    .dataframe thead th {\n",
       "        text-align: right;\n",
       "    }\n",
       "</style>\n",
       "<table border=\"1\" class=\"dataframe\">\n",
       "  <thead>\n",
       "    <tr style=\"text-align: right;\">\n",
       "      <th></th>\n",
       "      <th>year</th>\n",
       "      <th>month</th>\n",
       "      <th>revenue</th>\n",
       "      <th>project</th>\n",
       "      <th>date</th>\n",
       "    </tr>\n",
       "  </thead>\n",
       "  <tbody>\n",
       "    <tr>\n",
       "      <th>0</th>\n",
       "      <td>2024</td>\n",
       "      <td>1</td>\n",
       "      <td>2.306784e+08</td>\n",
       "      <td>Project Revenue</td>\n",
       "      <td>2024-01-31</td>\n",
       "    </tr>\n",
       "    <tr>\n",
       "      <th>1</th>\n",
       "      <td>2024</td>\n",
       "      <td>2</td>\n",
       "      <td>0.000000e+00</td>\n",
       "      <td>Project Revenue</td>\n",
       "      <td>2024-02-29</td>\n",
       "    </tr>\n",
       "    <tr>\n",
       "      <th>2</th>\n",
       "      <td>2024</td>\n",
       "      <td>3</td>\n",
       "      <td>3.200323e+08</td>\n",
       "      <td>Project Revenue</td>\n",
       "      <td>2024-03-31</td>\n",
       "    </tr>\n",
       "    <tr>\n",
       "      <th>3</th>\n",
       "      <td>2024</td>\n",
       "      <td>4</td>\n",
       "      <td>1.078916e+10</td>\n",
       "      <td>Project Revenue</td>\n",
       "      <td>2024-04-30</td>\n",
       "    </tr>\n",
       "    <tr>\n",
       "      <th>4</th>\n",
       "      <td>2024</td>\n",
       "      <td>5</td>\n",
       "      <td>7.867321e+09</td>\n",
       "      <td>Project Revenue</td>\n",
       "      <td>2024-05-31</td>\n",
       "    </tr>\n",
       "    <tr>\n",
       "      <th>5</th>\n",
       "      <td>2024</td>\n",
       "      <td>6</td>\n",
       "      <td>6.195508e+09</td>\n",
       "      <td>Project Revenue</td>\n",
       "      <td>2024-06-30</td>\n",
       "    </tr>\n",
       "    <tr>\n",
       "      <th>6</th>\n",
       "      <td>2024</td>\n",
       "      <td>7</td>\n",
       "      <td>3.487682e+09</td>\n",
       "      <td>Project Revenue</td>\n",
       "      <td>2024-07-31</td>\n",
       "    </tr>\n",
       "    <tr>\n",
       "      <th>7</th>\n",
       "      <td>2024</td>\n",
       "      <td>8</td>\n",
       "      <td>5.497490e+09</td>\n",
       "      <td>Project Revenue</td>\n",
       "      <td>2024-08-31</td>\n",
       "    </tr>\n",
       "    <tr>\n",
       "      <th>8</th>\n",
       "      <td>2024</td>\n",
       "      <td>9</td>\n",
       "      <td>9.269263e+09</td>\n",
       "      <td>Project Revenue</td>\n",
       "      <td>2024-09-30</td>\n",
       "    </tr>\n",
       "    <tr>\n",
       "      <th>9</th>\n",
       "      <td>2024</td>\n",
       "      <td>10</td>\n",
       "      <td>1.644975e+10</td>\n",
       "      <td>Project Revenue</td>\n",
       "      <td>2024-10-31</td>\n",
       "    </tr>\n",
       "    <tr>\n",
       "      <th>10</th>\n",
       "      <td>2024</td>\n",
       "      <td>11</td>\n",
       "      <td>4.084330e+09</td>\n",
       "      <td>Project Revenue</td>\n",
       "      <td>2024-11-30</td>\n",
       "    </tr>\n",
       "    <tr>\n",
       "      <th>11</th>\n",
       "      <td>2024</td>\n",
       "      <td>12</td>\n",
       "      <td>1.090285e+10</td>\n",
       "      <td>Project Revenue</td>\n",
       "      <td>2024-12-31</td>\n",
       "    </tr>\n",
       "    <tr>\n",
       "      <th>12</th>\n",
       "      <td>2025</td>\n",
       "      <td>1</td>\n",
       "      <td>5.393590e+08</td>\n",
       "      <td>Project Revenue</td>\n",
       "      <td>2025-01-31</td>\n",
       "    </tr>\n",
       "    <tr>\n",
       "      <th>13</th>\n",
       "      <td>2025</td>\n",
       "      <td>2</td>\n",
       "      <td>1.382446e+09</td>\n",
       "      <td>Project Revenue</td>\n",
       "      <td>2025-02-28</td>\n",
       "    </tr>\n",
       "    <tr>\n",
       "      <th>0</th>\n",
       "      <td>2024</td>\n",
       "      <td>1</td>\n",
       "      <td>8.909134e+07</td>\n",
       "      <td>Doanh thu cho thuê HCM</td>\n",
       "      <td>2024-01-31</td>\n",
       "    </tr>\n",
       "    <tr>\n",
       "      <th>1</th>\n",
       "      <td>2024</td>\n",
       "      <td>1</td>\n",
       "      <td>1.363636e+07</td>\n",
       "      <td>Thưởng nóng</td>\n",
       "      <td>2024-01-31</td>\n",
       "    </tr>\n",
       "    <tr>\n",
       "      <th>2</th>\n",
       "      <td>2024</td>\n",
       "      <td>2</td>\n",
       "      <td>8.874905e+07</td>\n",
       "      <td>Doanh thu cho thuê HCM</td>\n",
       "      <td>2024-02-29</td>\n",
       "    </tr>\n",
       "    <tr>\n",
       "      <th>3</th>\n",
       "      <td>2024</td>\n",
       "      <td>2</td>\n",
       "      <td>0.000000e+00</td>\n",
       "      <td>Thưởng nóng</td>\n",
       "      <td>2024-02-29</td>\n",
       "    </tr>\n",
       "    <tr>\n",
       "      <th>4</th>\n",
       "      <td>2024</td>\n",
       "      <td>3</td>\n",
       "      <td>5.292206e+06</td>\n",
       "      <td>Doanh thu cho thuê HCM</td>\n",
       "      <td>2024-03-31</td>\n",
       "    </tr>\n",
       "    <tr>\n",
       "      <th>5</th>\n",
       "      <td>2024</td>\n",
       "      <td>3</td>\n",
       "      <td>0.000000e+00</td>\n",
       "      <td>Thưởng nóng</td>\n",
       "      <td>2024-03-31</td>\n",
       "    </tr>\n",
       "    <tr>\n",
       "      <th>6</th>\n",
       "      <td>2024</td>\n",
       "      <td>4</td>\n",
       "      <td>0.000000e+00</td>\n",
       "      <td>Doanh thu cho thuê HCM</td>\n",
       "      <td>2024-04-30</td>\n",
       "    </tr>\n",
       "    <tr>\n",
       "      <th>7</th>\n",
       "      <td>2024</td>\n",
       "      <td>4</td>\n",
       "      <td>3.363636e+08</td>\n",
       "      <td>Thưởng nóng</td>\n",
       "      <td>2024-04-30</td>\n",
       "    </tr>\n",
       "    <tr>\n",
       "      <th>8</th>\n",
       "      <td>2024</td>\n",
       "      <td>5</td>\n",
       "      <td>0.000000e+00</td>\n",
       "      <td>Doanh thu cho thuê HCM</td>\n",
       "      <td>2024-05-31</td>\n",
       "    </tr>\n",
       "    <tr>\n",
       "      <th>9</th>\n",
       "      <td>2024</td>\n",
       "      <td>5</td>\n",
       "      <td>6.136364e+08</td>\n",
       "      <td>Thưởng nóng</td>\n",
       "      <td>2024-05-31</td>\n",
       "    </tr>\n",
       "    <tr>\n",
       "      <th>10</th>\n",
       "      <td>2024</td>\n",
       "      <td>6</td>\n",
       "      <td>0.000000e+00</td>\n",
       "      <td>Doanh thu cho thuê HCM</td>\n",
       "      <td>2024-06-30</td>\n",
       "    </tr>\n",
       "    <tr>\n",
       "      <th>11</th>\n",
       "      <td>2024</td>\n",
       "      <td>6</td>\n",
       "      <td>8.136364e+08</td>\n",
       "      <td>Thưởng nóng</td>\n",
       "      <td>2024-06-30</td>\n",
       "    </tr>\n",
       "    <tr>\n",
       "      <th>12</th>\n",
       "      <td>2024</td>\n",
       "      <td>7</td>\n",
       "      <td>0.000000e+00</td>\n",
       "      <td>Doanh thu cho thuê HCM</td>\n",
       "      <td>2024-07-31</td>\n",
       "    </tr>\n",
       "    <tr>\n",
       "      <th>13</th>\n",
       "      <td>2024</td>\n",
       "      <td>7</td>\n",
       "      <td>2.650000e+08</td>\n",
       "      <td>Thưởng nóng</td>\n",
       "      <td>2024-07-31</td>\n",
       "    </tr>\n",
       "    <tr>\n",
       "      <th>14</th>\n",
       "      <td>2024</td>\n",
       "      <td>8</td>\n",
       "      <td>0.000000e+00</td>\n",
       "      <td>Doanh thu cho thuê HCM</td>\n",
       "      <td>2024-08-31</td>\n",
       "    </tr>\n",
       "    <tr>\n",
       "      <th>15</th>\n",
       "      <td>2024</td>\n",
       "      <td>8</td>\n",
       "      <td>1.363636e+07</td>\n",
       "      <td>Thưởng nóng</td>\n",
       "      <td>2024-08-31</td>\n",
       "    </tr>\n",
       "    <tr>\n",
       "      <th>16</th>\n",
       "      <td>2024</td>\n",
       "      <td>9</td>\n",
       "      <td>0.000000e+00</td>\n",
       "      <td>Doanh thu cho thuê HCM</td>\n",
       "      <td>2024-09-30</td>\n",
       "    </tr>\n",
       "    <tr>\n",
       "      <th>17</th>\n",
       "      <td>2024</td>\n",
       "      <td>9</td>\n",
       "      <td>6.545455e+08</td>\n",
       "      <td>Thưởng nóng</td>\n",
       "      <td>2024-09-30</td>\n",
       "    </tr>\n",
       "    <tr>\n",
       "      <th>18</th>\n",
       "      <td>2024</td>\n",
       "      <td>10</td>\n",
       "      <td>0.000000e+00</td>\n",
       "      <td>Doanh thu cho thuê HCM</td>\n",
       "      <td>2024-10-31</td>\n",
       "    </tr>\n",
       "    <tr>\n",
       "      <th>19</th>\n",
       "      <td>2024</td>\n",
       "      <td>10</td>\n",
       "      <td>2.177273e+08</td>\n",
       "      <td>Thưởng nóng</td>\n",
       "      <td>2024-10-31</td>\n",
       "    </tr>\n",
       "    <tr>\n",
       "      <th>20</th>\n",
       "      <td>2024</td>\n",
       "      <td>11</td>\n",
       "      <td>0.000000e+00</td>\n",
       "      <td>Doanh thu cho thuê HCM</td>\n",
       "      <td>2024-11-30</td>\n",
       "    </tr>\n",
       "    <tr>\n",
       "      <th>21</th>\n",
       "      <td>2024</td>\n",
       "      <td>11</td>\n",
       "      <td>2.272727e+07</td>\n",
       "      <td>Thưởng nóng</td>\n",
       "      <td>2024-11-30</td>\n",
       "    </tr>\n",
       "    <tr>\n",
       "      <th>22</th>\n",
       "      <td>2024</td>\n",
       "      <td>12</td>\n",
       "      <td>0.000000e+00</td>\n",
       "      <td>Doanh thu cho thuê HCM</td>\n",
       "      <td>2024-12-31</td>\n",
       "    </tr>\n",
       "    <tr>\n",
       "      <th>23</th>\n",
       "      <td>2024</td>\n",
       "      <td>12</td>\n",
       "      <td>0.000000e+00</td>\n",
       "      <td>Thưởng nóng</td>\n",
       "      <td>2024-12-31</td>\n",
       "    </tr>\n",
       "    <tr>\n",
       "      <th>24</th>\n",
       "      <td>2025</td>\n",
       "      <td>1</td>\n",
       "      <td>0.000000e+00</td>\n",
       "      <td>Doanh thu cho thuê HCM</td>\n",
       "      <td>2025-01-31</td>\n",
       "    </tr>\n",
       "    <tr>\n",
       "      <th>25</th>\n",
       "      <td>2025</td>\n",
       "      <td>1</td>\n",
       "      <td>1.440909e+08</td>\n",
       "      <td>Thưởng nóng</td>\n",
       "      <td>2025-01-31</td>\n",
       "    </tr>\n",
       "    <tr>\n",
       "      <th>26</th>\n",
       "      <td>2025</td>\n",
       "      <td>2</td>\n",
       "      <td>0.000000e+00</td>\n",
       "      <td>Doanh thu cho thuê HCM</td>\n",
       "      <td>2025-02-28</td>\n",
       "    </tr>\n",
       "    <tr>\n",
       "      <th>27</th>\n",
       "      <td>2025</td>\n",
       "      <td>2</td>\n",
       "      <td>0.000000e+00</td>\n",
       "      <td>Thưởng nóng</td>\n",
       "      <td>2025-02-28</td>\n",
       "    </tr>\n",
       "  </tbody>\n",
       "</table>\n",
       "</div>"
      ],
      "text/plain": [
       "    year  month       revenue                 project       date\n",
       "0   2024      1  2.306784e+08         Project Revenue 2024-01-31\n",
       "1   2024      2  0.000000e+00         Project Revenue 2024-02-29\n",
       "2   2024      3  3.200323e+08         Project Revenue 2024-03-31\n",
       "3   2024      4  1.078916e+10         Project Revenue 2024-04-30\n",
       "4   2024      5  7.867321e+09         Project Revenue 2024-05-31\n",
       "5   2024      6  6.195508e+09         Project Revenue 2024-06-30\n",
       "6   2024      7  3.487682e+09         Project Revenue 2024-07-31\n",
       "7   2024      8  5.497490e+09         Project Revenue 2024-08-31\n",
       "8   2024      9  9.269263e+09         Project Revenue 2024-09-30\n",
       "9   2024     10  1.644975e+10         Project Revenue 2024-10-31\n",
       "10  2024     11  4.084330e+09         Project Revenue 2024-11-30\n",
       "11  2024     12  1.090285e+10         Project Revenue 2024-12-31\n",
       "12  2025      1  5.393590e+08         Project Revenue 2025-01-31\n",
       "13  2025      2  1.382446e+09         Project Revenue 2025-02-28\n",
       "0   2024      1  8.909134e+07  Doanh thu cho thuê HCM 2024-01-31\n",
       "1   2024      1  1.363636e+07             Thưởng nóng 2024-01-31\n",
       "2   2024      2  8.874905e+07  Doanh thu cho thuê HCM 2024-02-29\n",
       "3   2024      2  0.000000e+00             Thưởng nóng 2024-02-29\n",
       "4   2024      3  5.292206e+06  Doanh thu cho thuê HCM 2024-03-31\n",
       "5   2024      3  0.000000e+00             Thưởng nóng 2024-03-31\n",
       "6   2024      4  0.000000e+00  Doanh thu cho thuê HCM 2024-04-30\n",
       "7   2024      4  3.363636e+08             Thưởng nóng 2024-04-30\n",
       "8   2024      5  0.000000e+00  Doanh thu cho thuê HCM 2024-05-31\n",
       "9   2024      5  6.136364e+08             Thưởng nóng 2024-05-31\n",
       "10  2024      6  0.000000e+00  Doanh thu cho thuê HCM 2024-06-30\n",
       "11  2024      6  8.136364e+08             Thưởng nóng 2024-06-30\n",
       "12  2024      7  0.000000e+00  Doanh thu cho thuê HCM 2024-07-31\n",
       "13  2024      7  2.650000e+08             Thưởng nóng 2024-07-31\n",
       "14  2024      8  0.000000e+00  Doanh thu cho thuê HCM 2024-08-31\n",
       "15  2024      8  1.363636e+07             Thưởng nóng 2024-08-31\n",
       "16  2024      9  0.000000e+00  Doanh thu cho thuê HCM 2024-09-30\n",
       "17  2024      9  6.545455e+08             Thưởng nóng 2024-09-30\n",
       "18  2024     10  0.000000e+00  Doanh thu cho thuê HCM 2024-10-31\n",
       "19  2024     10  2.177273e+08             Thưởng nóng 2024-10-31\n",
       "20  2024     11  0.000000e+00  Doanh thu cho thuê HCM 2024-11-30\n",
       "21  2024     11  2.272727e+07             Thưởng nóng 2024-11-30\n",
       "22  2024     12  0.000000e+00  Doanh thu cho thuê HCM 2024-12-31\n",
       "23  2024     12  0.000000e+00             Thưởng nóng 2024-12-31\n",
       "24  2025      1  0.000000e+00  Doanh thu cho thuê HCM 2025-01-31\n",
       "25  2025      1  1.440909e+08             Thưởng nóng 2025-01-31\n",
       "26  2025      2  0.000000e+00  Doanh thu cho thuê HCM 2025-02-28\n",
       "27  2025      2  0.000000e+00             Thưởng nóng 2025-02-28"
      ]
     },
     "execution_count": 68,
     "metadata": {},
     "output_type": "execute_result"
    }
   ],
   "source": [
    "revenue_summary"
   ]
  },
  {
   "cell_type": "code",
   "execution_count": 71,
   "id": "028f154e",
   "metadata": {},
   "outputs": [
    {
     "data": {
      "application/vnd.plotly.v1+json": {
       "config": {
        "plotlyServerURL": "https://plot.ly"
       },
       "data": [
        {
         "hovertemplate": "project=Project Revenue<br>date=%{x}<br>revenue=%{y}<extra></extra>",
         "legendgroup": "Project Revenue",
         "marker": {
          "color": "#000001",
          "pattern": {
           "shape": ""
          }
         },
         "name": "Project Revenue",
         "orientation": "v",
         "showlegend": true,
         "textposition": "auto",
         "type": "bar",
         "x": [
          "2024-01-31T00:00:00.000000000",
          "2024-02-29T00:00:00.000000000",
          "2024-03-31T00:00:00.000000000",
          "2024-04-30T00:00:00.000000000",
          "2024-05-31T00:00:00.000000000",
          "2024-06-30T00:00:00.000000000",
          "2024-07-31T00:00:00.000000000",
          "2024-08-31T00:00:00.000000000",
          "2024-09-30T00:00:00.000000000",
          "2024-10-31T00:00:00.000000000",
          "2024-11-30T00:00:00.000000000",
          "2024-12-31T00:00:00.000000000",
          "2025-01-31T00:00:00.000000000",
          "2025-02-28T00:00:00.000000000"
         ],
         "xaxis": "x",
         "y": {
          "bdata": "AAAATr9/q0EAAAAAAAAAAIxsJ1xOE7NBWtMHlqsYBEKppNK03E79QWhmahZ/FPdBmZmZlDn86UEpXDuW0Hr0QXA9x+DtQwFCW/6RhNqjDkJpumv0PW7uQSQG2TjiTgRC6PsZkvsSwEFwPbLjnJnUQQ==",
          "dtype": "f8"
         },
         "yaxis": "y"
        },
        {
         "hovertemplate": "project=Doanh thu cho thuê HCM<br>date=%{x}<br>revenue=%{y}<extra></extra>",
         "legendgroup": "Doanh thu cho thuê HCM",
         "marker": {
          "color": "#000002",
          "pattern": {
           "shape": ""
          }
         },
         "name": "Doanh thu cho thuê HCM",
         "orientation": "v",
         "showlegend": true,
         "textposition": "auto",
         "type": "bar",
         "x": [
          "2024-01-31T00:00:00.000000000",
          "2024-02-29T00:00:00.000000000",
          "2024-03-31T00:00:00.000000000",
          "2024-04-30T00:00:00.000000000",
          "2024-05-31T00:00:00.000000000",
          "2024-06-30T00:00:00.000000000",
          "2024-07-31T00:00:00.000000000",
          "2024-08-31T00:00:00.000000000",
          "2024-09-30T00:00:00.000000000",
          "2024-10-31T00:00:00.000000000",
          "2024-11-30T00:00:00.000000000",
          "2024-12-31T00:00:00.000000000",
          "2025-01-31T00:00:00.000000000",
          "2025-02-28T00:00:00.000000000"
         ],
         "xaxis": "x",
         "y": {
          "bdata": "AAAARLQ9lUEAAAD0zyiVQQAAAIArMFRBAAAAAAAAAAAAAAAAAAAAAAAAAAAAAAAAAAAAAAAAAAAAAAAAAAAAAAAAAAAAAAAAAAAAAAAAAAAAAAAAAAAAAAAAAAAAAAAAAAAAAAAAAAAAAAAAAAAAAA==",
          "dtype": "f8"
         },
         "yaxis": "y"
        },
        {
         "hovertemplate": "project=Thưởng nóng<br>date=%{x}<br>revenue=%{y}<extra></extra>",
         "legendgroup": "Thưởng nóng",
         "marker": {
          "color": "#000003",
          "pattern": {
           "shape": ""
          }
         },
         "name": "Thưởng nóng",
         "orientation": "v",
         "showlegend": true,
         "textposition": "auto",
         "type": "bar",
         "x": [
          "2024-01-31T00:00:00.000000000",
          "2024-02-29T00:00:00.000000000",
          "2024-03-31T00:00:00.000000000",
          "2024-04-30T00:00:00.000000000",
          "2024-05-31T00:00:00.000000000",
          "2024-06-30T00:00:00.000000000",
          "2024-07-31T00:00:00.000000000",
          "2024-08-31T00:00:00.000000000",
          "2024-09-30T00:00:00.000000000",
          "2024-10-31T00:00:00.000000000",
          "2024-11-30T00:00:00.000000000",
          "2024-12-31T00:00:00.000000000",
          "2025-01-31T00:00:00.000000000",
          "2025-02-28T00:00:00.000000000"
         ],
         "xaxis": "x",
         "y": {
          "bdata": "AAAAgGECakEAAAAAAAAAAAAAAAAAAAAAAAAAdYAMtEEAAACGrEnCQQAAAIaNP8hBAAAAgiiXr0EAAACAYQJqQQAAABfJgcNBAAAAUoL0qUEAAACQpqx1QQAAAAAAAAAAAAAAOE4toUEAAAAAAAAAAA==",
          "dtype": "f8"
         },
         "yaxis": "y"
        }
       ],
       "layout": {
        "barmode": "relative",
        "legend": {
         "title": {
          "text": "project"
         },
         "tracegroupgap": 0
        },
        "margin": {
         "t": 60
        },
        "template": {
         "data": {
          "candlestick": [
           {
            "decreasing": {
             "line": {
              "color": "#000033"
             }
            },
            "increasing": {
             "line": {
              "color": "#000032"
             }
            },
            "type": "candlestick"
           }
          ],
          "contour": [
           {
            "colorscale": [
             [
              0,
              "#000011"
             ],
             [
              0.1111111111111111,
              "#000012"
             ],
             [
              0.2222222222222222,
              "#000013"
             ],
             [
              0.3333333333333333,
              "#000014"
             ],
             [
              0.4444444444444444,
              "#000015"
             ],
             [
              0.5555555555555556,
              "#000016"
             ],
             [
              0.6666666666666666,
              "#000017"
             ],
             [
              0.7777777777777778,
              "#000018"
             ],
             [
              0.8888888888888888,
              "#000019"
             ],
             [
              1,
              "#000020"
             ]
            ],
            "type": "contour"
           }
          ],
          "contourcarpet": [
           {
            "colorscale": [
             [
              0,
              "#000011"
             ],
             [
              0.1111111111111111,
              "#000012"
             ],
             [
              0.2222222222222222,
              "#000013"
             ],
             [
              0.3333333333333333,
              "#000014"
             ],
             [
              0.4444444444444444,
              "#000015"
             ],
             [
              0.5555555555555556,
              "#000016"
             ],
             [
              0.6666666666666666,
              "#000017"
             ],
             [
              0.7777777777777778,
              "#000018"
             ],
             [
              0.8888888888888888,
              "#000019"
             ],
             [
              1,
              "#000020"
             ]
            ],
            "type": "contourcarpet"
           }
          ],
          "heatmap": [
           {
            "colorscale": [
             [
              0,
              "#000011"
             ],
             [
              0.1111111111111111,
              "#000012"
             ],
             [
              0.2222222222222222,
              "#000013"
             ],
             [
              0.3333333333333333,
              "#000014"
             ],
             [
              0.4444444444444444,
              "#000015"
             ],
             [
              0.5555555555555556,
              "#000016"
             ],
             [
              0.6666666666666666,
              "#000017"
             ],
             [
              0.7777777777777778,
              "#000018"
             ],
             [
              0.8888888888888888,
              "#000019"
             ],
             [
              1,
              "#000020"
             ]
            ],
            "type": "heatmap"
           }
          ],
          "histogram2d": [
           {
            "colorscale": [
             [
              0,
              "#000011"
             ],
             [
              0.1111111111111111,
              "#000012"
             ],
             [
              0.2222222222222222,
              "#000013"
             ],
             [
              0.3333333333333333,
              "#000014"
             ],
             [
              0.4444444444444444,
              "#000015"
             ],
             [
              0.5555555555555556,
              "#000016"
             ],
             [
              0.6666666666666666,
              "#000017"
             ],
             [
              0.7777777777777778,
              "#000018"
             ],
             [
              0.8888888888888888,
              "#000019"
             ],
             [
              1,
              "#000020"
             ]
            ],
            "type": "histogram2d"
           }
          ],
          "icicle": [
           {
            "textfont": {
             "color": "white"
            },
            "type": "icicle"
           }
          ],
          "sankey": [
           {
            "textfont": {
             "color": "#000036"
            },
            "type": "sankey"
           }
          ],
          "scatter": [
           {
            "marker": {
             "line": {
              "width": 0
             }
            },
            "type": "scatter"
           }
          ],
          "table": [
           {
            "cells": {
             "fill": {
              "color": "#000038"
             },
             "font": {
              "color": "#000037"
             },
             "line": {
              "color": "#000039"
             }
            },
            "header": {
             "fill": {
              "color": "#000040"
             },
             "font": {
              "color": "#000036"
             },
             "line": {
              "color": "#000039"
             }
            },
            "type": "table"
           }
          ],
          "waterfall": [
           {
            "connector": {
             "line": {
              "color": "#000036",
              "width": 2
             }
            },
            "decreasing": {
             "marker": {
              "color": "#000033"
             }
            },
            "increasing": {
             "marker": {
              "color": "#000032"
             }
            },
            "totals": {
             "marker": {
              "color": "#000034"
             }
            },
            "type": "waterfall"
           }
          ]
         },
         "layout": {
          "coloraxis": {
           "colorscale": [
            [
             0,
             "#000011"
            ],
            [
             0.1111111111111111,
             "#000012"
            ],
            [
             0.2222222222222222,
             "#000013"
            ],
            [
             0.3333333333333333,
             "#000014"
            ],
            [
             0.4444444444444444,
             "#000015"
            ],
            [
             0.5555555555555556,
             "#000016"
            ],
            [
             0.6666666666666666,
             "#000017"
            ],
            [
             0.7777777777777778,
             "#000018"
            ],
            [
             0.8888888888888888,
             "#000019"
            ],
            [
             1,
             "#000020"
            ]
           ]
          },
          "colorscale": {
           "diverging": [
            [
             0,
             "#000021"
            ],
            [
             0.1,
             "#000022"
            ],
            [
             0.2,
             "#000023"
            ],
            [
             0.3,
             "#000024"
            ],
            [
             0.4,
             "#000025"
            ],
            [
             0.5,
             "#000026"
            ],
            [
             0.6,
             "#000027"
            ],
            [
             0.7,
             "#000028"
            ],
            [
             0.8,
             "#000029"
            ],
            [
             0.9,
             "#000030"
            ],
            [
             1,
             "#000031"
            ]
           ],
           "sequential": [
            [
             0,
             "#000011"
            ],
            [
             0.1111111111111111,
             "#000012"
            ],
            [
             0.2222222222222222,
             "#000013"
            ],
            [
             0.3333333333333333,
             "#000014"
            ],
            [
             0.4444444444444444,
             "#000015"
            ],
            [
             0.5555555555555556,
             "#000016"
            ],
            [
             0.6666666666666666,
             "#000017"
            ],
            [
             0.7777777777777778,
             "#000018"
            ],
            [
             0.8888888888888888,
             "#000019"
            ],
            [
             1,
             "#000020"
            ]
           ],
           "sequentialminus": [
            [
             0,
             "#000011"
            ],
            [
             0.1111111111111111,
             "#000012"
            ],
            [
             0.2222222222222222,
             "#000013"
            ],
            [
             0.3333333333333333,
             "#000014"
            ],
            [
             0.4444444444444444,
             "#000015"
            ],
            [
             0.5555555555555556,
             "#000016"
            ],
            [
             0.6666666666666666,
             "#000017"
            ],
            [
             0.7777777777777778,
             "#000018"
            ],
            [
             0.8888888888888888,
             "#000019"
            ],
            [
             1,
             "#000020"
            ]
           ]
          },
          "colorway": [
           "#000001",
           "#000002",
           "#000003",
           "#000004",
           "#000005",
           "#000006",
           "#000007",
           "#000008",
           "#000009",
           "#000010"
          ]
         }
        },
        "xaxis": {
         "anchor": "y",
         "domain": [
          0,
          1
         ],
         "title": {
          "text": "date"
         }
        },
        "yaxis": {
         "anchor": "x",
         "domain": [
          0,
          1
         ],
         "title": {
          "text": "revenue"
         }
        }
       }
      }
     },
     "metadata": {},
     "output_type": "display_data"
    }
   ],
   "source": [
    "px.bar(\n",
    "    revenue_summary,\n",
    "    x='date',\n",
    "    y=\"revenue\",\n",
    "    color=\"project\"\n",
    ")"
   ]
  },
  {
   "cell_type": "code",
   "execution_count": 44,
   "id": "0578951b",
   "metadata": {},
   "outputs": [
    {
     "data": {
      "application/vnd.microsoft.datawrangler.viewer.v0+json": {
       "columns": [
        {
         "name": "index",
         "rawType": "int64",
         "type": "integer"
        },
        {
         "name": "year",
         "rawType": "int32",
         "type": "integer"
        },
        {
         "name": "month",
         "rawType": "int32",
         "type": "integer"
        },
        {
         "name": "revenue",
         "rawType": "float64",
         "type": "float"
        },
        {
         "name": "Doanh thu chon thuê HCM",
         "rawType": "float64",
         "type": "float"
        },
        {
         "name": "Thưởng nóng",
         "rawType": "float64",
         "type": "float"
        }
       ],
       "conversionMethod": "pd.DataFrame",
       "ref": "54a0ad56-d0dd-437b-b8db-0b2a3930823c",
       "rows": [
        [
         "0",
         "2024",
         "1",
         "230678439.0",
         "89091345.0",
         "13636364.0"
        ],
        [
         "1",
         "2024",
         "2",
         "0.0",
         "88749053.0",
         "0.0"
        ],
        [
         "2",
         "2024",
         "3",
         "320032348.15400004",
         "5292206.0",
         "0.0"
        ],
        [
         "3",
         "2024",
         "4",
         "10789155520.978199",
         "0.0",
         "336363637.0"
        ],
        [
         "4",
         "2024",
         "5",
         "7867321165.1652",
         "0.0",
         "613636364.0"
        ],
        [
         "5",
         "2024",
         "6",
         "6195507558.650002",
         "0.0",
         "813636364.0"
        ],
        [
         "6",
         "2024",
         "7",
         "3487681700.7999997",
         "0.0",
         "265000001.0"
        ],
        [
         "7",
         "2024",
         "8",
         "5497489763.71",
         "0.0",
         "13636364.0"
        ],
        [
         "8",
         "2024",
         "9",
         "9269263384.904999",
         "0.0",
         "654545454.0"
        ],
        [
         "9",
         "2024",
         "10",
         "16449753234.249197",
         "0.0",
         "217727273.0"
        ],
        [
         "10",
         "2024",
         "11",
         "4084330403.366505",
         "0.0",
         "22727273.0"
        ],
        [
         "11",
         "2024",
         "12",
         "10902849307.127998",
         "0.0",
         "0.0"
        ],
        [
         "12",
         "2025",
         "1",
         "539359012.2030001",
         "0.0",
         "144090908.0"
        ],
        [
         "13",
         "2025",
         "2",
         "1382445966.7849998",
         "0.0",
         "0.0"
        ]
       ],
       "shape": {
        "columns": 5,
        "rows": 14
       }
      },
      "text/html": [
       "<div>\n",
       "<style scoped>\n",
       "    .dataframe tbody tr th:only-of-type {\n",
       "        vertical-align: middle;\n",
       "    }\n",
       "\n",
       "    .dataframe tbody tr th {\n",
       "        vertical-align: top;\n",
       "    }\n",
       "\n",
       "    .dataframe thead th {\n",
       "        text-align: right;\n",
       "    }\n",
       "</style>\n",
       "<table border=\"1\" class=\"dataframe\">\n",
       "  <thead>\n",
       "    <tr style=\"text-align: right;\">\n",
       "      <th></th>\n",
       "      <th>year</th>\n",
       "      <th>month</th>\n",
       "      <th>revenue</th>\n",
       "      <th>Doanh thu chon thuê HCM</th>\n",
       "      <th>Thưởng nóng</th>\n",
       "    </tr>\n",
       "  </thead>\n",
       "  <tbody>\n",
       "    <tr>\n",
       "      <th>0</th>\n",
       "      <td>2024</td>\n",
       "      <td>1</td>\n",
       "      <td>2.306784e+08</td>\n",
       "      <td>89091345.0</td>\n",
       "      <td>13636364.0</td>\n",
       "    </tr>\n",
       "    <tr>\n",
       "      <th>1</th>\n",
       "      <td>2024</td>\n",
       "      <td>2</td>\n",
       "      <td>0.000000e+00</td>\n",
       "      <td>88749053.0</td>\n",
       "      <td>0.0</td>\n",
       "    </tr>\n",
       "    <tr>\n",
       "      <th>2</th>\n",
       "      <td>2024</td>\n",
       "      <td>3</td>\n",
       "      <td>3.200323e+08</td>\n",
       "      <td>5292206.0</td>\n",
       "      <td>0.0</td>\n",
       "    </tr>\n",
       "    <tr>\n",
       "      <th>3</th>\n",
       "      <td>2024</td>\n",
       "      <td>4</td>\n",
       "      <td>1.078916e+10</td>\n",
       "      <td>0.0</td>\n",
       "      <td>336363637.0</td>\n",
       "    </tr>\n",
       "    <tr>\n",
       "      <th>4</th>\n",
       "      <td>2024</td>\n",
       "      <td>5</td>\n",
       "      <td>7.867321e+09</td>\n",
       "      <td>0.0</td>\n",
       "      <td>613636364.0</td>\n",
       "    </tr>\n",
       "    <tr>\n",
       "      <th>5</th>\n",
       "      <td>2024</td>\n",
       "      <td>6</td>\n",
       "      <td>6.195508e+09</td>\n",
       "      <td>0.0</td>\n",
       "      <td>813636364.0</td>\n",
       "    </tr>\n",
       "    <tr>\n",
       "      <th>6</th>\n",
       "      <td>2024</td>\n",
       "      <td>7</td>\n",
       "      <td>3.487682e+09</td>\n",
       "      <td>0.0</td>\n",
       "      <td>265000001.0</td>\n",
       "    </tr>\n",
       "    <tr>\n",
       "      <th>7</th>\n",
       "      <td>2024</td>\n",
       "      <td>8</td>\n",
       "      <td>5.497490e+09</td>\n",
       "      <td>0.0</td>\n",
       "      <td>13636364.0</td>\n",
       "    </tr>\n",
       "    <tr>\n",
       "      <th>8</th>\n",
       "      <td>2024</td>\n",
       "      <td>9</td>\n",
       "      <td>9.269263e+09</td>\n",
       "      <td>0.0</td>\n",
       "      <td>654545454.0</td>\n",
       "    </tr>\n",
       "    <tr>\n",
       "      <th>9</th>\n",
       "      <td>2024</td>\n",
       "      <td>10</td>\n",
       "      <td>1.644975e+10</td>\n",
       "      <td>0.0</td>\n",
       "      <td>217727273.0</td>\n",
       "    </tr>\n",
       "    <tr>\n",
       "      <th>10</th>\n",
       "      <td>2024</td>\n",
       "      <td>11</td>\n",
       "      <td>4.084330e+09</td>\n",
       "      <td>0.0</td>\n",
       "      <td>22727273.0</td>\n",
       "    </tr>\n",
       "    <tr>\n",
       "      <th>11</th>\n",
       "      <td>2024</td>\n",
       "      <td>12</td>\n",
       "      <td>1.090285e+10</td>\n",
       "      <td>0.0</td>\n",
       "      <td>0.0</td>\n",
       "    </tr>\n",
       "    <tr>\n",
       "      <th>12</th>\n",
       "      <td>2025</td>\n",
       "      <td>1</td>\n",
       "      <td>5.393590e+08</td>\n",
       "      <td>0.0</td>\n",
       "      <td>144090908.0</td>\n",
       "    </tr>\n",
       "    <tr>\n",
       "      <th>13</th>\n",
       "      <td>2025</td>\n",
       "      <td>2</td>\n",
       "      <td>1.382446e+09</td>\n",
       "      <td>0.0</td>\n",
       "      <td>0.0</td>\n",
       "    </tr>\n",
       "  </tbody>\n",
       "</table>\n",
       "</div>"
      ],
      "text/plain": [
       "    year  month       revenue  Doanh thu chon thuê HCM  Thưởng nóng\n",
       "0   2024      1  2.306784e+08               89091345.0   13636364.0\n",
       "1   2024      2  0.000000e+00               88749053.0          0.0\n",
       "2   2024      3  3.200323e+08                5292206.0          0.0\n",
       "3   2024      4  1.078916e+10                      0.0  336363637.0\n",
       "4   2024      5  7.867321e+09                      0.0  613636364.0\n",
       "5   2024      6  6.195508e+09                      0.0  813636364.0\n",
       "6   2024      7  3.487682e+09                      0.0  265000001.0\n",
       "7   2024      8  5.497490e+09                      0.0   13636364.0\n",
       "8   2024      9  9.269263e+09                      0.0  654545454.0\n",
       "9   2024     10  1.644975e+10                      0.0  217727273.0\n",
       "10  2024     11  4.084330e+09                      0.0   22727273.0\n",
       "11  2024     12  1.090285e+10                      0.0          0.0\n",
       "12  2025      1  5.393590e+08                      0.0  144090908.0\n",
       "13  2025      2  1.382446e+09                      0.0          0.0"
      ]
     },
     "execution_count": 44,
     "metadata": {},
     "output_type": "execute_result"
    }
   ],
   "source": [
    "revenue_summary = pd.merge(\n",
    "    operational_revenue, other_revenue\n",
    ")\n",
    "revenue_summary"
   ]
  },
  {
   "cell_type": "code",
   "execution_count": null,
   "id": "c9020660",
   "metadata": {},
   "outputs": [
    {
     "data": {
      "application/vnd.microsoft.datawrangler.viewer.v0+json": {
       "columns": [
        {
         "name": "index",
         "rawType": "int64",
         "type": "integer"
        },
        {
         "name": "month",
         "rawType": "int32",
         "type": "integer"
        },
        {
         "name": "year",
         "rawType": "int32",
         "type": "integer"
        },
        {
         "name": "project",
         "rawType": "object",
         "type": "string"
        },
        {
         "name": "revenue",
         "rawType": "float64",
         "type": "float"
        },
        {
         "name": "date",
         "rawType": "datetime64[ns]",
         "type": "datetime"
        },
        {
         "name": "cogs",
         "rawType": "float64",
         "type": "float"
        },
        {
         "name": "CoR",
         "rawType": "float64",
         "type": "float"
        },
        {
         "name": "ebt",
         "rawType": "float64",
         "type": "float"
        },
        {
         "name": "ebtRev",
         "rawType": "float64",
         "type": "float"
        }
       ],
       "conversionMethod": "pd.DataFrame",
       "ref": "18d8b4dc-8727-4e56-9c32-34037dd37e76",
       "rows": [
        [
         "0",
         "1",
         "2024",
         "Doanh thu cho thuê HCM",
         "89091345.0",
         "2024-01-31 00:00:00",
         null,
         null,
         null,
         null
        ],
        [
         "1",
         "2",
         "2024",
         "Doanh thu cho thuê HCM",
         "88749053.0",
         "2024-02-29 00:00:00",
         null,
         null,
         null,
         null
        ],
        [
         "2",
         "3",
         "2024",
         "Doanh thu cho thuê HCM",
         "5292206.0",
         "2024-03-31 00:00:00",
         null,
         null,
         null,
         null
        ],
        [
         "3",
         "4",
         "2024",
         "Doanh thu cho thuê HCM",
         "0.0",
         "2024-04-30 00:00:00",
         null,
         null,
         null,
         null
        ],
        [
         "4",
         "5",
         "2024",
         "Doanh thu cho thuê HCM",
         "0.0",
         "2024-05-31 00:00:00",
         null,
         null,
         null,
         null
        ],
        [
         "5",
         "6",
         "2024",
         "Doanh thu cho thuê HCM",
         "0.0",
         "2024-06-30 00:00:00",
         null,
         null,
         null,
         null
        ],
        [
         "6",
         "7",
         "2024",
         "Doanh thu cho thuê HCM",
         "0.0",
         "2024-07-31 00:00:00",
         null,
         null,
         null,
         null
        ],
        [
         "7",
         "8",
         "2024",
         "Doanh thu cho thuê HCM",
         "0.0",
         "2024-08-31 00:00:00",
         null,
         null,
         null,
         null
        ],
        [
         "8",
         "9",
         "2024",
         "Doanh thu cho thuê HCM",
         "0.0",
         "2024-09-30 00:00:00",
         null,
         null,
         null,
         null
        ],
        [
         "9",
         "10",
         "2024",
         "Doanh thu cho thuê HCM",
         null,
         "2024-10-31 00:00:00",
         null,
         null,
         null,
         null
        ],
        [
         "10",
         "11",
         "2024",
         "Doanh thu cho thuê HCM",
         null,
         "2024-11-30 00:00:00",
         null,
         null,
         null,
         null
        ],
        [
         "11",
         "12",
         "2024",
         "Doanh thu cho thuê HCM",
         null,
         "2024-12-31 00:00:00",
         null,
         null,
         null,
         null
        ],
        [
         "12",
         "1",
         "2025",
         "Doanh thu cho thuê HCM",
         "0.0",
         "2025-01-31 00:00:00",
         null,
         null,
         null,
         null
        ],
        [
         "13",
         "2",
         "2025",
         "Doanh thu cho thuê HCM",
         "0.0",
         "2025-02-28 00:00:00",
         null,
         null,
         null,
         null
        ],
        [
         "14",
         "1",
         "2024",
         "Doanh thu khác",
         null,
         "2024-01-31 00:00:00",
         "23892796.0",
         null,
         null,
         null
        ],
        [
         "15",
         "2",
         "2024",
         "Doanh thu khác",
         null,
         "2024-02-29 00:00:00",
         "0.0",
         null,
         null,
         null
        ],
        [
         "16",
         "3",
         "2024",
         "Doanh thu khác",
         null,
         "2024-03-31 00:00:00",
         "-6042796.0",
         null,
         null,
         null
        ],
        [
         "17",
         "4",
         "2024",
         "Doanh thu khác",
         null,
         "2024-04-30 00:00:00",
         "0.0",
         null,
         null,
         null
        ],
        [
         "18",
         "5",
         "2024",
         "Doanh thu khác",
         null,
         "2024-05-31 00:00:00",
         "9475493.0",
         null,
         null,
         null
        ],
        [
         "19",
         "6",
         "2024",
         "Doanh thu khác",
         null,
         "2024-06-30 00:00:00",
         "7407408.0",
         null,
         null,
         null
        ],
        [
         "20",
         "7",
         "2024",
         "Doanh thu khác",
         null,
         "2024-07-31 00:00:00",
         "10000.0",
         null,
         null,
         null
        ],
        [
         "21",
         "8",
         "2024",
         "Doanh thu khác",
         null,
         "2024-08-31 00:00:00",
         "60.0",
         null,
         null,
         null
        ],
        [
         "22",
         "9",
         "2024",
         "Doanh thu khác",
         null,
         "2024-09-30 00:00:00",
         "12402.0",
         null,
         null,
         null
        ],
        [
         "23",
         "10",
         "2024",
         "Doanh thu khác",
         null,
         "2024-10-31 00:00:00",
         "1388889.0",
         null,
         null,
         null
        ],
        [
         "24",
         "11",
         "2024",
         "Doanh thu khác",
         null,
         "2024-11-30 00:00:00",
         "0.0",
         null,
         null,
         null
        ],
        [
         "25",
         "12",
         "2024",
         "Doanh thu khác",
         null,
         "2024-12-31 00:00:00",
         "0.0",
         null,
         null,
         null
        ],
        [
         "26",
         "1",
         "2025",
         "Doanh thu khác",
         null,
         "2025-01-31 00:00:00",
         "0.0",
         null,
         null,
         null
        ],
        [
         "27",
         "2",
         "2025",
         "Doanh thu khác",
         null,
         "2025-02-28 00:00:00",
         "0.0",
         null,
         null,
         null
        ],
        [
         "28",
         "1",
         "2024",
         "FPT 3",
         null,
         "2024-01-31 00:00:00",
         "0.0",
         null,
         null,
         null
        ],
        [
         "29",
         "2",
         "2024",
         "FPT 3",
         null,
         "2024-02-29 00:00:00",
         "0.0",
         null,
         null,
         null
        ],
        [
         "30",
         "3",
         "2024",
         "FPT 3",
         "0.0",
         "2024-03-31 00:00:00",
         "0.0",
         null,
         null,
         null
        ],
        [
         "31",
         "4",
         "2024",
         "FPT 3",
         "0.0",
         "2024-04-30 00:00:00",
         "0.0",
         null,
         null,
         null
        ],
        [
         "32",
         "5",
         "2024",
         "FPT 3",
         "0.0",
         "2024-05-31 00:00:00",
         "0.0",
         null,
         null,
         null
        ],
        [
         "33",
         "6",
         "2024",
         "FPT 3",
         "0.0",
         "2024-06-30 00:00:00",
         "0.0",
         null,
         null,
         null
        ],
        [
         "34",
         "7",
         "2024",
         "FPT 3",
         "0.0",
         "2024-07-31 00:00:00",
         "0.0",
         null,
         null,
         null
        ],
        [
         "35",
         "8",
         "2024",
         "FPT 3",
         "0.0",
         "2024-08-31 00:00:00",
         "0.0",
         null,
         null,
         null
        ],
        [
         "36",
         "9",
         "2024",
         "FPT 3",
         "0.0",
         "2024-09-30 00:00:00",
         "0.0",
         null,
         null,
         null
        ],
        [
         "37",
         "10",
         "2024",
         "FPT 3",
         "0.0",
         "2024-10-31 00:00:00",
         "0.0",
         null,
         null,
         null
        ],
        [
         "38",
         "11",
         "2024",
         "FPT 3",
         "142810050.0",
         "2024-11-30 00:00:00",
         "61884355.0",
         "0.43333333333333335",
         null,
         null
        ],
        [
         "39",
         "12",
         "2024",
         "FPT 3",
         "0.0",
         "2024-12-31 00:00:00",
         "0.0",
         null,
         null,
         null
        ],
        [
         "40",
         "1",
         "2025",
         "FPT 3",
         "0.0",
         "2025-01-31 00:00:00",
         "0.0",
         null,
         null,
         null
        ],
        [
         "41",
         "2",
         "2025",
         "FPT 3",
         "0.0",
         "2025-02-28 00:00:00",
         "0.0",
         null,
         null,
         null
        ],
        [
         "42",
         "1",
         "2024",
         "FPT Plaza 2",
         "57411900.0",
         "2024-01-31 00:00:00",
         "40188330.0",
         "0.7",
         null,
         null
        ],
        [
         "43",
         "2",
         "2024",
         "FPT Plaza 2",
         null,
         "2024-02-29 00:00:00",
         "0.0",
         null,
         null,
         null
        ],
        [
         "44",
         "3",
         "2024",
         "FPT Plaza 2",
         "0.0",
         "2024-03-31 00:00:00",
         "0.0",
         null,
         null,
         null
        ],
        [
         "45",
         "4",
         "2024",
         "FPT Plaza 2",
         "0.0",
         "2024-04-30 00:00:00",
         "0.0",
         null,
         null,
         null
        ],
        [
         "46",
         "5",
         "2024",
         "FPT Plaza 2",
         "0.0",
         "2024-05-31 00:00:00",
         "0.0",
         null,
         null,
         null
        ],
        [
         "47",
         "6",
         "2024",
         "FPT Plaza 2",
         "0.0",
         "2024-06-30 00:00:00",
         "0.0",
         null,
         null,
         null
        ],
        [
         "48",
         "7",
         "2024",
         "FPT Plaza 2",
         "0.0",
         "2024-07-31 00:00:00",
         "0.0",
         null,
         null,
         null
        ],
        [
         "49",
         "8",
         "2024",
         "FPT Plaza 2",
         "0.0",
         "2024-08-31 00:00:00",
         "0.0",
         null,
         null,
         null
        ]
       ],
       "shape": {
        "columns": 9,
        "rows": 350
       }
      },
      "text/html": [
       "<div>\n",
       "<style scoped>\n",
       "    .dataframe tbody tr th:only-of-type {\n",
       "        vertical-align: middle;\n",
       "    }\n",
       "\n",
       "    .dataframe tbody tr th {\n",
       "        vertical-align: top;\n",
       "    }\n",
       "\n",
       "    .dataframe thead th {\n",
       "        text-align: right;\n",
       "    }\n",
       "</style>\n",
       "<table border=\"1\" class=\"dataframe\">\n",
       "  <thead>\n",
       "    <tr style=\"text-align: right;\">\n",
       "      <th></th>\n",
       "      <th>month</th>\n",
       "      <th>year</th>\n",
       "      <th>project</th>\n",
       "      <th>revenue</th>\n",
       "      <th>date</th>\n",
       "      <th>cogs</th>\n",
       "      <th>CoR</th>\n",
       "      <th>ebt</th>\n",
       "      <th>ebtRev</th>\n",
       "    </tr>\n",
       "  </thead>\n",
       "  <tbody>\n",
       "    <tr>\n",
       "      <th>0</th>\n",
       "      <td>1</td>\n",
       "      <td>2024</td>\n",
       "      <td>Doanh thu cho thuê HCM</td>\n",
       "      <td>8.909134e+07</td>\n",
       "      <td>2024-01-31</td>\n",
       "      <td>NaN</td>\n",
       "      <td>NaN</td>\n",
       "      <td>NaN</td>\n",
       "      <td>NaN</td>\n",
       "    </tr>\n",
       "    <tr>\n",
       "      <th>1</th>\n",
       "      <td>2</td>\n",
       "      <td>2024</td>\n",
       "      <td>Doanh thu cho thuê HCM</td>\n",
       "      <td>8.874905e+07</td>\n",
       "      <td>2024-02-29</td>\n",
       "      <td>NaN</td>\n",
       "      <td>NaN</td>\n",
       "      <td>NaN</td>\n",
       "      <td>NaN</td>\n",
       "    </tr>\n",
       "    <tr>\n",
       "      <th>2</th>\n",
       "      <td>3</td>\n",
       "      <td>2024</td>\n",
       "      <td>Doanh thu cho thuê HCM</td>\n",
       "      <td>5.292206e+06</td>\n",
       "      <td>2024-03-31</td>\n",
       "      <td>NaN</td>\n",
       "      <td>NaN</td>\n",
       "      <td>NaN</td>\n",
       "      <td>NaN</td>\n",
       "    </tr>\n",
       "    <tr>\n",
       "      <th>3</th>\n",
       "      <td>4</td>\n",
       "      <td>2024</td>\n",
       "      <td>Doanh thu cho thuê HCM</td>\n",
       "      <td>0.000000e+00</td>\n",
       "      <td>2024-04-30</td>\n",
       "      <td>NaN</td>\n",
       "      <td>NaN</td>\n",
       "      <td>NaN</td>\n",
       "      <td>NaN</td>\n",
       "    </tr>\n",
       "    <tr>\n",
       "      <th>4</th>\n",
       "      <td>5</td>\n",
       "      <td>2024</td>\n",
       "      <td>Doanh thu cho thuê HCM</td>\n",
       "      <td>0.000000e+00</td>\n",
       "      <td>2024-05-31</td>\n",
       "      <td>NaN</td>\n",
       "      <td>NaN</td>\n",
       "      <td>NaN</td>\n",
       "      <td>NaN</td>\n",
       "    </tr>\n",
       "    <tr>\n",
       "      <th>...</th>\n",
       "      <td>...</td>\n",
       "      <td>...</td>\n",
       "      <td>...</td>\n",
       "      <td>...</td>\n",
       "      <td>...</td>\n",
       "      <td>...</td>\n",
       "      <td>...</td>\n",
       "      <td>...</td>\n",
       "      <td>...</td>\n",
       "    </tr>\n",
       "    <tr>\n",
       "      <th>345</th>\n",
       "      <td>10</td>\n",
       "      <td>2024</td>\n",
       "      <td>total</td>\n",
       "      <td>1.666748e+10</td>\n",
       "      <td>2024-10-31</td>\n",
       "      <td>NaN</td>\n",
       "      <td>NaN</td>\n",
       "      <td>4.192057e+09</td>\n",
       "      <td>0.251511</td>\n",
       "    </tr>\n",
       "    <tr>\n",
       "      <th>346</th>\n",
       "      <td>11</td>\n",
       "      <td>2024</td>\n",
       "      <td>total</td>\n",
       "      <td>4.107058e+09</td>\n",
       "      <td>2024-11-30</td>\n",
       "      <td>NaN</td>\n",
       "      <td>NaN</td>\n",
       "      <td>-8.088220e+08</td>\n",
       "      <td>-0.196935</td>\n",
       "    </tr>\n",
       "    <tr>\n",
       "      <th>347</th>\n",
       "      <td>12</td>\n",
       "      <td>2024</td>\n",
       "      <td>total</td>\n",
       "      <td>1.090285e+10</td>\n",
       "      <td>2024-12-31</td>\n",
       "      <td>NaN</td>\n",
       "      <td>NaN</td>\n",
       "      <td>1.802909e+09</td>\n",
       "      <td>0.165361</td>\n",
       "    </tr>\n",
       "    <tr>\n",
       "      <th>348</th>\n",
       "      <td>1</td>\n",
       "      <td>2025</td>\n",
       "      <td>total</td>\n",
       "      <td>6.834499e+08</td>\n",
       "      <td>2025-01-31</td>\n",
       "      <td>NaN</td>\n",
       "      <td>NaN</td>\n",
       "      <td>-1.408265e+09</td>\n",
       "      <td>-2.060524</td>\n",
       "    </tr>\n",
       "    <tr>\n",
       "      <th>349</th>\n",
       "      <td>2</td>\n",
       "      <td>2025</td>\n",
       "      <td>total</td>\n",
       "      <td>1.382446e+09</td>\n",
       "      <td>2025-02-28</td>\n",
       "      <td>NaN</td>\n",
       "      <td>NaN</td>\n",
       "      <td>-6.950938e+08</td>\n",
       "      <td>-0.502800</td>\n",
       "    </tr>\n",
       "  </tbody>\n",
       "</table>\n",
       "<p>350 rows × 9 columns</p>\n",
       "</div>"
      ],
      "text/plain": [
       "     month  year                 project       revenue       date  cogs  CoR  \\\n",
       "0        1  2024  Doanh thu cho thuê HCM  8.909134e+07 2024-01-31   NaN  NaN   \n",
       "1        2  2024  Doanh thu cho thuê HCM  8.874905e+07 2024-02-29   NaN  NaN   \n",
       "2        3  2024  Doanh thu cho thuê HCM  5.292206e+06 2024-03-31   NaN  NaN   \n",
       "3        4  2024  Doanh thu cho thuê HCM  0.000000e+00 2024-04-30   NaN  NaN   \n",
       "4        5  2024  Doanh thu cho thuê HCM  0.000000e+00 2024-05-31   NaN  NaN   \n",
       "..     ...   ...                     ...           ...        ...   ...  ...   \n",
       "345     10  2024                   total  1.666748e+10 2024-10-31   NaN  NaN   \n",
       "346     11  2024                   total  4.107058e+09 2024-11-30   NaN  NaN   \n",
       "347     12  2024                   total  1.090285e+10 2024-12-31   NaN  NaN   \n",
       "348      1  2025                   total  6.834499e+08 2025-01-31   NaN  NaN   \n",
       "349      2  2025                   total  1.382446e+09 2025-02-28   NaN  NaN   \n",
       "\n",
       "              ebt    ebtRev  \n",
       "0             NaN       NaN  \n",
       "1             NaN       NaN  \n",
       "2             NaN       NaN  \n",
       "3             NaN       NaN  \n",
       "4             NaN       NaN  \n",
       "..            ...       ...  \n",
       "345  4.192057e+09  0.251511  \n",
       "346 -8.088220e+08 -0.196935  \n",
       "347  1.802909e+09  0.165361  \n",
       "348 -1.408265e+09 -2.060524  \n",
       "349 -6.950938e+08 -0.502800  \n",
       "\n",
       "[350 rows x 9 columns]"
      ]
     },
     "execution_count": 4,
     "metadata": {},
     "output_type": "execute_result"
    }
   ],
   "source": [
    "df.loc[df[\"project\"].isin([])]"
   ]
  },
  {
   "cell_type": "code",
   "execution_count": 19,
   "id": "4576beab",
   "metadata": {},
   "outputs": [],
   "source": [
    "ignore_category = [\n",
    "    \"DOANH THU\", \"Thưởng nóng\", \"Doanh thu cho thuê HCM\",\n",
    "    \"Doanh thu khác\", \"Giá vốn VP HCM\", \"total\"\n",
    "]\n",
    "revenue_df = df.loc[(~df.project.isin(ignore_category)) & (df['revenue'] > 0)]"
   ]
  },
  {
   "cell_type": "code",
   "execution_count": 26,
   "id": "56e66dda",
   "metadata": {},
   "outputs": [
    {
     "data": {
      "application/vnd.microsoft.datawrangler.viewer.v0+json": {
       "columns": [
        {
         "name": "project",
         "rawType": "object",
         "type": "string"
        },
        {
         "name": "revenue",
         "rawType": "float64",
         "type": "float"
        }
       ],
       "conversionMethod": "pd.DataFrame",
       "ref": "34bb303f-30ba-4075-8bcf-5f0595384969",
       "rows": [
        [
         "FPT 3",
         "142810050.0"
        ],
        [
         "FPT Plaza 2",
         "57411900.0"
        ],
        [
         "IMPERIA SIGNATURE",
         "9636519435.57"
        ],
        [
         "LUMI HANOI",
         "6655444915.68"
        ],
        [
         "SGB",
         "88848502.67"
        ],
        [
         "SUN PONTE RESIDENCE",
         "8731857683.377304"
        ],
        [
         "SUN RIVERSIDE VILLAGE SẦM SƠN",
         "516927422.36"
        ],
        [
         "SUN URBAN CITY",
         "1482680956.5773997"
        ],
        [
         "Sun Cosmo Residence Đà Nẵng",
         "3003062922.7599998"
        ],
        [
         "Sun Pathway",
         "3166719545.155"
        ],
        [
         "Sun Symphony Residences",
         "17462590016.0954"
        ],
        [
         "THE MIAMI - GS5",
         "3531715035.125"
        ],
        [
         "The Panoma",
         "155619775.16"
        ],
        [
         "The Sea - Sunset Town",
         "79379414.54"
        ],
        [
         "The Senique",
         "1958112816.8000002"
        ],
        [
         "The Sola Park",
         "6646321405.169997"
        ],
        [
         "The Victoria",
         "2546598360.9999995"
        ],
        [
         "Vinhomes Global Gate",
         "10221295975.08"
        ],
        [
         "Vinhomes Royal Island",
         "240652933.61400002"
        ],
        [
         "Vinhomes Royal Residences",
         "691298738.36"
        ]
       ],
       "shape": {
        "columns": 1,
        "rows": 20
       }
      },
      "text/html": [
       "<div>\n",
       "<style scoped>\n",
       "    .dataframe tbody tr th:only-of-type {\n",
       "        vertical-align: middle;\n",
       "    }\n",
       "\n",
       "    .dataframe tbody tr th {\n",
       "        vertical-align: top;\n",
       "    }\n",
       "\n",
       "    .dataframe thead th {\n",
       "        text-align: right;\n",
       "    }\n",
       "</style>\n",
       "<table border=\"1\" class=\"dataframe\">\n",
       "  <thead>\n",
       "    <tr style=\"text-align: right;\">\n",
       "      <th></th>\n",
       "      <th>revenue</th>\n",
       "    </tr>\n",
       "    <tr>\n",
       "      <th>project</th>\n",
       "      <th></th>\n",
       "    </tr>\n",
       "  </thead>\n",
       "  <tbody>\n",
       "    <tr>\n",
       "      <th>FPT 3</th>\n",
       "      <td>1.428100e+08</td>\n",
       "    </tr>\n",
       "    <tr>\n",
       "      <th>FPT Plaza 2</th>\n",
       "      <td>5.741190e+07</td>\n",
       "    </tr>\n",
       "    <tr>\n",
       "      <th>IMPERIA SIGNATURE</th>\n",
       "      <td>9.636519e+09</td>\n",
       "    </tr>\n",
       "    <tr>\n",
       "      <th>LUMI HANOI</th>\n",
       "      <td>6.655445e+09</td>\n",
       "    </tr>\n",
       "    <tr>\n",
       "      <th>SGB</th>\n",
       "      <td>8.884850e+07</td>\n",
       "    </tr>\n",
       "    <tr>\n",
       "      <th>SUN PONTE RESIDENCE</th>\n",
       "      <td>8.731858e+09</td>\n",
       "    </tr>\n",
       "    <tr>\n",
       "      <th>SUN RIVERSIDE VILLAGE SẦM SƠN</th>\n",
       "      <td>5.169274e+08</td>\n",
       "    </tr>\n",
       "    <tr>\n",
       "      <th>SUN URBAN CITY</th>\n",
       "      <td>1.482681e+09</td>\n",
       "    </tr>\n",
       "    <tr>\n",
       "      <th>Sun Cosmo Residence Đà Nẵng</th>\n",
       "      <td>3.003063e+09</td>\n",
       "    </tr>\n",
       "    <tr>\n",
       "      <th>Sun Pathway</th>\n",
       "      <td>3.166720e+09</td>\n",
       "    </tr>\n",
       "    <tr>\n",
       "      <th>Sun Symphony Residences</th>\n",
       "      <td>1.746259e+10</td>\n",
       "    </tr>\n",
       "    <tr>\n",
       "      <th>THE MIAMI - GS5</th>\n",
       "      <td>3.531715e+09</td>\n",
       "    </tr>\n",
       "    <tr>\n",
       "      <th>The Panoma</th>\n",
       "      <td>1.556198e+08</td>\n",
       "    </tr>\n",
       "    <tr>\n",
       "      <th>The Sea - Sunset Town</th>\n",
       "      <td>7.937941e+07</td>\n",
       "    </tr>\n",
       "    <tr>\n",
       "      <th>The Senique</th>\n",
       "      <td>1.958113e+09</td>\n",
       "    </tr>\n",
       "    <tr>\n",
       "      <th>The Sola Park</th>\n",
       "      <td>6.646321e+09</td>\n",
       "    </tr>\n",
       "    <tr>\n",
       "      <th>The Victoria</th>\n",
       "      <td>2.546598e+09</td>\n",
       "    </tr>\n",
       "    <tr>\n",
       "      <th>Vinhomes Global Gate</th>\n",
       "      <td>1.022130e+10</td>\n",
       "    </tr>\n",
       "    <tr>\n",
       "      <th>Vinhomes Royal Island</th>\n",
       "      <td>2.406529e+08</td>\n",
       "    </tr>\n",
       "    <tr>\n",
       "      <th>Vinhomes Royal Residences</th>\n",
       "      <td>6.912987e+08</td>\n",
       "    </tr>\n",
       "  </tbody>\n",
       "</table>\n",
       "</div>"
      ],
      "text/plain": [
       "                                    revenue\n",
       "project                                    \n",
       "FPT 3                          1.428100e+08\n",
       "FPT Plaza 2                    5.741190e+07\n",
       "IMPERIA SIGNATURE              9.636519e+09\n",
       "LUMI HANOI                     6.655445e+09\n",
       "SGB                            8.884850e+07\n",
       "SUN PONTE RESIDENCE            8.731858e+09\n",
       "SUN RIVERSIDE VILLAGE SẦM SƠN  5.169274e+08\n",
       "SUN URBAN CITY                 1.482681e+09\n",
       "Sun Cosmo Residence Đà Nẵng    3.003063e+09\n",
       "Sun Pathway                    3.166720e+09\n",
       "Sun Symphony Residences        1.746259e+10\n",
       "THE MIAMI - GS5                3.531715e+09\n",
       "The Panoma                     1.556198e+08\n",
       "The Sea - Sunset Town          7.937941e+07\n",
       "The Senique                    1.958113e+09\n",
       "The Sola Park                  6.646321e+09\n",
       "The Victoria                   2.546598e+09\n",
       "Vinhomes Global Gate           1.022130e+10\n",
       "Vinhomes Royal Island          2.406529e+08\n",
       "Vinhomes Royal Residences      6.912987e+08"
      ]
     },
     "execution_count": 26,
     "metadata": {},
     "output_type": "execute_result"
    }
   ],
   "source": [
    "pd.DataFrame(revenue_df.groupby('project')['revenue'].sum())"
   ]
  },
  {
   "cell_type": "code",
   "execution_count": 41,
   "id": "31c22b7d",
   "metadata": {},
   "outputs": [
    {
     "data": {
      "application/vnd.microsoft.datawrangler.viewer.v0+json": {
       "columns": [
        {
         "name": "index",
         "rawType": "int64",
         "type": "integer"
        },
        {
         "name": "month",
         "rawType": "int32",
         "type": "integer"
        },
        {
         "name": "year",
         "rawType": "int32",
         "type": "integer"
        },
        {
         "name": "project",
         "rawType": "object",
         "type": "string"
        },
        {
         "name": "revenue",
         "rawType": "float64",
         "type": "float"
        },
        {
         "name": "date",
         "rawType": "datetime64[ns]",
         "type": "datetime"
        },
        {
         "name": "cogs",
         "rawType": "float64",
         "type": "float"
        },
        {
         "name": "CoR",
         "rawType": "float64",
         "type": "float"
        },
        {
         "name": "ebt",
         "rawType": "float64",
         "type": "float"
        },
        {
         "name": "ebtRev",
         "rawType": "float64",
         "type": "float"
        }
       ],
       "conversionMethod": "pd.DataFrame",
       "ref": "04d1f393-d898-4eaa-843e-ab4329ce52b5",
       "rows": [
        [
         "0",
         "1",
         "2024",
         "Doanh thu cho thuê HCM",
         "89091345.0",
         "2024-01-31 00:00:00",
         null,
         null,
         null,
         null
        ],
        [
         "1",
         "2",
         "2024",
         "Doanh thu cho thuê HCM",
         "88749053.0",
         "2024-02-29 00:00:00",
         null,
         null,
         null,
         null
        ],
        [
         "2",
         "3",
         "2024",
         "Doanh thu cho thuê HCM",
         "5292206.0",
         "2024-03-31 00:00:00",
         null,
         null,
         null,
         null
        ],
        [
         "3",
         "4",
         "2024",
         "Doanh thu cho thuê HCM",
         "0.0",
         "2024-04-30 00:00:00",
         null,
         null,
         null,
         null
        ],
        [
         "4",
         "5",
         "2024",
         "Doanh thu cho thuê HCM",
         "0.0",
         "2024-05-31 00:00:00",
         null,
         null,
         null,
         null
        ],
        [
         "5",
         "6",
         "2024",
         "Doanh thu cho thuê HCM",
         "0.0",
         "2024-06-30 00:00:00",
         null,
         null,
         null,
         null
        ],
        [
         "6",
         "7",
         "2024",
         "Doanh thu cho thuê HCM",
         "0.0",
         "2024-07-31 00:00:00",
         null,
         null,
         null,
         null
        ],
        [
         "7",
         "8",
         "2024",
         "Doanh thu cho thuê HCM",
         "0.0",
         "2024-08-31 00:00:00",
         null,
         null,
         null,
         null
        ],
        [
         "8",
         "9",
         "2024",
         "Doanh thu cho thuê HCM",
         "0.0",
         "2024-09-30 00:00:00",
         null,
         null,
         null,
         null
        ],
        [
         "9",
         "10",
         "2024",
         "Doanh thu cho thuê HCM",
         null,
         "2024-10-31 00:00:00",
         null,
         null,
         null,
         null
        ],
        [
         "10",
         "11",
         "2024",
         "Doanh thu cho thuê HCM",
         null,
         "2024-11-30 00:00:00",
         null,
         null,
         null,
         null
        ],
        [
         "11",
         "12",
         "2024",
         "Doanh thu cho thuê HCM",
         null,
         "2024-12-31 00:00:00",
         null,
         null,
         null,
         null
        ],
        [
         "12",
         "1",
         "2025",
         "Doanh thu cho thuê HCM",
         "0.0",
         "2025-01-31 00:00:00",
         null,
         null,
         null,
         null
        ],
        [
         "13",
         "2",
         "2025",
         "Doanh thu cho thuê HCM",
         "0.0",
         "2025-02-28 00:00:00",
         null,
         null,
         null,
         null
        ],
        [
         "14",
         "1",
         "2024",
         "Doanh thu khác",
         null,
         "2024-01-31 00:00:00",
         "23892796.0",
         null,
         null,
         null
        ],
        [
         "15",
         "2",
         "2024",
         "Doanh thu khác",
         null,
         "2024-02-29 00:00:00",
         "0.0",
         null,
         null,
         null
        ],
        [
         "16",
         "3",
         "2024",
         "Doanh thu khác",
         null,
         "2024-03-31 00:00:00",
         "-6042796.0",
         null,
         null,
         null
        ],
        [
         "17",
         "4",
         "2024",
         "Doanh thu khác",
         null,
         "2024-04-30 00:00:00",
         "0.0",
         null,
         null,
         null
        ],
        [
         "18",
         "5",
         "2024",
         "Doanh thu khác",
         null,
         "2024-05-31 00:00:00",
         "9475493.0",
         null,
         null,
         null
        ],
        [
         "19",
         "6",
         "2024",
         "Doanh thu khác",
         null,
         "2024-06-30 00:00:00",
         "7407408.0",
         null,
         null,
         null
        ],
        [
         "20",
         "7",
         "2024",
         "Doanh thu khác",
         null,
         "2024-07-31 00:00:00",
         "10000.0",
         null,
         null,
         null
        ],
        [
         "21",
         "8",
         "2024",
         "Doanh thu khác",
         null,
         "2024-08-31 00:00:00",
         "60.0",
         null,
         null,
         null
        ],
        [
         "22",
         "9",
         "2024",
         "Doanh thu khác",
         null,
         "2024-09-30 00:00:00",
         "12402.0",
         null,
         null,
         null
        ],
        [
         "23",
         "10",
         "2024",
         "Doanh thu khác",
         null,
         "2024-10-31 00:00:00",
         "1388889.0",
         null,
         null,
         null
        ],
        [
         "24",
         "11",
         "2024",
         "Doanh thu khác",
         null,
         "2024-11-30 00:00:00",
         "0.0",
         null,
         null,
         null
        ],
        [
         "25",
         "12",
         "2024",
         "Doanh thu khác",
         null,
         "2024-12-31 00:00:00",
         "0.0",
         null,
         null,
         null
        ],
        [
         "26",
         "1",
         "2025",
         "Doanh thu khác",
         null,
         "2025-01-31 00:00:00",
         "0.0",
         null,
         null,
         null
        ],
        [
         "27",
         "2",
         "2025",
         "Doanh thu khác",
         null,
         "2025-02-28 00:00:00",
         "0.0",
         null,
         null,
         null
        ],
        [
         "28",
         "1",
         "2024",
         "FPT 3",
         null,
         "2024-01-31 00:00:00",
         "0.0",
         null,
         null,
         null
        ],
        [
         "29",
         "2",
         "2024",
         "FPT 3",
         null,
         "2024-02-29 00:00:00",
         "0.0",
         null,
         null,
         null
        ],
        [
         "30",
         "3",
         "2024",
         "FPT 3",
         "0.0",
         "2024-03-31 00:00:00",
         "0.0",
         null,
         null,
         null
        ],
        [
         "31",
         "4",
         "2024",
         "FPT 3",
         "0.0",
         "2024-04-30 00:00:00",
         "0.0",
         null,
         null,
         null
        ],
        [
         "32",
         "5",
         "2024",
         "FPT 3",
         "0.0",
         "2024-05-31 00:00:00",
         "0.0",
         null,
         null,
         null
        ],
        [
         "33",
         "6",
         "2024",
         "FPT 3",
         "0.0",
         "2024-06-30 00:00:00",
         "0.0",
         null,
         null,
         null
        ],
        [
         "34",
         "7",
         "2024",
         "FPT 3",
         "0.0",
         "2024-07-31 00:00:00",
         "0.0",
         null,
         null,
         null
        ],
        [
         "35",
         "8",
         "2024",
         "FPT 3",
         "0.0",
         "2024-08-31 00:00:00",
         "0.0",
         null,
         null,
         null
        ],
        [
         "36",
         "9",
         "2024",
         "FPT 3",
         "0.0",
         "2024-09-30 00:00:00",
         "0.0",
         null,
         null,
         null
        ],
        [
         "37",
         "10",
         "2024",
         "FPT 3",
         "0.0",
         "2024-10-31 00:00:00",
         "0.0",
         null,
         null,
         null
        ],
        [
         "38",
         "11",
         "2024",
         "FPT 3",
         "142810050.0",
         "2024-11-30 00:00:00",
         "61884355.0",
         "0.43333333333333335",
         null,
         null
        ],
        [
         "39",
         "12",
         "2024",
         "FPT 3",
         "0.0",
         "2024-12-31 00:00:00",
         "0.0",
         null,
         null,
         null
        ],
        [
         "40",
         "1",
         "2025",
         "FPT 3",
         "0.0",
         "2025-01-31 00:00:00",
         "0.0",
         null,
         null,
         null
        ],
        [
         "41",
         "2",
         "2025",
         "FPT 3",
         "0.0",
         "2025-02-28 00:00:00",
         "0.0",
         null,
         null,
         null
        ],
        [
         "42",
         "1",
         "2024",
         "FPT Plaza 2",
         "57411900.0",
         "2024-01-31 00:00:00",
         "40188330.0",
         "0.7",
         null,
         null
        ],
        [
         "43",
         "2",
         "2024",
         "FPT Plaza 2",
         null,
         "2024-02-29 00:00:00",
         "0.0",
         null,
         null,
         null
        ],
        [
         "44",
         "3",
         "2024",
         "FPT Plaza 2",
         "0.0",
         "2024-03-31 00:00:00",
         "0.0",
         null,
         null,
         null
        ],
        [
         "45",
         "4",
         "2024",
         "FPT Plaza 2",
         "0.0",
         "2024-04-30 00:00:00",
         "0.0",
         null,
         null,
         null
        ],
        [
         "46",
         "5",
         "2024",
         "FPT Plaza 2",
         "0.0",
         "2024-05-31 00:00:00",
         "0.0",
         null,
         null,
         null
        ],
        [
         "47",
         "6",
         "2024",
         "FPT Plaza 2",
         "0.0",
         "2024-06-30 00:00:00",
         "0.0",
         null,
         null,
         null
        ],
        [
         "48",
         "7",
         "2024",
         "FPT Plaza 2",
         "0.0",
         "2024-07-31 00:00:00",
         "0.0",
         null,
         null,
         null
        ],
        [
         "49",
         "8",
         "2024",
         "FPT Plaza 2",
         "0.0",
         "2024-08-31 00:00:00",
         "0.0",
         null,
         null,
         null
        ]
       ],
       "shape": {
        "columns": 9,
        "rows": 350
       }
      },
      "text/html": [
       "<div>\n",
       "<style scoped>\n",
       "    .dataframe tbody tr th:only-of-type {\n",
       "        vertical-align: middle;\n",
       "    }\n",
       "\n",
       "    .dataframe tbody tr th {\n",
       "        vertical-align: top;\n",
       "    }\n",
       "\n",
       "    .dataframe thead th {\n",
       "        text-align: right;\n",
       "    }\n",
       "</style>\n",
       "<table border=\"1\" class=\"dataframe\">\n",
       "  <thead>\n",
       "    <tr style=\"text-align: right;\">\n",
       "      <th></th>\n",
       "      <th>month</th>\n",
       "      <th>year</th>\n",
       "      <th>project</th>\n",
       "      <th>revenue</th>\n",
       "      <th>date</th>\n",
       "      <th>cogs</th>\n",
       "      <th>CoR</th>\n",
       "      <th>ebt</th>\n",
       "      <th>ebtRev</th>\n",
       "    </tr>\n",
       "  </thead>\n",
       "  <tbody>\n",
       "    <tr>\n",
       "      <th>0</th>\n",
       "      <td>1</td>\n",
       "      <td>2024</td>\n",
       "      <td>Doanh thu cho thuê HCM</td>\n",
       "      <td>8.909134e+07</td>\n",
       "      <td>2024-01-31</td>\n",
       "      <td>NaN</td>\n",
       "      <td>NaN</td>\n",
       "      <td>NaN</td>\n",
       "      <td>NaN</td>\n",
       "    </tr>\n",
       "    <tr>\n",
       "      <th>1</th>\n",
       "      <td>2</td>\n",
       "      <td>2024</td>\n",
       "      <td>Doanh thu cho thuê HCM</td>\n",
       "      <td>8.874905e+07</td>\n",
       "      <td>2024-02-29</td>\n",
       "      <td>NaN</td>\n",
       "      <td>NaN</td>\n",
       "      <td>NaN</td>\n",
       "      <td>NaN</td>\n",
       "    </tr>\n",
       "    <tr>\n",
       "      <th>2</th>\n",
       "      <td>3</td>\n",
       "      <td>2024</td>\n",
       "      <td>Doanh thu cho thuê HCM</td>\n",
       "      <td>5.292206e+06</td>\n",
       "      <td>2024-03-31</td>\n",
       "      <td>NaN</td>\n",
       "      <td>NaN</td>\n",
       "      <td>NaN</td>\n",
       "      <td>NaN</td>\n",
       "    </tr>\n",
       "    <tr>\n",
       "      <th>3</th>\n",
       "      <td>4</td>\n",
       "      <td>2024</td>\n",
       "      <td>Doanh thu cho thuê HCM</td>\n",
       "      <td>0.000000e+00</td>\n",
       "      <td>2024-04-30</td>\n",
       "      <td>NaN</td>\n",
       "      <td>NaN</td>\n",
       "      <td>NaN</td>\n",
       "      <td>NaN</td>\n",
       "    </tr>\n",
       "    <tr>\n",
       "      <th>4</th>\n",
       "      <td>5</td>\n",
       "      <td>2024</td>\n",
       "      <td>Doanh thu cho thuê HCM</td>\n",
       "      <td>0.000000e+00</td>\n",
       "      <td>2024-05-31</td>\n",
       "      <td>NaN</td>\n",
       "      <td>NaN</td>\n",
       "      <td>NaN</td>\n",
       "      <td>NaN</td>\n",
       "    </tr>\n",
       "    <tr>\n",
       "      <th>...</th>\n",
       "      <td>...</td>\n",
       "      <td>...</td>\n",
       "      <td>...</td>\n",
       "      <td>...</td>\n",
       "      <td>...</td>\n",
       "      <td>...</td>\n",
       "      <td>...</td>\n",
       "      <td>...</td>\n",
       "      <td>...</td>\n",
       "    </tr>\n",
       "    <tr>\n",
       "      <th>345</th>\n",
       "      <td>10</td>\n",
       "      <td>2024</td>\n",
       "      <td>total</td>\n",
       "      <td>1.666748e+10</td>\n",
       "      <td>2024-10-31</td>\n",
       "      <td>NaN</td>\n",
       "      <td>NaN</td>\n",
       "      <td>4.192057e+09</td>\n",
       "      <td>0.251511</td>\n",
       "    </tr>\n",
       "    <tr>\n",
       "      <th>346</th>\n",
       "      <td>11</td>\n",
       "      <td>2024</td>\n",
       "      <td>total</td>\n",
       "      <td>4.107058e+09</td>\n",
       "      <td>2024-11-30</td>\n",
       "      <td>NaN</td>\n",
       "      <td>NaN</td>\n",
       "      <td>-8.088220e+08</td>\n",
       "      <td>-0.196935</td>\n",
       "    </tr>\n",
       "    <tr>\n",
       "      <th>347</th>\n",
       "      <td>12</td>\n",
       "      <td>2024</td>\n",
       "      <td>total</td>\n",
       "      <td>1.090285e+10</td>\n",
       "      <td>2024-12-31</td>\n",
       "      <td>NaN</td>\n",
       "      <td>NaN</td>\n",
       "      <td>1.802909e+09</td>\n",
       "      <td>0.165361</td>\n",
       "    </tr>\n",
       "    <tr>\n",
       "      <th>348</th>\n",
       "      <td>1</td>\n",
       "      <td>2025</td>\n",
       "      <td>total</td>\n",
       "      <td>6.834499e+08</td>\n",
       "      <td>2025-01-31</td>\n",
       "      <td>NaN</td>\n",
       "      <td>NaN</td>\n",
       "      <td>-1.408265e+09</td>\n",
       "      <td>-2.060524</td>\n",
       "    </tr>\n",
       "    <tr>\n",
       "      <th>349</th>\n",
       "      <td>2</td>\n",
       "      <td>2025</td>\n",
       "      <td>total</td>\n",
       "      <td>1.382446e+09</td>\n",
       "      <td>2025-02-28</td>\n",
       "      <td>NaN</td>\n",
       "      <td>NaN</td>\n",
       "      <td>-6.950938e+08</td>\n",
       "      <td>-0.502800</td>\n",
       "    </tr>\n",
       "  </tbody>\n",
       "</table>\n",
       "<p>350 rows × 9 columns</p>\n",
       "</div>"
      ],
      "text/plain": [
       "     month  year                 project       revenue       date  cogs  CoR  \\\n",
       "0        1  2024  Doanh thu cho thuê HCM  8.909134e+07 2024-01-31   NaN  NaN   \n",
       "1        2  2024  Doanh thu cho thuê HCM  8.874905e+07 2024-02-29   NaN  NaN   \n",
       "2        3  2024  Doanh thu cho thuê HCM  5.292206e+06 2024-03-31   NaN  NaN   \n",
       "3        4  2024  Doanh thu cho thuê HCM  0.000000e+00 2024-04-30   NaN  NaN   \n",
       "4        5  2024  Doanh thu cho thuê HCM  0.000000e+00 2024-05-31   NaN  NaN   \n",
       "..     ...   ...                     ...           ...        ...   ...  ...   \n",
       "345     10  2024                   total  1.666748e+10 2024-10-31   NaN  NaN   \n",
       "346     11  2024                   total  4.107058e+09 2024-11-30   NaN  NaN   \n",
       "347     12  2024                   total  1.090285e+10 2024-12-31   NaN  NaN   \n",
       "348      1  2025                   total  6.834499e+08 2025-01-31   NaN  NaN   \n",
       "349      2  2025                   total  1.382446e+09 2025-02-28   NaN  NaN   \n",
       "\n",
       "              ebt    ebtRev  \n",
       "0             NaN       NaN  \n",
       "1             NaN       NaN  \n",
       "2             NaN       NaN  \n",
       "3             NaN       NaN  \n",
       "4             NaN       NaN  \n",
       "..            ...       ...  \n",
       "345  4.192057e+09  0.251511  \n",
       "346 -8.088220e+08 -0.196935  \n",
       "347  1.802909e+09  0.165361  \n",
       "348 -1.408265e+09 -2.060524  \n",
       "349 -6.950938e+08 -0.502800  \n",
       "\n",
       "[350 rows x 9 columns]"
      ]
     },
     "execution_count": 41,
     "metadata": {},
     "output_type": "execute_result"
    }
   ],
   "source": [
    "df"
   ]
  },
  {
   "cell_type": "code",
   "execution_count": null,
   "id": "bece56d6",
   "metadata": {},
   "outputs": [
    {
     "data": {
      "application/vnd.microsoft.datawrangler.viewer.v0+json": {
       "columns": [
        {
         "name": "('year', 'month')",
         "rawType": "object",
         "type": "unknown"
        },
        {
         "name": "revenue",
         "rawType": "float64",
         "type": "float"
        },
        {
         "name": "cogs",
         "rawType": "float64",
         "type": "float"
        },
        {
         "name": "grossProfit",
         "rawType": "float64",
         "type": "float"
        },
        {
         "name": "changeRevenue",
         "rawType": "float64",
         "type": "float"
        },
        {
         "name": "changeCogs",
         "rawType": "float64",
         "type": "float"
        },
        {
         "name": "changeGrossProfit",
         "rawType": "float64",
         "type": "float"
        },
        {
         "name": "profitMargin",
         "rawType": "float64",
         "type": "float"
        },
        {
         "name": "changeProfitMargin",
         "rawType": "float64",
         "type": "float"
        }
       ],
       "conversionMethod": "pd.DataFrame",
       "ref": "cf8d3505-58f6-46db-9106-a19445d735c4",
       "rows": [
        [
         "(2024, 1)",
         "666812296.0",
         "288653981.3",
         "378158314.7",
         null,
         null,
         null,
         "0.5671135894890577",
         null
        ],
        [
         "(2024, 2)",
         "177498106.0",
         "103190754.0",
         "74307352.0",
         null,
         null,
         null,
         "0.41863743605241627",
         null
        ],
        [
         "(2024, 3)",
         "650649108.3080001",
         "189604130.408",
         "461044977.9000001",
         null,
         null,
         null,
         "0.7085923457252378",
         null
        ],
        [
         "(2024, 4)",
         "22251038315.956398",
         "6105671597.0114155",
         "16145366718.944983",
         null,
         null,
         null,
         "0.7256005984838474",
         null
        ],
        [
         "(2024, 5)",
         "16961915058.3304",
         "4814754753.248005",
         "12147160305.082396",
         null,
         null,
         null,
         "0.7161432104399459",
         null
        ],
        [
         "(2024, 6)",
         "14018287845.300003",
         "4383817269.261001",
         "9634470576.039001",
         null,
         null,
         null,
         "0.6872786949705281",
         null
        ],
        [
         "(2024, 7)",
         "7505363403.6",
         "2770334086.882",
         "4735029316.718",
         null,
         null,
         null,
         "0.6308860826708018",
         null
        ],
        [
         "(2024, 8)",
         "11022252255.42",
         "3020618164.3645",
         "8001634091.0555",
         null,
         null,
         null,
         "0.7259527277758351",
         null
        ],
        [
         "(2024, 9)",
         "19847617677.809998",
         "6576453582.76575",
         "13271164095.044247",
         null,
         null,
         null,
         "0.6686527476736743",
         null
        ],
        [
         "(2024, 10)",
         "33334961014.498394",
         "10742338881.197002",
         "22592622133.30139",
         null,
         null,
         null,
         "0.6777455693881018",
         null
        ],
        [
         "(2024, 11)",
         "8214115352.73301",
         "2798482521.2985",
         "5415632831.43451",
         null,
         null,
         null,
         "0.6593081054836434",
         null
        ],
        [
         "(2024, 12)",
         "21805698614.255997",
         "5967661498.887801",
         "15838037115.368195",
         null,
         null,
         null,
         "0.7263255993556519",
         null
        ],
        [
         "(2025, 1)",
         "1366899840.406",
         "427551308.54209995",
         "939348531.8639",
         "1.049901971822667",
         "0.48118971585478687",
         "1.4840086687214655",
         "0.6872109455985396",
         "0.21176949086634278"
        ],
        [
         "(2025, 2)",
         "2764891933.57",
         "969712176.7494999",
         "1795179756.8205004",
         "14.57702217718312",
         "8.397277751740237",
         "23.158844427944363",
         "0.649276644422982",
         "0.5509282938129025"
        ]
       ],
       "shape": {
        "columns": 8,
        "rows": 14
       }
      },
      "text/html": [
       "<div>\n",
       "<style scoped>\n",
       "    .dataframe tbody tr th:only-of-type {\n",
       "        vertical-align: middle;\n",
       "    }\n",
       "\n",
       "    .dataframe tbody tr th {\n",
       "        vertical-align: top;\n",
       "    }\n",
       "\n",
       "    .dataframe thead th {\n",
       "        text-align: right;\n",
       "    }\n",
       "</style>\n",
       "<table border=\"1\" class=\"dataframe\">\n",
       "  <thead>\n",
       "    <tr style=\"text-align: right;\">\n",
       "      <th></th>\n",
       "      <th></th>\n",
       "      <th>revenue</th>\n",
       "      <th>cogs</th>\n",
       "      <th>grossProfit</th>\n",
       "      <th>changeRevenue</th>\n",
       "      <th>changeCogs</th>\n",
       "      <th>changeGrossProfit</th>\n",
       "      <th>profitMargin</th>\n",
       "      <th>changeProfitMargin</th>\n",
       "    </tr>\n",
       "    <tr>\n",
       "      <th>year</th>\n",
       "      <th>month</th>\n",
       "      <th></th>\n",
       "      <th></th>\n",
       "      <th></th>\n",
       "      <th></th>\n",
       "      <th></th>\n",
       "      <th></th>\n",
       "      <th></th>\n",
       "      <th></th>\n",
       "    </tr>\n",
       "  </thead>\n",
       "  <tbody>\n",
       "    <tr>\n",
       "      <th rowspan=\"12\" valign=\"top\">2024</th>\n",
       "      <th>1</th>\n",
       "      <td>6.668123e+08</td>\n",
       "      <td>2.886540e+08</td>\n",
       "      <td>3.781583e+08</td>\n",
       "      <td>NaN</td>\n",
       "      <td>NaN</td>\n",
       "      <td>NaN</td>\n",
       "      <td>0.567114</td>\n",
       "      <td>NaN</td>\n",
       "    </tr>\n",
       "    <tr>\n",
       "      <th>2</th>\n",
       "      <td>1.774981e+08</td>\n",
       "      <td>1.031908e+08</td>\n",
       "      <td>7.430735e+07</td>\n",
       "      <td>NaN</td>\n",
       "      <td>NaN</td>\n",
       "      <td>NaN</td>\n",
       "      <td>0.418637</td>\n",
       "      <td>NaN</td>\n",
       "    </tr>\n",
       "    <tr>\n",
       "      <th>3</th>\n",
       "      <td>6.506491e+08</td>\n",
       "      <td>1.896041e+08</td>\n",
       "      <td>4.610450e+08</td>\n",
       "      <td>NaN</td>\n",
       "      <td>NaN</td>\n",
       "      <td>NaN</td>\n",
       "      <td>0.708592</td>\n",
       "      <td>NaN</td>\n",
       "    </tr>\n",
       "    <tr>\n",
       "      <th>4</th>\n",
       "      <td>2.225104e+10</td>\n",
       "      <td>6.105672e+09</td>\n",
       "      <td>1.614537e+10</td>\n",
       "      <td>NaN</td>\n",
       "      <td>NaN</td>\n",
       "      <td>NaN</td>\n",
       "      <td>0.725601</td>\n",
       "      <td>NaN</td>\n",
       "    </tr>\n",
       "    <tr>\n",
       "      <th>5</th>\n",
       "      <td>1.696192e+10</td>\n",
       "      <td>4.814755e+09</td>\n",
       "      <td>1.214716e+10</td>\n",
       "      <td>NaN</td>\n",
       "      <td>NaN</td>\n",
       "      <td>NaN</td>\n",
       "      <td>0.716143</td>\n",
       "      <td>NaN</td>\n",
       "    </tr>\n",
       "    <tr>\n",
       "      <th>6</th>\n",
       "      <td>1.401829e+10</td>\n",
       "      <td>4.383817e+09</td>\n",
       "      <td>9.634471e+09</td>\n",
       "      <td>NaN</td>\n",
       "      <td>NaN</td>\n",
       "      <td>NaN</td>\n",
       "      <td>0.687279</td>\n",
       "      <td>NaN</td>\n",
       "    </tr>\n",
       "    <tr>\n",
       "      <th>7</th>\n",
       "      <td>7.505363e+09</td>\n",
       "      <td>2.770334e+09</td>\n",
       "      <td>4.735029e+09</td>\n",
       "      <td>NaN</td>\n",
       "      <td>NaN</td>\n",
       "      <td>NaN</td>\n",
       "      <td>0.630886</td>\n",
       "      <td>NaN</td>\n",
       "    </tr>\n",
       "    <tr>\n",
       "      <th>8</th>\n",
       "      <td>1.102225e+10</td>\n",
       "      <td>3.020618e+09</td>\n",
       "      <td>8.001634e+09</td>\n",
       "      <td>NaN</td>\n",
       "      <td>NaN</td>\n",
       "      <td>NaN</td>\n",
       "      <td>0.725953</td>\n",
       "      <td>NaN</td>\n",
       "    </tr>\n",
       "    <tr>\n",
       "      <th>9</th>\n",
       "      <td>1.984762e+10</td>\n",
       "      <td>6.576454e+09</td>\n",
       "      <td>1.327116e+10</td>\n",
       "      <td>NaN</td>\n",
       "      <td>NaN</td>\n",
       "      <td>NaN</td>\n",
       "      <td>0.668653</td>\n",
       "      <td>NaN</td>\n",
       "    </tr>\n",
       "    <tr>\n",
       "      <th>10</th>\n",
       "      <td>3.333496e+10</td>\n",
       "      <td>1.074234e+10</td>\n",
       "      <td>2.259262e+10</td>\n",
       "      <td>NaN</td>\n",
       "      <td>NaN</td>\n",
       "      <td>NaN</td>\n",
       "      <td>0.677746</td>\n",
       "      <td>NaN</td>\n",
       "    </tr>\n",
       "    <tr>\n",
       "      <th>11</th>\n",
       "      <td>8.214115e+09</td>\n",
       "      <td>2.798483e+09</td>\n",
       "      <td>5.415633e+09</td>\n",
       "      <td>NaN</td>\n",
       "      <td>NaN</td>\n",
       "      <td>NaN</td>\n",
       "      <td>0.659308</td>\n",
       "      <td>NaN</td>\n",
       "    </tr>\n",
       "    <tr>\n",
       "      <th>12</th>\n",
       "      <td>2.180570e+10</td>\n",
       "      <td>5.967661e+09</td>\n",
       "      <td>1.583804e+10</td>\n",
       "      <td>NaN</td>\n",
       "      <td>NaN</td>\n",
       "      <td>NaN</td>\n",
       "      <td>0.726326</td>\n",
       "      <td>NaN</td>\n",
       "    </tr>\n",
       "    <tr>\n",
       "      <th rowspan=\"2\" valign=\"top\">2025</th>\n",
       "      <th>1</th>\n",
       "      <td>1.366900e+09</td>\n",
       "      <td>4.275513e+08</td>\n",
       "      <td>9.393485e+08</td>\n",
       "      <td>1.049902</td>\n",
       "      <td>0.481190</td>\n",
       "      <td>1.484009</td>\n",
       "      <td>0.687211</td>\n",
       "      <td>0.211769</td>\n",
       "    </tr>\n",
       "    <tr>\n",
       "      <th>2</th>\n",
       "      <td>2.764892e+09</td>\n",
       "      <td>9.697122e+08</td>\n",
       "      <td>1.795180e+09</td>\n",
       "      <td>14.577022</td>\n",
       "      <td>8.397278</td>\n",
       "      <td>23.158844</td>\n",
       "      <td>0.649277</td>\n",
       "      <td>0.550928</td>\n",
       "    </tr>\n",
       "  </tbody>\n",
       "</table>\n",
       "</div>"
      ],
      "text/plain": [
       "                 revenue          cogs   grossProfit  changeRevenue  \\\n",
       "year month                                                            \n",
       "2024 1      6.668123e+08  2.886540e+08  3.781583e+08            NaN   \n",
       "     2      1.774981e+08  1.031908e+08  7.430735e+07            NaN   \n",
       "     3      6.506491e+08  1.896041e+08  4.610450e+08            NaN   \n",
       "     4      2.225104e+10  6.105672e+09  1.614537e+10            NaN   \n",
       "     5      1.696192e+10  4.814755e+09  1.214716e+10            NaN   \n",
       "     6      1.401829e+10  4.383817e+09  9.634471e+09            NaN   \n",
       "     7      7.505363e+09  2.770334e+09  4.735029e+09            NaN   \n",
       "     8      1.102225e+10  3.020618e+09  8.001634e+09            NaN   \n",
       "     9      1.984762e+10  6.576454e+09  1.327116e+10            NaN   \n",
       "     10     3.333496e+10  1.074234e+10  2.259262e+10            NaN   \n",
       "     11     8.214115e+09  2.798483e+09  5.415633e+09            NaN   \n",
       "     12     2.180570e+10  5.967661e+09  1.583804e+10            NaN   \n",
       "2025 1      1.366900e+09  4.275513e+08  9.393485e+08       1.049902   \n",
       "     2      2.764892e+09  9.697122e+08  1.795180e+09      14.577022   \n",
       "\n",
       "            changeCogs  changeGrossProfit  profitMargin  changeProfitMargin  \n",
       "year month                                                                   \n",
       "2024 1             NaN                NaN      0.567114                 NaN  \n",
       "     2             NaN                NaN      0.418637                 NaN  \n",
       "     3             NaN                NaN      0.708592                 NaN  \n",
       "     4             NaN                NaN      0.725601                 NaN  \n",
       "     5             NaN                NaN      0.716143                 NaN  \n",
       "     6             NaN                NaN      0.687279                 NaN  \n",
       "     7             NaN                NaN      0.630886                 NaN  \n",
       "     8             NaN                NaN      0.725953                 NaN  \n",
       "     9             NaN                NaN      0.668653                 NaN  \n",
       "     10            NaN                NaN      0.677746                 NaN  \n",
       "     11            NaN                NaN      0.659308                 NaN  \n",
       "     12            NaN                NaN      0.726326                 NaN  \n",
       "2025 1        0.481190           1.484009      0.687211            0.211769  \n",
       "     2        8.397278          23.158844      0.649277            0.550928  "
      ]
     },
     "execution_count": 71,
     "metadata": {},
     "output_type": "execute_result"
    }
   ],
   "source": [
    "df.groupby(['year', 'month'])[['revenue', 'cogs']].sum()\\\n",
    "    .assign(\n",
    "        grossProfit = lambda x: x[\"revenue\"] - x[\"cogs\"],\n",
    "        changeRevenue = lambda x: x['revenue'].pct_change(periods=12)*100,\n",
    "        changeCogs = lambda x: x['cogs'].pct_change(periods=12),\n",
    "        changeGrossProfit = lambda x: x['grossProfit'].pct_change(periods=12)*100,\n",
    "        profitMargin = lambda x: x[\"grossProfit\"] / x[\"revenue\"],\n",
    "        changeProfitMargin = lambda x: x[\"profitMargin\"].diff(periods=12)\n",
    "    )"
   ]
  },
  {
   "cell_type": "code",
   "execution_count": 58,
   "id": "4db1c1d6",
   "metadata": {},
   "outputs": [
    {
     "data": {
      "application/vnd.microsoft.datawrangler.viewer.v0+json": {
       "columns": [
        {
         "name": "index",
         "rawType": "int64",
         "type": "integer"
        },
        {
         "name": "project",
         "rawType": "object",
         "type": "string"
        },
        {
         "name": "revenue",
         "rawType": "float64",
         "type": "float"
        },
        {
         "name": "cogs",
         "rawType": "float64",
         "type": "float"
        },
        {
         "name": "grossProfit",
         "rawType": "float64",
         "type": "float"
        }
       ],
       "conversionMethod": "pd.DataFrame",
       "ref": "65e692fb-aa91-431e-aadf-49b4314d1993",
       "rows": [
        [
         "13",
         "Sun Symphony Residences",
         "17462590016.0954",
         "10232961659.5356",
         "7229628356.559801"
        ],
        [
         "5",
         "IMPERIA SIGNATURE",
         "9636519435.57",
         "5335123089.237801",
         "4301396346.332199"
        ],
        [
         "8",
         "SUN PONTE RESIDENCE",
         "8731857683.377304",
         "4901173364.88792",
         "3830684318.4893837"
        ],
        [
         "21",
         "Vinhomes Global Gate",
         "10221295975.08",
         "7628010771.8619995",
         "2593285203.2180004"
        ],
        [
         "6",
         "LUMI HANOI",
         "6655444915.68",
         "4079430947.08",
         "2576013968.6000004"
        ],
        [
         "18",
         "The Sola Park",
         "6646321405.169997",
         "4420588572.399502",
         "2225732832.7704954"
        ],
        [
         "14",
         "THE MIAMI - GS5",
         "3531715035.125",
         "1634159907.77975",
         "1897555127.34525"
        ],
        [
         "12",
         "Sun Pathway",
         "3166719545.155",
         "1602203931.7219996",
         "1564515613.4330006"
        ],
        [
         "11",
         "Sun Cosmo Residence Đà Nẵng",
         "3003062922.7599998",
         "1894677754.7260003",
         "1108385168.0339994"
        ],
        [
         "19",
         "The Victoria",
         "2546598360.9999995",
         "1660238896.9610002",
         "886359464.0389993"
        ],
        [
         "17",
         "The Senique",
         "1958112816.8000002",
         "1223820510.5",
         "734292306.3000002"
        ],
        [
         "10",
         "SUN URBAN CITY",
         "1482680956.5773997",
         "845288638.976",
         "637392317.6013998"
        ],
        [
         "9",
         "SUN RIVERSIDE VILLAGE SẦM SƠN",
         "516927422.36",
         "323079638.975",
         "193847783.385"
        ],
        [
         "23",
         "Vinhomes Royal Residences",
         "691298738.36",
         "508190245.95000005",
         "183108492.40999997"
        ],
        [
         "22",
         "Vinhomes Royal Island",
         "240652933.61400002",
         "133696074.23",
         "106956859.38400002"
        ],
        [
         "2",
         "FPT 3",
         "142810050.0",
         "61884355.0",
         "80925695.0"
        ],
        [
         "15",
         "The Panoma",
         "155619775.16",
         "77809887.58",
         "77809887.58"
        ],
        [
         "7",
         "SGB",
         "88848502.67",
         "44424251.335",
         "44424251.335"
        ],
        [
         "16",
         "The Sea - Sunset Town",
         "79379414.54",
         "55565590.177999996",
         "23813824.36200001"
        ],
        [
         "3",
         "FPT Plaza 2",
         "57411900.0",
         "40188330.0",
         "17223570.0"
        ]
       ],
       "shape": {
        "columns": 4,
        "rows": 20
       }
      },
      "text/html": [
       "<div>\n",
       "<style scoped>\n",
       "    .dataframe tbody tr th:only-of-type {\n",
       "        vertical-align: middle;\n",
       "    }\n",
       "\n",
       "    .dataframe tbody tr th {\n",
       "        vertical-align: top;\n",
       "    }\n",
       "\n",
       "    .dataframe thead th {\n",
       "        text-align: right;\n",
       "    }\n",
       "</style>\n",
       "<table border=\"1\" class=\"dataframe\">\n",
       "  <thead>\n",
       "    <tr style=\"text-align: right;\">\n",
       "      <th></th>\n",
       "      <th>project</th>\n",
       "      <th>revenue</th>\n",
       "      <th>cogs</th>\n",
       "      <th>grossProfit</th>\n",
       "    </tr>\n",
       "  </thead>\n",
       "  <tbody>\n",
       "    <tr>\n",
       "      <th>13</th>\n",
       "      <td>Sun Symphony Residences</td>\n",
       "      <td>1.746259e+10</td>\n",
       "      <td>1.023296e+10</td>\n",
       "      <td>7.229628e+09</td>\n",
       "    </tr>\n",
       "    <tr>\n",
       "      <th>5</th>\n",
       "      <td>IMPERIA SIGNATURE</td>\n",
       "      <td>9.636519e+09</td>\n",
       "      <td>5.335123e+09</td>\n",
       "      <td>4.301396e+09</td>\n",
       "    </tr>\n",
       "    <tr>\n",
       "      <th>8</th>\n",
       "      <td>SUN PONTE RESIDENCE</td>\n",
       "      <td>8.731858e+09</td>\n",
       "      <td>4.901173e+09</td>\n",
       "      <td>3.830684e+09</td>\n",
       "    </tr>\n",
       "    <tr>\n",
       "      <th>21</th>\n",
       "      <td>Vinhomes Global Gate</td>\n",
       "      <td>1.022130e+10</td>\n",
       "      <td>7.628011e+09</td>\n",
       "      <td>2.593285e+09</td>\n",
       "    </tr>\n",
       "    <tr>\n",
       "      <th>6</th>\n",
       "      <td>LUMI HANOI</td>\n",
       "      <td>6.655445e+09</td>\n",
       "      <td>4.079431e+09</td>\n",
       "      <td>2.576014e+09</td>\n",
       "    </tr>\n",
       "    <tr>\n",
       "      <th>18</th>\n",
       "      <td>The Sola Park</td>\n",
       "      <td>6.646321e+09</td>\n",
       "      <td>4.420589e+09</td>\n",
       "      <td>2.225733e+09</td>\n",
       "    </tr>\n",
       "    <tr>\n",
       "      <th>14</th>\n",
       "      <td>THE MIAMI - GS5</td>\n",
       "      <td>3.531715e+09</td>\n",
       "      <td>1.634160e+09</td>\n",
       "      <td>1.897555e+09</td>\n",
       "    </tr>\n",
       "    <tr>\n",
       "      <th>12</th>\n",
       "      <td>Sun Pathway</td>\n",
       "      <td>3.166720e+09</td>\n",
       "      <td>1.602204e+09</td>\n",
       "      <td>1.564516e+09</td>\n",
       "    </tr>\n",
       "    <tr>\n",
       "      <th>11</th>\n",
       "      <td>Sun Cosmo Residence Đà Nẵng</td>\n",
       "      <td>3.003063e+09</td>\n",
       "      <td>1.894678e+09</td>\n",
       "      <td>1.108385e+09</td>\n",
       "    </tr>\n",
       "    <tr>\n",
       "      <th>19</th>\n",
       "      <td>The Victoria</td>\n",
       "      <td>2.546598e+09</td>\n",
       "      <td>1.660239e+09</td>\n",
       "      <td>8.863595e+08</td>\n",
       "    </tr>\n",
       "    <tr>\n",
       "      <th>17</th>\n",
       "      <td>The Senique</td>\n",
       "      <td>1.958113e+09</td>\n",
       "      <td>1.223821e+09</td>\n",
       "      <td>7.342923e+08</td>\n",
       "    </tr>\n",
       "    <tr>\n",
       "      <th>10</th>\n",
       "      <td>SUN URBAN CITY</td>\n",
       "      <td>1.482681e+09</td>\n",
       "      <td>8.452886e+08</td>\n",
       "      <td>6.373923e+08</td>\n",
       "    </tr>\n",
       "    <tr>\n",
       "      <th>9</th>\n",
       "      <td>SUN RIVERSIDE VILLAGE SẦM SƠN</td>\n",
       "      <td>5.169274e+08</td>\n",
       "      <td>3.230796e+08</td>\n",
       "      <td>1.938478e+08</td>\n",
       "    </tr>\n",
       "    <tr>\n",
       "      <th>23</th>\n",
       "      <td>Vinhomes Royal Residences</td>\n",
       "      <td>6.912987e+08</td>\n",
       "      <td>5.081902e+08</td>\n",
       "      <td>1.831085e+08</td>\n",
       "    </tr>\n",
       "    <tr>\n",
       "      <th>22</th>\n",
       "      <td>Vinhomes Royal Island</td>\n",
       "      <td>2.406529e+08</td>\n",
       "      <td>1.336961e+08</td>\n",
       "      <td>1.069569e+08</td>\n",
       "    </tr>\n",
       "    <tr>\n",
       "      <th>2</th>\n",
       "      <td>FPT 3</td>\n",
       "      <td>1.428100e+08</td>\n",
       "      <td>6.188436e+07</td>\n",
       "      <td>8.092570e+07</td>\n",
       "    </tr>\n",
       "    <tr>\n",
       "      <th>15</th>\n",
       "      <td>The Panoma</td>\n",
       "      <td>1.556198e+08</td>\n",
       "      <td>7.780989e+07</td>\n",
       "      <td>7.780989e+07</td>\n",
       "    </tr>\n",
       "    <tr>\n",
       "      <th>7</th>\n",
       "      <td>SGB</td>\n",
       "      <td>8.884850e+07</td>\n",
       "      <td>4.442425e+07</td>\n",
       "      <td>4.442425e+07</td>\n",
       "    </tr>\n",
       "    <tr>\n",
       "      <th>16</th>\n",
       "      <td>The Sea - Sunset Town</td>\n",
       "      <td>7.937941e+07</td>\n",
       "      <td>5.556559e+07</td>\n",
       "      <td>2.381382e+07</td>\n",
       "    </tr>\n",
       "    <tr>\n",
       "      <th>3</th>\n",
       "      <td>FPT Plaza 2</td>\n",
       "      <td>5.741190e+07</td>\n",
       "      <td>4.018833e+07</td>\n",
       "      <td>1.722357e+07</td>\n",
       "    </tr>\n",
       "  </tbody>\n",
       "</table>\n",
       "</div>"
      ],
      "text/plain": [
       "                          project       revenue          cogs   grossProfit\n",
       "13        Sun Symphony Residences  1.746259e+10  1.023296e+10  7.229628e+09\n",
       "5               IMPERIA SIGNATURE  9.636519e+09  5.335123e+09  4.301396e+09\n",
       "8             SUN PONTE RESIDENCE  8.731858e+09  4.901173e+09  3.830684e+09\n",
       "21           Vinhomes Global Gate  1.022130e+10  7.628011e+09  2.593285e+09\n",
       "6                      LUMI HANOI  6.655445e+09  4.079431e+09  2.576014e+09\n",
       "18                  The Sola Park  6.646321e+09  4.420589e+09  2.225733e+09\n",
       "14                THE MIAMI - GS5  3.531715e+09  1.634160e+09  1.897555e+09\n",
       "12                    Sun Pathway  3.166720e+09  1.602204e+09  1.564516e+09\n",
       "11    Sun Cosmo Residence Đà Nẵng  3.003063e+09  1.894678e+09  1.108385e+09\n",
       "19                   The Victoria  2.546598e+09  1.660239e+09  8.863595e+08\n",
       "17                    The Senique  1.958113e+09  1.223821e+09  7.342923e+08\n",
       "10                 SUN URBAN CITY  1.482681e+09  8.452886e+08  6.373923e+08\n",
       "9   SUN RIVERSIDE VILLAGE SẦM SƠN  5.169274e+08  3.230796e+08  1.938478e+08\n",
       "23      Vinhomes Royal Residences  6.912987e+08  5.081902e+08  1.831085e+08\n",
       "22          Vinhomes Royal Island  2.406529e+08  1.336961e+08  1.069569e+08\n",
       "2                           FPT 3  1.428100e+08  6.188436e+07  8.092570e+07\n",
       "15                     The Panoma  1.556198e+08  7.780989e+07  7.780989e+07\n",
       "7                             SGB  8.884850e+07  4.442425e+07  4.442425e+07\n",
       "16          The Sea - Sunset Town  7.937941e+07  5.556559e+07  2.381382e+07\n",
       "3                     FPT Plaza 2  5.741190e+07  4.018833e+07  1.722357e+07"
      ]
     },
     "execution_count": 58,
     "metadata": {},
     "output_type": "execute_result"
    }
   ],
   "source": [
    "df.groupby('project', as_index=False)[[\"revenue\", \"cogs\"]].sum()\\\n",
    "    .loc[lambda x: ~x.project.isin(ignore_category)]\\\n",
    "    .assign(\n",
    "        grossProfit = lambda x: x[\"revenue\"] - x['cogs']\n",
    "    ).sort_values(by=\"grossProfit\", ascending=False)"
   ]
  },
  {
   "cell_type": "code",
   "execution_count": 81,
   "id": "4af28c03",
   "metadata": {},
   "outputs": [
    {
     "data": {
      "application/vnd.microsoft.datawrangler.viewer.v0+json": {
       "columns": [
        {
         "name": "index",
         "rawType": "int64",
         "type": "integer"
        },
        {
         "name": "month",
         "rawType": "object",
         "type": "unknown"
        },
        {
         "name": "year",
         "rawType": "object",
         "type": "unknown"
        },
        {
         "name": "project",
         "rawType": "object",
         "type": "string"
        },
        {
         "name": "fee",
         "rawType": "object",
         "type": "unknown"
        },
        {
         "name": "date",
         "rawType": "datetime64[ns]",
         "type": "datetime"
        }
       ],
       "conversionMethod": "pd.DataFrame",
       "ref": "39c8588a-8b02-4848-a6ea-470225a41492",
       "rows": [
        [
         "0",
         "1.0",
         "2024.0",
         "Thưởng nóng",
         "13636363.0",
         "2024-01-31 00:00:00"
        ],
        [
         "1",
         "2.0",
         "2024.0",
         "Thưởng nóng",
         "13636364.0",
         "2024-02-29 00:00:00"
        ],
        [
         "2",
         "3.0",
         "2024.0",
         "Thưởng nóng",
         "0.0",
         "2024-03-31 00:00:00"
        ],
        [
         "3",
         "4.0",
         "2024.0",
         "Thưởng nóng",
         "134268184.0",
         "2024-04-30 00:00:00"
        ],
        [
         "4",
         "5.0",
         "2024.0",
         "Thưởng nóng",
         "281818184.0",
         "2024-05-31 00:00:00"
        ],
        [
         "5",
         "6.0",
         "2024.0",
         "Thưởng nóng",
         "640909094.0",
         "2024-06-30 00:00:00"
        ],
        [
         "6",
         "7.0",
         "2024.0",
         "Thưởng nóng",
         "436363638.0",
         "2024-07-31 00:00:00"
        ],
        [
         "7",
         "8.0",
         "2024.0",
         "Thưởng nóng",
         "68181818.0",
         "2024-08-31 00:00:00"
        ],
        [
         "8",
         "9.0",
         "2024.0",
         "Thưởng nóng",
         "246363638.0",
         "2024-09-30 00:00:00"
        ],
        [
         "9",
         "10.0",
         "2024.0",
         "Thưởng nóng",
         "181818182.0",
         "2024-10-31 00:00:00"
        ],
        [
         "10",
         "11.0",
         "2024.0",
         "Thưởng nóng",
         "90909094.0",
         "2024-11-30 00:00:00"
        ],
        [
         "11",
         "12.0",
         "2024.0",
         "Thưởng nóng",
         "74090909.0",
         "2024-12-31 00:00:00"
        ],
        [
         "12",
         "1.0",
         "2025.0",
         "Thưởng nóng",
         "50000000.0",
         "2025-01-31 00:00:00"
        ],
        [
         "13",
         "2.0",
         "2025.0",
         "Thưởng nóng",
         "2000000.0",
         "2025-02-28 00:00:00"
        ],
        [
         "14",
         "1.0",
         "2024.0",
         "Giá vốn VP HCM",
         "89649915.0",
         "2024-01-31 00:00:00"
        ],
        [
         "15",
         "2.0",
         "2024.0",
         "Giá vốn VP HCM",
         "89554390.0",
         "2024-02-29 00:00:00"
        ],
        [
         "16",
         "3.0",
         "2024.0",
         "Giá vốn VP HCM",
         "6385262.0",
         "2024-03-31 00:00:00"
        ],
        [
         "17",
         "4.0",
         "2024.0",
         "Giá vốn VP HCM",
         "0.0",
         "2024-04-30 00:00:00"
        ],
        [
         "18",
         "5.0",
         "2024.0",
         "Giá vốn VP HCM",
         "0.0",
         "2024-05-31 00:00:00"
        ],
        [
         "19",
         "6.0",
         "2024.0",
         "Giá vốn VP HCM",
         "0.0",
         "2024-06-30 00:00:00"
        ],
        [
         "20",
         "7.0",
         "2024.0",
         "Giá vốn VP HCM",
         "0.0",
         "2024-07-31 00:00:00"
        ],
        [
         "21",
         "8.0",
         "2024.0",
         "Giá vốn VP HCM",
         "599000.0",
         "2024-08-31 00:00:00"
        ],
        [
         "22",
         "9.0",
         "2024.0",
         "Giá vốn VP HCM",
         "0.0",
         "2024-09-30 00:00:00"
        ],
        [
         "23",
         "10.0",
         "2024.0",
         "Giá vốn VP HCM",
         "0.0",
         "2024-10-31 00:00:00"
        ],
        [
         "24",
         "11.0",
         "2024.0",
         "Giá vốn VP HCM",
         "0.0",
         "2024-11-30 00:00:00"
        ],
        [
         "25",
         "12.0",
         "2024.0",
         "Giá vốn VP HCM",
         "0.0",
         "2024-12-31 00:00:00"
        ],
        [
         "26",
         "1.0",
         "2025.0",
         "Giá vốn VP HCM",
         "0.0",
         "2025-01-31 00:00:00"
        ],
        [
         "27",
         "2.0",
         "2025.0",
         "Giá vốn VP HCM",
         "0.0",
         "2025-02-28 00:00:00"
        ],
        [
         "28",
         "1.0",
         "2024.0",
         "Doanh thu khác",
         "23892796.0",
         "2024-01-31 00:00:00"
        ],
        [
         "29",
         "2.0",
         "2024.0",
         "Doanh thu khác",
         "0.0",
         "2024-02-29 00:00:00"
        ],
        [
         "30",
         "3.0",
         "2024.0",
         "Doanh thu khác",
         "-6042796.0",
         "2024-03-31 00:00:00"
        ],
        [
         "31",
         "4.0",
         "2024.0",
         "Doanh thu khác",
         "0.0",
         "2024-04-30 00:00:00"
        ],
        [
         "32",
         "5.0",
         "2024.0",
         "Doanh thu khác",
         "9475493.0",
         "2024-05-31 00:00:00"
        ],
        [
         "33",
         "6.0",
         "2024.0",
         "Doanh thu khác",
         "7407408.0",
         "2024-06-30 00:00:00"
        ],
        [
         "34",
         "7.0",
         "2024.0",
         "Doanh thu khác",
         "10000.0",
         "2024-07-31 00:00:00"
        ],
        [
         "35",
         "8.0",
         "2024.0",
         "Doanh thu khác",
         "60.0",
         "2024-08-31 00:00:00"
        ],
        [
         "36",
         "9.0",
         "2024.0",
         "Doanh thu khác",
         "12402.0",
         "2024-09-30 00:00:00"
        ],
        [
         "37",
         "10.0",
         "2024.0",
         "Doanh thu khác",
         "1388889.0",
         "2024-10-31 00:00:00"
        ],
        [
         "38",
         "11.0",
         "2024.0",
         "Doanh thu khác",
         "0.0",
         "2024-11-30 00:00:00"
        ],
        [
         "39",
         "12.0",
         "2024.0",
         "Doanh thu khác",
         "0.0",
         "2024-12-31 00:00:00"
        ],
        [
         "40",
         "1.0",
         "2025.0",
         "Doanh thu khác",
         "0.0",
         "2025-01-31 00:00:00"
        ],
        [
         "41",
         "2.0",
         "2025.0",
         "Doanh thu khác",
         "0.0",
         "2025-02-28 00:00:00"
        ],
        [
         "42",
         "1.0",
         "2024.0",
         "LỢI NHUẬN GỘP BÁN HÀNG",
         "44752166.69999999",
         "2024-01-31 00:00:00"
        ],
        [
         "43",
         "2.0",
         "2024.0",
         "LỢI NHUẬN GỘP BÁN HÀNG",
         "-14441701.0",
         "2024-02-29 00:00:00"
        ],
        [
         "44",
         "3.0",
         "2024.0",
         "LỢI NHUẬN GỘP BÁN HÀNG",
         "135720423.74600005",
         "2024-03-31 00:00:00"
        ],
        [
         "45",
         "4.0",
         "2024.0",
         "LỢI NHUẬN GỘP BÁN HÀNG",
         "5019847560.966784",
         "2024-04-30 00:00:00"
        ],
        [
         "46",
         "5.0",
         "2024.0",
         "LỢI NHUẬN GỘP BÁN HÀNG",
         "3666202775.9171953",
         "2024-05-31 00:00:00"
        ],
        [
         "47",
         "6.0",
         "2024.0",
         "LỢI NHUẬN GỘP BÁN HÀNG",
         "2625326653.389001",
         "2024-06-30 00:00:00"
        ],
        [
         "48",
         "7.0",
         "2024.0",
         "LỢI NHUẬN GỘP BÁN HÀNG",
         "982347614.9180002",
         "2024-07-31 00:00:00"
        ],
        [
         "49",
         "8.0",
         "2024.0",
         "LỢI NHUẬN GỘP BÁN HÀNG",
         "2490507963.3455",
         "2024-08-31 00:00:00"
        ]
       ],
       "shape": {
        "columns": 5,
        "rows": 588
       }
      },
      "text/html": [
       "<div>\n",
       "<style scoped>\n",
       "    .dataframe tbody tr th:only-of-type {\n",
       "        vertical-align: middle;\n",
       "    }\n",
       "\n",
       "    .dataframe tbody tr th {\n",
       "        vertical-align: top;\n",
       "    }\n",
       "\n",
       "    .dataframe thead th {\n",
       "        text-align: right;\n",
       "    }\n",
       "</style>\n",
       "<table border=\"1\" class=\"dataframe\">\n",
       "  <thead>\n",
       "    <tr style=\"text-align: right;\">\n",
       "      <th></th>\n",
       "      <th>month</th>\n",
       "      <th>year</th>\n",
       "      <th>project</th>\n",
       "      <th>fee</th>\n",
       "      <th>date</th>\n",
       "    </tr>\n",
       "  </thead>\n",
       "  <tbody>\n",
       "    <tr>\n",
       "      <th>0</th>\n",
       "      <td>1.0</td>\n",
       "      <td>2024.0</td>\n",
       "      <td>Thưởng nóng</td>\n",
       "      <td>13636363.0</td>\n",
       "      <td>2024-01-31</td>\n",
       "    </tr>\n",
       "    <tr>\n",
       "      <th>1</th>\n",
       "      <td>2.0</td>\n",
       "      <td>2024.0</td>\n",
       "      <td>Thưởng nóng</td>\n",
       "      <td>13636364.0</td>\n",
       "      <td>2024-02-29</td>\n",
       "    </tr>\n",
       "    <tr>\n",
       "      <th>2</th>\n",
       "      <td>3.0</td>\n",
       "      <td>2024.0</td>\n",
       "      <td>Thưởng nóng</td>\n",
       "      <td>0.0</td>\n",
       "      <td>2024-03-31</td>\n",
       "    </tr>\n",
       "    <tr>\n",
       "      <th>3</th>\n",
       "      <td>4.0</td>\n",
       "      <td>2024.0</td>\n",
       "      <td>Thưởng nóng</td>\n",
       "      <td>134268184.0</td>\n",
       "      <td>2024-04-30</td>\n",
       "    </tr>\n",
       "    <tr>\n",
       "      <th>4</th>\n",
       "      <td>5.0</td>\n",
       "      <td>2024.0</td>\n",
       "      <td>Thưởng nóng</td>\n",
       "      <td>281818184.0</td>\n",
       "      <td>2024-05-31</td>\n",
       "    </tr>\n",
       "    <tr>\n",
       "      <th>...</th>\n",
       "      <td>...</td>\n",
       "      <td>...</td>\n",
       "      <td>...</td>\n",
       "      <td>...</td>\n",
       "      <td>...</td>\n",
       "    </tr>\n",
       "    <tr>\n",
       "      <th>583</th>\n",
       "      <td>10.0</td>\n",
       "      <td>2024.0</td>\n",
       "      <td>LỢI NHUẬN THUẦN TRƯỚC THUẾ</td>\n",
       "      <td>4192056955.052195</td>\n",
       "      <td>2024-10-31</td>\n",
       "    </tr>\n",
       "    <tr>\n",
       "      <th>584</th>\n",
       "      <td>11.0</td>\n",
       "      <td>2024.0</td>\n",
       "      <td>LỢI NHUẬN THUẦN TRƯỚC THUẾ</td>\n",
       "      <td>-808822000.931995</td>\n",
       "      <td>2024-11-30</td>\n",
       "    </tr>\n",
       "    <tr>\n",
       "      <th>585</th>\n",
       "      <td>12.0</td>\n",
       "      <td>2024.0</td>\n",
       "      <td>LỢI NHUẬN THUẦN TRƯỚC THUẾ</td>\n",
       "      <td>1802909382.240199</td>\n",
       "      <td>2024-12-31</td>\n",
       "    </tr>\n",
       "    <tr>\n",
       "      <th>586</th>\n",
       "      <td>1.0</td>\n",
       "      <td>2025.0</td>\n",
       "      <td>LỢI NHUẬN THUẦN TRƯỚC THUẾ</td>\n",
       "      <td>-1408265097.3391</td>\n",
       "      <td>2025-01-31</td>\n",
       "    </tr>\n",
       "    <tr>\n",
       "      <th>587</th>\n",
       "      <td>2.0</td>\n",
       "      <td>2025.0</td>\n",
       "      <td>LỢI NHUẬN THUẦN TRƯỚC THUẾ</td>\n",
       "      <td>-695093794.9645</td>\n",
       "      <td>2025-02-28</td>\n",
       "    </tr>\n",
       "  </tbody>\n",
       "</table>\n",
       "<p>588 rows × 5 columns</p>\n",
       "</div>"
      ],
      "text/plain": [
       "    month    year                     project                fee       date\n",
       "0     1.0  2024.0                 Thưởng nóng         13636363.0 2024-01-31\n",
       "1     2.0  2024.0                 Thưởng nóng         13636364.0 2024-02-29\n",
       "2     3.0  2024.0                 Thưởng nóng                0.0 2024-03-31\n",
       "3     4.0  2024.0                 Thưởng nóng        134268184.0 2024-04-30\n",
       "4     5.0  2024.0                 Thưởng nóng        281818184.0 2024-05-31\n",
       "..    ...     ...                         ...                ...        ...\n",
       "583  10.0  2024.0  LỢI NHUẬN THUẦN TRƯỚC THUẾ  4192056955.052195 2024-10-31\n",
       "584  11.0  2024.0  LỢI NHUẬN THUẦN TRƯỚC THUẾ  -808822000.931995 2024-11-30\n",
       "585  12.0  2024.0  LỢI NHUẬN THUẦN TRƯỚC THUẾ  1802909382.240199 2024-12-31\n",
       "586   1.0  2025.0  LỢI NHUẬN THUẦN TRƯỚC THUẾ   -1408265097.3391 2025-01-31\n",
       "587   2.0  2025.0  LỢI NHUẬN THUẦN TRƯỚC THUẾ    -695093794.9645 2025-02-28\n",
       "\n",
       "[588 rows x 5 columns]"
      ]
     },
     "execution_count": 81,
     "metadata": {},
     "output_type": "execute_result"
    }
   ],
   "source": [
    "fee_df"
   ]
  },
  {
   "cell_type": "code",
   "execution_count": null,
   "id": "6cb8dc43",
   "metadata": {},
   "outputs": [],
   "source": [
    "ebt_df = pd.DataFrame(\n",
    "    fee_df.assign(\n",
    "        year = lambda x: x['year'].astype(int),\n",
    "        month = lambda x: x['month'].astype(int)\n",
    "    ).loc[fee_df[\"project\"] == \"LỢI NHUẬN THUẦN TRƯỚC THUẾ\"].groupby([\"year\",\"month\"])[\"fee\"].sum()\n",
    ")"
   ]
  },
  {
   "cell_type": "code",
   "execution_count": 82,
   "id": "07a56f80",
   "metadata": {},
   "outputs": [
    {
     "data": {
      "application/vnd.microsoft.datawrangler.viewer.v0+json": {
       "columns": [
        {
         "name": "('year', 'month')",
         "rawType": "object",
         "type": "unknown"
        },
        {
         "name": "fee",
         "rawType": "object",
         "type": "unknown"
        }
       ],
       "conversionMethod": "pd.DataFrame",
       "ref": "5c3830d5-e867-49e4-affe-7498d0454d5a",
       "rows": [
        [
         "(2024, 1)",
         "-1132402517.3"
        ],
        [
         "(2024, 2)",
         "-1124175435.0"
        ],
        [
         "(2024, 3)",
         "-855802192.254"
        ],
        [
         "(2024, 4)",
         "3966868080.9667835"
        ],
        [
         "(2024, 5)",
         "2413069837.9171953"
        ],
        [
         "(2024, 6)",
         "1105942256.389001"
        ],
        [
         "(2024, 7)",
         "-723381847.0819998"
        ],
        [
         "(2024, 8)",
         "472091725.3455"
        ],
        [
         "(2024, 9)",
         "1426895831.1392488"
        ],
        [
         "(2024, 10)",
         "4192056955.0521946"
        ],
        [
         "(2024, 11)",
         "-808822000.9319949"
        ],
        [
         "(2024, 12)",
         "1802909382.240199"
        ],
        [
         "(2025, 1)",
         "-1408265097.3391"
        ],
        [
         "(2025, 2)",
         "-695093794.9644998"
        ]
       ],
       "shape": {
        "columns": 1,
        "rows": 14
       }
      },
      "text/html": [
       "<div>\n",
       "<style scoped>\n",
       "    .dataframe tbody tr th:only-of-type {\n",
       "        vertical-align: middle;\n",
       "    }\n",
       "\n",
       "    .dataframe tbody tr th {\n",
       "        vertical-align: top;\n",
       "    }\n",
       "\n",
       "    .dataframe thead th {\n",
       "        text-align: right;\n",
       "    }\n",
       "</style>\n",
       "<table border=\"1\" class=\"dataframe\">\n",
       "  <thead>\n",
       "    <tr style=\"text-align: right;\">\n",
       "      <th></th>\n",
       "      <th></th>\n",
       "      <th>fee</th>\n",
       "    </tr>\n",
       "    <tr>\n",
       "      <th>year</th>\n",
       "      <th>month</th>\n",
       "      <th></th>\n",
       "    </tr>\n",
       "  </thead>\n",
       "  <tbody>\n",
       "    <tr>\n",
       "      <th rowspan=\"12\" valign=\"top\">2024</th>\n",
       "      <th>1</th>\n",
       "      <td>-1132402517.3</td>\n",
       "    </tr>\n",
       "    <tr>\n",
       "      <th>2</th>\n",
       "      <td>-1124175435.0</td>\n",
       "    </tr>\n",
       "    <tr>\n",
       "      <th>3</th>\n",
       "      <td>-855802192.254</td>\n",
       "    </tr>\n",
       "    <tr>\n",
       "      <th>4</th>\n",
       "      <td>3966868080.966784</td>\n",
       "    </tr>\n",
       "    <tr>\n",
       "      <th>5</th>\n",
       "      <td>2413069837.917195</td>\n",
       "    </tr>\n",
       "    <tr>\n",
       "      <th>6</th>\n",
       "      <td>1105942256.389001</td>\n",
       "    </tr>\n",
       "    <tr>\n",
       "      <th>7</th>\n",
       "      <td>-723381847.082</td>\n",
       "    </tr>\n",
       "    <tr>\n",
       "      <th>8</th>\n",
       "      <td>472091725.3455</td>\n",
       "    </tr>\n",
       "    <tr>\n",
       "      <th>9</th>\n",
       "      <td>1426895831.139249</td>\n",
       "    </tr>\n",
       "    <tr>\n",
       "      <th>10</th>\n",
       "      <td>4192056955.052195</td>\n",
       "    </tr>\n",
       "    <tr>\n",
       "      <th>11</th>\n",
       "      <td>-808822000.931995</td>\n",
       "    </tr>\n",
       "    <tr>\n",
       "      <th>12</th>\n",
       "      <td>1802909382.240199</td>\n",
       "    </tr>\n",
       "    <tr>\n",
       "      <th rowspan=\"2\" valign=\"top\">2025</th>\n",
       "      <th>1</th>\n",
       "      <td>-1408265097.3391</td>\n",
       "    </tr>\n",
       "    <tr>\n",
       "      <th>2</th>\n",
       "      <td>-695093794.9645</td>\n",
       "    </tr>\n",
       "  </tbody>\n",
       "</table>\n",
       "</div>"
      ],
      "text/plain": [
       "                          fee\n",
       "year month                   \n",
       "2024 1          -1132402517.3\n",
       "     2          -1124175435.0\n",
       "     3         -855802192.254\n",
       "     4      3966868080.966784\n",
       "     5      2413069837.917195\n",
       "     6      1105942256.389001\n",
       "     7         -723381847.082\n",
       "     8         472091725.3455\n",
       "     9      1426895831.139249\n",
       "     10     4192056955.052195\n",
       "     11     -808822000.931995\n",
       "     12     1802909382.240199\n",
       "2025 1       -1408265097.3391\n",
       "     2        -695093794.9645"
      ]
     },
     "execution_count": 82,
     "metadata": {},
     "output_type": "execute_result"
    }
   ],
   "source": [
    "ebt_df"
   ]
  }
 ],
 "metadata": {
  "kernelspec": {
   "display_name": "ds",
   "language": "python",
   "name": "python3"
  },
  "language_info": {
   "codemirror_mode": {
    "name": "ipython",
    "version": 3
   },
   "file_extension": ".py",
   "mimetype": "text/x-python",
   "name": "python",
   "nbconvert_exporter": "python",
   "pygments_lexer": "ipython3",
   "version": "3.9.20"
  }
 },
 "nbformat": 4,
 "nbformat_minor": 5
}

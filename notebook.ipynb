{
 "cells": [
  {
   "cell_type": "code",
   "execution_count": 1,
   "id": "7483ae38",
   "metadata": {},
   "outputs": [],
   "source": [
    "import pandas as pd\n",
    "import matplotlib.pyplot as plt\n",
    "from pandas.tseries.offsets import MonthEnd\n",
    "import plotly.express as px\n",
    "import numpy as np"
   ]
  },
  {
   "cell_type": "markdown",
   "id": "7ba93d97",
   "metadata": {},
   "source": [
    "Dữ liệu ban đầu được chia thành các sheet khác nhau để dễ xử lý: \"revenue\", \"cogs\" và \"fee\""
   ]
  },
  {
   "cell_type": "code",
   "execution_count": 2,
   "id": "83042c64",
   "metadata": {},
   "outputs": [],
   "source": [
    "def readData(sheetName=\"\", valueName=\"\"):\n",
    "    data = pd.read_excel(\"reti_data.xlsx\", sheet_name=sheetName, header=None).transpose()\n",
    "    data.columns = data.iloc[0]\n",
    "    data = data[1:]\n",
    "    df = pd.melt(\n",
    "        data,\n",
    "        id_vars=['Tháng',\"Năm\"],\n",
    "        value_vars=data.columns[2:],\n",
    "        var_name=\"project\",\n",
    "        value_name=valueName\n",
    "    ).rename(columns={\n",
    "        \"Tháng\":\"month\",\n",
    "        \"Năm\":\"year\"\n",
    "    }).assign(\n",
    "        date=lambda x: x['month'].astype(int).astype(str) + '/' + x['year'].astype(int).astype(str)\n",
    "    ).assign(\n",
    "        date = lambda x: pd.to_datetime(x['date'], format=\"%m/%Y\") + MonthEnd(0)\n",
    "    )\n",
    "    return df"
   ]
  },
  {
   "cell_type": "code",
   "execution_count": null,
   "id": "8e662ab5",
   "metadata": {},
   "outputs": [],
   "source": [
    "rev_df = readData('revenue', 'revenue')\n",
    "cogs_df = readData('cogs', 'cogs')\n",
    "rev_df[\"project\"] = rev_df[\"project\"].replace(\"DOANH THU\", \"total\")\n",
    "cogs_df[\"project\"] = cogs_df[\"project\"].replace(\"GIÁ VỐN HÀNG BÁN\", \"total\")"
   ]
  },
  {
   "cell_type": "code",
   "execution_count": 14,
   "id": "2ea56046",
   "metadata": {},
   "outputs": [
    {
     "name": "stderr",
     "output_type": "stream",
     "text": [
      "C:\\Users\\ADMIN\\AppData\\Local\\Temp\\ipykernel_11124\\1053591871.py:2: FutureWarning: Downcasting behavior in `replace` is deprecated and will be removed in a future version. To retain the old behavior, explicitly call `result.infer_objects(copy=False)`. To opt-in to the future behavior, set `pd.set_option('future.no_silent_downcasting', True)`\n",
      "  CoR = lambda x: x[\"cogs\"] / x[\"revenue\"].replace(0, np.nan)\n"
     ]
    },
    {
     "data": {
      "application/vnd.microsoft.datawrangler.viewer.v0+json": {
       "columns": [
        {
         "name": "index",
         "rawType": "int64",
         "type": "integer"
        },
        {
         "name": "month",
         "rawType": "object",
         "type": "unknown"
        },
        {
         "name": "year",
         "rawType": "object",
         "type": "unknown"
        },
        {
         "name": "project",
         "rawType": "object",
         "type": "string"
        },
        {
         "name": "revenue",
         "rawType": "object",
         "type": "unknown"
        },
        {
         "name": "date",
         "rawType": "datetime64[ns]",
         "type": "datetime"
        },
        {
         "name": "cogs",
         "rawType": "object",
         "type": "unknown"
        },
        {
         "name": "CoR",
         "rawType": "object",
         "type": "unknown"
        }
       ],
       "conversionMethod": "pd.DataFrame",
       "ref": "cbe01380-de41-4cac-a7e7-6e300e334b74",
       "rows": [
        [
         "0",
         "1.0",
         "2024.0",
         "Doanh thu cho thuê HCM",
         "89091345.0",
         "2024-01-31 00:00:00",
         null,
         null
        ],
        [
         "1",
         "2.0",
         "2024.0",
         "Doanh thu cho thuê HCM",
         "88749053.0",
         "2024-02-29 00:00:00",
         null,
         null
        ],
        [
         "2",
         "3.0",
         "2024.0",
         "Doanh thu cho thuê HCM",
         "5292206.0",
         "2024-03-31 00:00:00",
         null,
         null
        ],
        [
         "3",
         "4.0",
         "2024.0",
         "Doanh thu cho thuê HCM",
         "0.0",
         "2024-04-30 00:00:00",
         null,
         null
        ],
        [
         "4",
         "5.0",
         "2024.0",
         "Doanh thu cho thuê HCM",
         "0.0",
         "2024-05-31 00:00:00",
         null,
         null
        ],
        [
         "5",
         "6.0",
         "2024.0",
         "Doanh thu cho thuê HCM",
         "0.0",
         "2024-06-30 00:00:00",
         null,
         null
        ],
        [
         "6",
         "7.0",
         "2024.0",
         "Doanh thu cho thuê HCM",
         "0.0",
         "2024-07-31 00:00:00",
         null,
         null
        ],
        [
         "7",
         "8.0",
         "2024.0",
         "Doanh thu cho thuê HCM",
         "0.0",
         "2024-08-31 00:00:00",
         null,
         null
        ],
        [
         "8",
         "9.0",
         "2024.0",
         "Doanh thu cho thuê HCM",
         "0.0",
         "2024-09-30 00:00:00",
         null,
         null
        ],
        [
         "9",
         "10.0",
         "2024.0",
         "Doanh thu cho thuê HCM",
         null,
         "2024-10-31 00:00:00",
         null,
         null
        ],
        [
         "10",
         "11.0",
         "2024.0",
         "Doanh thu cho thuê HCM",
         null,
         "2024-11-30 00:00:00",
         null,
         null
        ],
        [
         "11",
         "12.0",
         "2024.0",
         "Doanh thu cho thuê HCM",
         null,
         "2024-12-31 00:00:00",
         null,
         null
        ],
        [
         "12",
         "1.0",
         "2025.0",
         "Doanh thu cho thuê HCM",
         "0.0",
         "2025-01-31 00:00:00",
         null,
         null
        ],
        [
         "13",
         "2.0",
         "2025.0",
         "Doanh thu cho thuê HCM",
         "0.0",
         "2025-02-28 00:00:00",
         null,
         null
        ],
        [
         "14",
         "1.0",
         "2024.0",
         "Doanh thu khác",
         null,
         "2024-01-31 00:00:00",
         "23892796.0",
         null
        ],
        [
         "15",
         "2.0",
         "2024.0",
         "Doanh thu khác",
         null,
         "2024-02-29 00:00:00",
         "0.0",
         null
        ],
        [
         "16",
         "3.0",
         "2024.0",
         "Doanh thu khác",
         null,
         "2024-03-31 00:00:00",
         "-6042796.0",
         null
        ],
        [
         "17",
         "4.0",
         "2024.0",
         "Doanh thu khác",
         null,
         "2024-04-30 00:00:00",
         "0.0",
         null
        ],
        [
         "18",
         "5.0",
         "2024.0",
         "Doanh thu khác",
         null,
         "2024-05-31 00:00:00",
         "9475493.0",
         null
        ],
        [
         "19",
         "6.0",
         "2024.0",
         "Doanh thu khác",
         null,
         "2024-06-30 00:00:00",
         "7407408.0",
         null
        ],
        [
         "20",
         "7.0",
         "2024.0",
         "Doanh thu khác",
         null,
         "2024-07-31 00:00:00",
         "10000.0",
         null
        ],
        [
         "21",
         "8.0",
         "2024.0",
         "Doanh thu khác",
         null,
         "2024-08-31 00:00:00",
         "60.0",
         null
        ],
        [
         "22",
         "9.0",
         "2024.0",
         "Doanh thu khác",
         null,
         "2024-09-30 00:00:00",
         "12402.0",
         null
        ],
        [
         "23",
         "10.0",
         "2024.0",
         "Doanh thu khác",
         null,
         "2024-10-31 00:00:00",
         "1388889.0",
         null
        ],
        [
         "24",
         "11.0",
         "2024.0",
         "Doanh thu khác",
         null,
         "2024-11-30 00:00:00",
         "0.0",
         null
        ],
        [
         "25",
         "12.0",
         "2024.0",
         "Doanh thu khác",
         null,
         "2024-12-31 00:00:00",
         "0.0",
         null
        ],
        [
         "26",
         "1.0",
         "2025.0",
         "Doanh thu khác",
         null,
         "2025-01-31 00:00:00",
         "0.0",
         null
        ],
        [
         "27",
         "2.0",
         "2025.0",
         "Doanh thu khác",
         null,
         "2025-02-28 00:00:00",
         "0.0",
         null
        ],
        [
         "28",
         "1.0",
         "2024.0",
         "FPT 3",
         null,
         "2024-01-31 00:00:00",
         "0.0",
         null
        ],
        [
         "29",
         "2.0",
         "2024.0",
         "FPT 3",
         null,
         "2024-02-29 00:00:00",
         "0.0",
         null
        ],
        [
         "30",
         "3.0",
         "2024.0",
         "FPT 3",
         "0.0",
         "2024-03-31 00:00:00",
         "0.0",
         null
        ],
        [
         "31",
         "4.0",
         "2024.0",
         "FPT 3",
         "0.0",
         "2024-04-30 00:00:00",
         "0.0",
         null
        ],
        [
         "32",
         "5.0",
         "2024.0",
         "FPT 3",
         "0.0",
         "2024-05-31 00:00:00",
         "0.0",
         null
        ],
        [
         "33",
         "6.0",
         "2024.0",
         "FPT 3",
         "0.0",
         "2024-06-30 00:00:00",
         "0.0",
         null
        ],
        [
         "34",
         "7.0",
         "2024.0",
         "FPT 3",
         "0.0",
         "2024-07-31 00:00:00",
         "0.0",
         null
        ],
        [
         "35",
         "8.0",
         "2024.0",
         "FPT 3",
         "0.0",
         "2024-08-31 00:00:00",
         "0.0",
         null
        ],
        [
         "36",
         "9.0",
         "2024.0",
         "FPT 3",
         "0.0",
         "2024-09-30 00:00:00",
         "0.0",
         null
        ],
        [
         "37",
         "10.0",
         "2024.0",
         "FPT 3",
         "0.0",
         "2024-10-31 00:00:00",
         "0.0",
         null
        ],
        [
         "38",
         "11.0",
         "2024.0",
         "FPT 3",
         "142810050.0",
         "2024-11-30 00:00:00",
         "61884355.0",
         "0.43333333333333335"
        ],
        [
         "39",
         "12.0",
         "2024.0",
         "FPT 3",
         "0.0",
         "2024-12-31 00:00:00",
         "0.0",
         null
        ],
        [
         "40",
         "1.0",
         "2025.0",
         "FPT 3",
         "0.0",
         "2025-01-31 00:00:00",
         "0.0",
         null
        ],
        [
         "41",
         "2.0",
         "2025.0",
         "FPT 3",
         "0.0",
         "2025-02-28 00:00:00",
         "0.0",
         null
        ],
        [
         "42",
         "1.0",
         "2024.0",
         "FPT Plaza 2",
         "57411900.0",
         "2024-01-31 00:00:00",
         "28705950.0",
         "0.5"
        ],
        [
         "43",
         "1.0",
         "2024.0",
         "FPT Plaza 2",
         "57411900.0",
         "2024-01-31 00:00:00",
         "40188330.0",
         "0.7"
        ],
        [
         "44",
         "2.0",
         "2024.0",
         "FPT Plaza 2",
         null,
         "2024-02-29 00:00:00",
         "0.0",
         null
        ],
        [
         "45",
         "2.0",
         "2024.0",
         "FPT Plaza 2",
         null,
         "2024-02-29 00:00:00",
         "0.0",
         null
        ],
        [
         "46",
         "3.0",
         "2024.0",
         "FPT Plaza 2",
         "0.0",
         "2024-03-31 00:00:00",
         "0.0",
         null
        ],
        [
         "47",
         "3.0",
         "2024.0",
         "FPT Plaza 2",
         "0.0",
         "2024-03-31 00:00:00",
         "0.0",
         null
        ],
        [
         "48",
         "4.0",
         "2024.0",
         "FPT Plaza 2",
         "0.0",
         "2024-04-30 00:00:00",
         "0.0",
         null
        ],
        [
         "49",
         "4.0",
         "2024.0",
         "FPT Plaza 2",
         "0.0",
         "2024-04-30 00:00:00",
         "0.0",
         null
        ]
       ],
       "shape": {
        "columns": 7,
        "rows": 490
       }
      },
      "text/html": [
       "<div>\n",
       "<style scoped>\n",
       "    .dataframe tbody tr th:only-of-type {\n",
       "        vertical-align: middle;\n",
       "    }\n",
       "\n",
       "    .dataframe tbody tr th {\n",
       "        vertical-align: top;\n",
       "    }\n",
       "\n",
       "    .dataframe thead th {\n",
       "        text-align: right;\n",
       "    }\n",
       "</style>\n",
       "<table border=\"1\" class=\"dataframe\">\n",
       "  <thead>\n",
       "    <tr style=\"text-align: right;\">\n",
       "      <th></th>\n",
       "      <th>month</th>\n",
       "      <th>year</th>\n",
       "      <th>project</th>\n",
       "      <th>revenue</th>\n",
       "      <th>date</th>\n",
       "      <th>cogs</th>\n",
       "      <th>CoR</th>\n",
       "    </tr>\n",
       "  </thead>\n",
       "  <tbody>\n",
       "    <tr>\n",
       "      <th>0</th>\n",
       "      <td>1.0</td>\n",
       "      <td>2024.0</td>\n",
       "      <td>Doanh thu cho thuê HCM</td>\n",
       "      <td>89091345.0</td>\n",
       "      <td>2024-01-31</td>\n",
       "      <td>NaN</td>\n",
       "      <td>NaN</td>\n",
       "    </tr>\n",
       "    <tr>\n",
       "      <th>1</th>\n",
       "      <td>2.0</td>\n",
       "      <td>2024.0</td>\n",
       "      <td>Doanh thu cho thuê HCM</td>\n",
       "      <td>88749053.0</td>\n",
       "      <td>2024-02-29</td>\n",
       "      <td>NaN</td>\n",
       "      <td>NaN</td>\n",
       "    </tr>\n",
       "    <tr>\n",
       "      <th>2</th>\n",
       "      <td>3.0</td>\n",
       "      <td>2024.0</td>\n",
       "      <td>Doanh thu cho thuê HCM</td>\n",
       "      <td>5292206.0</td>\n",
       "      <td>2024-03-31</td>\n",
       "      <td>NaN</td>\n",
       "      <td>NaN</td>\n",
       "    </tr>\n",
       "    <tr>\n",
       "      <th>3</th>\n",
       "      <td>4.0</td>\n",
       "      <td>2024.0</td>\n",
       "      <td>Doanh thu cho thuê HCM</td>\n",
       "      <td>0.0</td>\n",
       "      <td>2024-04-30</td>\n",
       "      <td>NaN</td>\n",
       "      <td>NaN</td>\n",
       "    </tr>\n",
       "    <tr>\n",
       "      <th>4</th>\n",
       "      <td>5.0</td>\n",
       "      <td>2024.0</td>\n",
       "      <td>Doanh thu cho thuê HCM</td>\n",
       "      <td>0.0</td>\n",
       "      <td>2024-05-31</td>\n",
       "      <td>NaN</td>\n",
       "      <td>NaN</td>\n",
       "    </tr>\n",
       "    <tr>\n",
       "      <th>...</th>\n",
       "      <td>...</td>\n",
       "      <td>...</td>\n",
       "      <td>...</td>\n",
       "      <td>...</td>\n",
       "      <td>...</td>\n",
       "      <td>...</td>\n",
       "      <td>...</td>\n",
       "    </tr>\n",
       "    <tr>\n",
       "      <th>485</th>\n",
       "      <td>10.0</td>\n",
       "      <td>2024.0</td>\n",
       "      <td>total</td>\n",
       "      <td>16667480507.249197</td>\n",
       "      <td>2024-10-31</td>\n",
       "      <td>10742338881.197002</td>\n",
       "      <td>0.644509</td>\n",
       "    </tr>\n",
       "    <tr>\n",
       "      <th>486</th>\n",
       "      <td>11.0</td>\n",
       "      <td>2024.0</td>\n",
       "      <td>total</td>\n",
       "      <td>4107057676.366505</td>\n",
       "      <td>2024-11-30</td>\n",
       "      <td>2798482521.2985</td>\n",
       "      <td>0.681384</td>\n",
       "    </tr>\n",
       "    <tr>\n",
       "      <th>487</th>\n",
       "      <td>12.0</td>\n",
       "      <td>2024.0</td>\n",
       "      <td>total</td>\n",
       "      <td>10902849307.128</td>\n",
       "      <td>2024-12-31</td>\n",
       "      <td>5967661498.887801</td>\n",
       "      <td>0.547349</td>\n",
       "    </tr>\n",
       "    <tr>\n",
       "      <th>488</th>\n",
       "      <td>1.0</td>\n",
       "      <td>2025.0</td>\n",
       "      <td>total</td>\n",
       "      <td>683449920.203</td>\n",
       "      <td>2025-01-31</td>\n",
       "      <td>427551308.5421</td>\n",
       "      <td>0.625578</td>\n",
       "    </tr>\n",
       "    <tr>\n",
       "      <th>489</th>\n",
       "      <td>2.0</td>\n",
       "      <td>2025.0</td>\n",
       "      <td>total</td>\n",
       "      <td>1382445966.785</td>\n",
       "      <td>2025-02-28</td>\n",
       "      <td>969712176.7495</td>\n",
       "      <td>0.701447</td>\n",
       "    </tr>\n",
       "  </tbody>\n",
       "</table>\n",
       "<p>490 rows × 7 columns</p>\n",
       "</div>"
      ],
      "text/plain": [
       "    month    year                 project             revenue       date  \\\n",
       "0     1.0  2024.0  Doanh thu cho thuê HCM          89091345.0 2024-01-31   \n",
       "1     2.0  2024.0  Doanh thu cho thuê HCM          88749053.0 2024-02-29   \n",
       "2     3.0  2024.0  Doanh thu cho thuê HCM           5292206.0 2024-03-31   \n",
       "3     4.0  2024.0  Doanh thu cho thuê HCM                 0.0 2024-04-30   \n",
       "4     5.0  2024.0  Doanh thu cho thuê HCM                 0.0 2024-05-31   \n",
       "..    ...     ...                     ...                 ...        ...   \n",
       "485  10.0  2024.0                   total  16667480507.249197 2024-10-31   \n",
       "486  11.0  2024.0                   total   4107057676.366505 2024-11-30   \n",
       "487  12.0  2024.0                   total     10902849307.128 2024-12-31   \n",
       "488   1.0  2025.0                   total       683449920.203 2025-01-31   \n",
       "489   2.0  2025.0                   total      1382445966.785 2025-02-28   \n",
       "\n",
       "                   cogs       CoR  \n",
       "0                   NaN       NaN  \n",
       "1                   NaN       NaN  \n",
       "2                   NaN       NaN  \n",
       "3                   NaN       NaN  \n",
       "4                   NaN       NaN  \n",
       "..                  ...       ...  \n",
       "485  10742338881.197002  0.644509  \n",
       "486     2798482521.2985  0.681384  \n",
       "487   5967661498.887801  0.547349  \n",
       "488      427551308.5421  0.625578  \n",
       "489      969712176.7495  0.701447  \n",
       "\n",
       "[490 rows x 7 columns]"
      ]
     },
     "execution_count": 14,
     "metadata": {},
     "output_type": "execute_result"
    }
   ],
   "source": [
    "pd.merge(rev_df, cogs_df, how='outer', on=[\"project\", \"date\", \"year\", \"month\"]).assign(\n",
    "    CoR = lambda x: x[\"cogs\"] / x[\"revenue\"].replace(0, np.nan)\n",
    ")"
   ]
  },
  {
   "cell_type": "code",
   "execution_count": null,
   "id": "9e04b52a",
   "metadata": {},
   "outputs": [],
   "source": []
  },
  {
   "cell_type": "code",
   "execution_count": null,
   "id": "ef03d8d4",
   "metadata": {},
   "outputs": [
    {
     "name": "stderr",
     "output_type": "stream",
     "text": [
      "C:\\Users\\ADMIN\\AppData\\Local\\Temp\\ipykernel_10760\\63151610.py:2: FutureWarning:\n",
      "\n",
      "Downcasting behavior in `replace` is deprecated and will be removed in a future version. To retain the old behavior, explicitly call `result.infer_objects(copy=False)`. To opt-in to the future behavior, set `pd.set_option('future.no_silent_downcasting', True)`\n",
      "\n"
     ]
    },
    {
     "data": {
      "application/vnd.microsoft.datawrangler.viewer.v0+json": {
       "columns": [
        {
         "name": "index",
         "rawType": "int64",
         "type": "integer"
        },
        {
         "name": "month",
         "rawType": "object",
         "type": "unknown"
        },
        {
         "name": "year",
         "rawType": "object",
         "type": "unknown"
        },
        {
         "name": "project",
         "rawType": "object",
         "type": "string"
        },
        {
         "name": "revenue",
         "rawType": "object",
         "type": "unknown"
        },
        {
         "name": "date",
         "rawType": "datetime64[ns]",
         "type": "datetime"
        },
        {
         "name": "cogs",
         "rawType": "object",
         "type": "unknown"
        },
        {
         "name": "CoR",
         "rawType": "object",
         "type": "unknown"
        }
       ],
       "conversionMethod": "pd.DataFrame",
       "ref": "653d220a-7f47-43fd-a030-2f8b8439c706",
       "rows": [
        [
         "0",
         "1.0",
         "2024.0",
         "DOANH THU",
         "333406148.0",
         "2024-01-31 00:00:00",
         null,
         null
        ],
        [
         "1",
         "1.0",
         "2025.0",
         "DOANH THU",
         "683449920.203",
         "2025-01-31 00:00:00",
         null,
         null
        ],
        [
         "2",
         "2.0",
         "2024.0",
         "DOANH THU",
         "88749053.0",
         "2024-02-29 00:00:00",
         null,
         null
        ],
        [
         "3",
         "2.0",
         "2025.0",
         "DOANH THU",
         "1382445966.785",
         "2025-02-28 00:00:00",
         null,
         null
        ],
        [
         "4",
         "3.0",
         "2024.0",
         "DOANH THU",
         "325324554.15400004",
         "2024-03-31 00:00:00",
         null,
         null
        ],
        [
         "5",
         "4.0",
         "2024.0",
         "DOANH THU",
         "11125519157.978199",
         "2024-04-30 00:00:00",
         null,
         null
        ],
        [
         "6",
         "5.0",
         "2024.0",
         "DOANH THU",
         "8480957529.1652",
         "2024-05-31 00:00:00",
         null,
         null
        ],
        [
         "7",
         "6.0",
         "2024.0",
         "DOANH THU",
         "7009143922.650002",
         "2024-06-30 00:00:00",
         null,
         null
        ],
        [
         "8",
         "7.0",
         "2024.0",
         "DOANH THU",
         "3752681701.8",
         "2024-07-31 00:00:00",
         null,
         null
        ],
        [
         "9",
         "8.0",
         "2024.0",
         "DOANH THU",
         "5511126127.71",
         "2024-08-31 00:00:00",
         null,
         null
        ],
        [
         "10",
         "9.0",
         "2024.0",
         "DOANH THU",
         "9923808838.904999",
         "2024-09-30 00:00:00",
         null,
         null
        ],
        [
         "11",
         "10.0",
         "2024.0",
         "DOANH THU",
         "16667480507.249197",
         "2024-10-31 00:00:00",
         null,
         null
        ],
        [
         "12",
         "11.0",
         "2024.0",
         "DOANH THU",
         "4107057676.366505",
         "2024-11-30 00:00:00",
         null,
         null
        ],
        [
         "13",
         "12.0",
         "2024.0",
         "DOANH THU",
         "10902849307.128",
         "2024-12-31 00:00:00",
         null,
         null
        ],
        [
         "14",
         "1.0",
         "2024.0",
         "Doanh thu cho thuê HCM",
         "89091345.0",
         "2024-01-31 00:00:00",
         null,
         null
        ],
        [
         "15",
         "1.0",
         "2025.0",
         "Doanh thu cho thuê HCM",
         "0.0",
         "2025-01-31 00:00:00",
         null,
         null
        ],
        [
         "16",
         "2.0",
         "2024.0",
         "Doanh thu cho thuê HCM",
         "88749053.0",
         "2024-02-29 00:00:00",
         null,
         null
        ],
        [
         "17",
         "2.0",
         "2025.0",
         "Doanh thu cho thuê HCM",
         "0.0",
         "2025-02-28 00:00:00",
         null,
         null
        ],
        [
         "18",
         "3.0",
         "2024.0",
         "Doanh thu cho thuê HCM",
         "5292206.0",
         "2024-03-31 00:00:00",
         null,
         null
        ],
        [
         "19",
         "4.0",
         "2024.0",
         "Doanh thu cho thuê HCM",
         "0.0",
         "2024-04-30 00:00:00",
         null,
         null
        ],
        [
         "20",
         "5.0",
         "2024.0",
         "Doanh thu cho thuê HCM",
         "0.0",
         "2024-05-31 00:00:00",
         null,
         null
        ],
        [
         "21",
         "6.0",
         "2024.0",
         "Doanh thu cho thuê HCM",
         "0.0",
         "2024-06-30 00:00:00",
         null,
         null
        ],
        [
         "22",
         "7.0",
         "2024.0",
         "Doanh thu cho thuê HCM",
         "0.0",
         "2024-07-31 00:00:00",
         null,
         null
        ],
        [
         "23",
         "8.0",
         "2024.0",
         "Doanh thu cho thuê HCM",
         "0.0",
         "2024-08-31 00:00:00",
         null,
         null
        ],
        [
         "24",
         "9.0",
         "2024.0",
         "Doanh thu cho thuê HCM",
         "0.0",
         "2024-09-30 00:00:00",
         null,
         null
        ],
        [
         "25",
         "10.0",
         "2024.0",
         "Doanh thu cho thuê HCM",
         null,
         "2024-10-31 00:00:00",
         null,
         null
        ],
        [
         "26",
         "11.0",
         "2024.0",
         "Doanh thu cho thuê HCM",
         null,
         "2024-11-30 00:00:00",
         null,
         null
        ],
        [
         "27",
         "12.0",
         "2024.0",
         "Doanh thu cho thuê HCM",
         null,
         "2024-12-31 00:00:00",
         null,
         null
        ],
        [
         "28",
         "1.0",
         "2024.0",
         "FPT 3",
         null,
         "2024-01-31 00:00:00",
         "0.0",
         null
        ],
        [
         "29",
         "1.0",
         "2025.0",
         "FPT 3",
         "0.0",
         "2025-01-31 00:00:00",
         "0.0",
         null
        ],
        [
         "30",
         "2.0",
         "2024.0",
         "FPT 3",
         null,
         "2024-02-29 00:00:00",
         "0.0",
         null
        ],
        [
         "31",
         "2.0",
         "2025.0",
         "FPT 3",
         "0.0",
         "2025-02-28 00:00:00",
         "0.0",
         null
        ],
        [
         "32",
         "3.0",
         "2024.0",
         "FPT 3",
         "0.0",
         "2024-03-31 00:00:00",
         "0.0",
         null
        ],
        [
         "33",
         "4.0",
         "2024.0",
         "FPT 3",
         "0.0",
         "2024-04-30 00:00:00",
         "0.0",
         null
        ],
        [
         "34",
         "5.0",
         "2024.0",
         "FPT 3",
         "0.0",
         "2024-05-31 00:00:00",
         "0.0",
         null
        ],
        [
         "35",
         "6.0",
         "2024.0",
         "FPT 3",
         "0.0",
         "2024-06-30 00:00:00",
         "0.0",
         null
        ],
        [
         "36",
         "7.0",
         "2024.0",
         "FPT 3",
         "0.0",
         "2024-07-31 00:00:00",
         "0.0",
         null
        ],
        [
         "37",
         "8.0",
         "2024.0",
         "FPT 3",
         "0.0",
         "2024-08-31 00:00:00",
         "0.0",
         null
        ],
        [
         "38",
         "9.0",
         "2024.0",
         "FPT 3",
         "0.0",
         "2024-09-30 00:00:00",
         "0.0",
         null
        ],
        [
         "39",
         "10.0",
         "2024.0",
         "FPT 3",
         "0.0",
         "2024-10-31 00:00:00",
         "0.0",
         null
        ],
        [
         "40",
         "11.0",
         "2024.0",
         "FPT 3",
         "142810050.0",
         "2024-11-30 00:00:00",
         "61884355.0",
         "0.43333333333333335"
        ],
        [
         "41",
         "12.0",
         "2024.0",
         "FPT 3",
         "0.0",
         "2024-12-31 00:00:00",
         "0.0",
         null
        ],
        [
         "42",
         "1.0",
         "2024.0",
         "FPT Plaza 2",
         "57411900.0",
         "2024-01-31 00:00:00",
         "28705950.0",
         "0.5"
        ],
        [
         "43",
         "1.0",
         "2024.0",
         "FPT Plaza 2",
         "57411900.0",
         "2024-01-31 00:00:00",
         "40188330.0",
         "0.7"
        ],
        [
         "44",
         "1.0",
         "2025.0",
         "FPT Plaza 2",
         "0.0",
         "2025-01-31 00:00:00",
         null,
         null
        ],
        [
         "45",
         "1.0",
         "2025.0",
         "FPT Plaza 2",
         "0.0",
         "2025-01-31 00:00:00",
         "0.0",
         null
        ],
        [
         "46",
         "2.0",
         "2024.0",
         "FPT Plaza 2",
         null,
         "2024-02-29 00:00:00",
         "0.0",
         null
        ],
        [
         "47",
         "2.0",
         "2024.0",
         "FPT Plaza 2",
         null,
         "2024-02-29 00:00:00",
         "0.0",
         null
        ],
        [
         "48",
         "2.0",
         "2025.0",
         "FPT Plaza 2",
         "0.0",
         "2025-02-28 00:00:00",
         null,
         null
        ],
        [
         "49",
         "2.0",
         "2025.0",
         "FPT Plaza 2",
         "0.0",
         "2025-02-28 00:00:00",
         "0.0",
         null
        ]
       ],
       "shape": {
        "columns": 7,
        "rows": 476
       }
      },
      "text/html": [
       "<div>\n",
       "<style scoped>\n",
       "    .dataframe tbody tr th:only-of-type {\n",
       "        vertical-align: middle;\n",
       "    }\n",
       "\n",
       "    .dataframe tbody tr th {\n",
       "        vertical-align: top;\n",
       "    }\n",
       "\n",
       "    .dataframe thead th {\n",
       "        text-align: right;\n",
       "    }\n",
       "</style>\n",
       "<table border=\"1\" class=\"dataframe\">\n",
       "  <thead>\n",
       "    <tr style=\"text-align: right;\">\n",
       "      <th></th>\n",
       "      <th>month</th>\n",
       "      <th>year</th>\n",
       "      <th>project</th>\n",
       "      <th>revenue</th>\n",
       "      <th>date</th>\n",
       "      <th>cogs</th>\n",
       "      <th>CoR</th>\n",
       "    </tr>\n",
       "  </thead>\n",
       "  <tbody>\n",
       "    <tr>\n",
       "      <th>0</th>\n",
       "      <td>1.0</td>\n",
       "      <td>2024.0</td>\n",
       "      <td>DOANH THU</td>\n",
       "      <td>333406148.0</td>\n",
       "      <td>2024-01-31</td>\n",
       "      <td>NaN</td>\n",
       "      <td>NaN</td>\n",
       "    </tr>\n",
       "    <tr>\n",
       "      <th>1</th>\n",
       "      <td>1.0</td>\n",
       "      <td>2025.0</td>\n",
       "      <td>DOANH THU</td>\n",
       "      <td>683449920.203</td>\n",
       "      <td>2025-01-31</td>\n",
       "      <td>NaN</td>\n",
       "      <td>NaN</td>\n",
       "    </tr>\n",
       "    <tr>\n",
       "      <th>2</th>\n",
       "      <td>2.0</td>\n",
       "      <td>2024.0</td>\n",
       "      <td>DOANH THU</td>\n",
       "      <td>88749053.0</td>\n",
       "      <td>2024-02-29</td>\n",
       "      <td>NaN</td>\n",
       "      <td>NaN</td>\n",
       "    </tr>\n",
       "    <tr>\n",
       "      <th>3</th>\n",
       "      <td>2.0</td>\n",
       "      <td>2025.0</td>\n",
       "      <td>DOANH THU</td>\n",
       "      <td>1382445966.785</td>\n",
       "      <td>2025-02-28</td>\n",
       "      <td>NaN</td>\n",
       "      <td>NaN</td>\n",
       "    </tr>\n",
       "    <tr>\n",
       "      <th>4</th>\n",
       "      <td>3.0</td>\n",
       "      <td>2024.0</td>\n",
       "      <td>DOANH THU</td>\n",
       "      <td>325324554.154</td>\n",
       "      <td>2024-03-31</td>\n",
       "      <td>NaN</td>\n",
       "      <td>NaN</td>\n",
       "    </tr>\n",
       "    <tr>\n",
       "      <th>...</th>\n",
       "      <td>...</td>\n",
       "      <td>...</td>\n",
       "      <td>...</td>\n",
       "      <td>...</td>\n",
       "      <td>...</td>\n",
       "      <td>...</td>\n",
       "      <td>...</td>\n",
       "    </tr>\n",
       "    <tr>\n",
       "      <th>471</th>\n",
       "      <td>8.0</td>\n",
       "      <td>2024.0</td>\n",
       "      <td>Vinhomes Royal Residences</td>\n",
       "      <td>0.0</td>\n",
       "      <td>2024-08-31</td>\n",
       "      <td>0.0</td>\n",
       "      <td>NaN</td>\n",
       "    </tr>\n",
       "    <tr>\n",
       "      <th>472</th>\n",
       "      <td>9.0</td>\n",
       "      <td>2024.0</td>\n",
       "      <td>Vinhomes Royal Residences</td>\n",
       "      <td>0.0</td>\n",
       "      <td>2024-09-30</td>\n",
       "      <td>0.0</td>\n",
       "      <td>NaN</td>\n",
       "    </tr>\n",
       "    <tr>\n",
       "      <th>473</th>\n",
       "      <td>10.0</td>\n",
       "      <td>2024.0</td>\n",
       "      <td>Vinhomes Royal Residences</td>\n",
       "      <td>146894178.34</td>\n",
       "      <td>2024-10-31</td>\n",
       "      <td>104924413.1</td>\n",
       "      <td>0.714286</td>\n",
       "    </tr>\n",
       "    <tr>\n",
       "      <th>474</th>\n",
       "      <td>11.0</td>\n",
       "      <td>2024.0</td>\n",
       "      <td>Vinhomes Royal Residences</td>\n",
       "      <td>60240202.26</td>\n",
       "      <td>2024-11-30</td>\n",
       "      <td>43028715.9</td>\n",
       "      <td>0.714286</td>\n",
       "    </tr>\n",
       "    <tr>\n",
       "      <th>475</th>\n",
       "      <td>12.0</td>\n",
       "      <td>2024.0</td>\n",
       "      <td>Vinhomes Royal Residences</td>\n",
       "      <td>0.0</td>\n",
       "      <td>2024-12-31</td>\n",
       "      <td>57634393.35</td>\n",
       "      <td>NaN</td>\n",
       "    </tr>\n",
       "  </tbody>\n",
       "</table>\n",
       "<p>476 rows × 7 columns</p>\n",
       "</div>"
      ],
      "text/plain": [
       "    month    year                    project         revenue       date  \\\n",
       "0     1.0  2024.0                  DOANH THU     333406148.0 2024-01-31   \n",
       "1     1.0  2025.0                  DOANH THU   683449920.203 2025-01-31   \n",
       "2     2.0  2024.0                  DOANH THU      88749053.0 2024-02-29   \n",
       "3     2.0  2025.0                  DOANH THU  1382445966.785 2025-02-28   \n",
       "4     3.0  2024.0                  DOANH THU   325324554.154 2024-03-31   \n",
       "..    ...     ...                        ...             ...        ...   \n",
       "471   8.0  2024.0  Vinhomes Royal Residences             0.0 2024-08-31   \n",
       "472   9.0  2024.0  Vinhomes Royal Residences             0.0 2024-09-30   \n",
       "473  10.0  2024.0  Vinhomes Royal Residences    146894178.34 2024-10-31   \n",
       "474  11.0  2024.0  Vinhomes Royal Residences     60240202.26 2024-11-30   \n",
       "475  12.0  2024.0  Vinhomes Royal Residences             0.0 2024-12-31   \n",
       "\n",
       "            cogs       CoR  \n",
       "0            NaN       NaN  \n",
       "1            NaN       NaN  \n",
       "2            NaN       NaN  \n",
       "3            NaN       NaN  \n",
       "4            NaN       NaN  \n",
       "..           ...       ...  \n",
       "471          0.0       NaN  \n",
       "472          0.0       NaN  \n",
       "473  104924413.1  0.714286  \n",
       "474   43028715.9  0.714286  \n",
       "475  57634393.35       NaN  \n",
       "\n",
       "[476 rows x 7 columns]"
      ]
     },
     "execution_count": 115,
     "metadata": {},
     "output_type": "execute_result"
    }
   ],
   "source": []
  },
  {
   "cell_type": "code",
   "execution_count": null,
   "id": "65fc7f0f",
   "metadata": {},
   "outputs": [],
   "source": [
    "1293696913.785"
   ]
  },
  {
   "cell_type": "code",
   "execution_count": 94,
   "id": "27338fe9",
   "metadata": {},
   "outputs": [
    {
     "data": {
      "text/plain": [
       "1293696913.785"
      ]
     },
     "execution_count": 94,
     "metadata": {},
     "output_type": "execute_result"
    }
   ],
   "source": [
    "df.sort_values(by=[\"year\", \"month\"]).loc[df['project']==\"DOANH THU\"][\"revenue\"].diff(periods=12).tail(1).values[0]"
   ]
  },
  {
   "cell_type": "code",
   "execution_count": 33,
   "id": "d17aab7b",
   "metadata": {},
   "outputs": [
    {
     "data": {
      "text/plain": [
       "78228104524.1061"
      ]
     },
     "execution_count": 33,
     "metadata": {},
     "output_type": "execute_result"
    }
   ],
   "source": [
    "np.nansum(df.loc[~df.project.isin([\"DOANH THU\"])].loc[df['year']==2024][\"revenue\"])"
   ]
  },
  {
   "cell_type": "code",
   "execution_count": 19,
   "id": "31520e7a",
   "metadata": {},
   "outputs": [
    {
     "data": {
      "application/vnd.plotly.v1+json": {
       "config": {
        "plotlyServerURL": "https://plot.ly"
       },
       "data": [
        {
         "hovertemplate": "project=FPT Plaza 2<br>date=%{x}<br>revenue=%{y}<extra></extra>",
         "legendgroup": "FPT Plaza 2",
         "marker": {
          "color": "#636efa",
          "pattern": {
           "shape": ""
          }
         },
         "name": "FPT Plaza 2",
         "orientation": "v",
         "showlegend": true,
         "textposition": "auto",
         "type": "bar",
         "x": [
          "2024-01-31T00:00:00.000000000",
          "2024-02-29T00:00:00.000000000",
          "2024-03-31T00:00:00.000000000",
          "2024-04-30T00:00:00.000000000",
          "2024-05-31T00:00:00.000000000",
          "2024-06-30T00:00:00.000000000",
          "2024-07-31T00:00:00.000000000",
          "2024-08-31T00:00:00.000000000",
          "2024-09-30T00:00:00.000000000",
          "2024-10-31T00:00:00.000000000",
          "2024-11-30T00:00:00.000000000",
          "2024-12-31T00:00:00.000000000",
          "2025-01-31T00:00:00.000000000",
          "2025-02-28T00:00:00.000000000"
         ],
         "xaxis": "x",
         "y": [
          57411900,
          null,
          0,
          0,
          0,
          0,
          0,
          0,
          0,
          0,
          0,
          0,
          0,
          0
         ],
         "yaxis": "y"
        },
        {
         "hovertemplate": "project=FPT 3<br>date=%{x}<br>revenue=%{y}<extra></extra>",
         "legendgroup": "FPT 3",
         "marker": {
          "color": "#EF553B",
          "pattern": {
           "shape": ""
          }
         },
         "name": "FPT 3",
         "orientation": "v",
         "showlegend": true,
         "textposition": "auto",
         "type": "bar",
         "x": [
          "2024-01-31T00:00:00.000000000",
          "2024-02-29T00:00:00.000000000",
          "2024-03-31T00:00:00.000000000",
          "2024-04-30T00:00:00.000000000",
          "2024-05-31T00:00:00.000000000",
          "2024-06-30T00:00:00.000000000",
          "2024-07-31T00:00:00.000000000",
          "2024-08-31T00:00:00.000000000",
          "2024-09-30T00:00:00.000000000",
          "2024-10-31T00:00:00.000000000",
          "2024-11-30T00:00:00.000000000",
          "2024-12-31T00:00:00.000000000",
          "2025-01-31T00:00:00.000000000",
          "2025-02-28T00:00:00.000000000"
         ],
         "xaxis": "x",
         "y": [
          null,
          null,
          0,
          0,
          0,
          0,
          0,
          0,
          0,
          0,
          142810050,
          0,
          0,
          0
         ],
         "yaxis": "y"
        },
        {
         "hovertemplate": "project=The Sea - Sunset Town<br>date=%{x}<br>revenue=%{y}<extra></extra>",
         "legendgroup": "The Sea - Sunset Town",
         "marker": {
          "color": "#00cc96",
          "pattern": {
           "shape": ""
          }
         },
         "name": "The Sea - Sunset Town",
         "orientation": "v",
         "showlegend": true,
         "textposition": "auto",
         "type": "bar",
         "x": [
          "2024-01-31T00:00:00.000000000",
          "2024-02-29T00:00:00.000000000",
          "2024-03-31T00:00:00.000000000",
          "2024-04-30T00:00:00.000000000",
          "2024-05-31T00:00:00.000000000",
          "2024-06-30T00:00:00.000000000",
          "2024-07-31T00:00:00.000000000",
          "2024-08-31T00:00:00.000000000",
          "2024-09-30T00:00:00.000000000",
          "2024-10-31T00:00:00.000000000",
          "2024-11-30T00:00:00.000000000",
          "2024-12-31T00:00:00.000000000",
          "2025-01-31T00:00:00.000000000",
          "2025-02-28T00:00:00.000000000"
         ],
         "xaxis": "x",
         "y": [
          null,
          null,
          79379414.54,
          0,
          0,
          0,
          0,
          0,
          0,
          0,
          0,
          0,
          0,
          0
         ],
         "yaxis": "y"
        },
        {
         "hovertemplate": "project=IMPERIA SIGNATURE<br>date=%{x}<br>revenue=%{y}<extra></extra>",
         "legendgroup": "IMPERIA SIGNATURE",
         "marker": {
          "color": "#ab63fa",
          "pattern": {
           "shape": ""
          }
         },
         "name": "IMPERIA SIGNATURE",
         "orientation": "v",
         "showlegend": true,
         "textposition": "auto",
         "type": "bar",
         "x": [
          "2024-01-31T00:00:00.000000000",
          "2024-02-29T00:00:00.000000000",
          "2024-03-31T00:00:00.000000000",
          "2024-04-30T00:00:00.000000000",
          "2024-05-31T00:00:00.000000000",
          "2024-06-30T00:00:00.000000000",
          "2024-07-31T00:00:00.000000000",
          "2024-08-31T00:00:00.000000000",
          "2024-09-30T00:00:00.000000000",
          "2024-10-31T00:00:00.000000000",
          "2024-11-30T00:00:00.000000000",
          "2024-12-31T00:00:00.000000000",
          "2025-01-31T00:00:00.000000000",
          "2025-02-28T00:00:00.000000000"
         ],
         "xaxis": "x",
         "y": [
          null,
          null,
          0,
          0,
          0,
          0,
          0,
          0,
          0,
          0,
          0,
          9022524461.369999,
          182381862.6,
          431613111.59999996
         ],
         "yaxis": "y"
        },
        {
         "hovertemplate": "project=LUMI HANOI<br>date=%{x}<br>revenue=%{y}<extra></extra>",
         "legendgroup": "LUMI HANOI",
         "marker": {
          "color": "#FFA15A",
          "pattern": {
           "shape": ""
          }
         },
         "name": "LUMI HANOI",
         "orientation": "v",
         "showlegend": true,
         "textposition": "auto",
         "type": "bar",
         "x": [
          "2024-01-31T00:00:00.000000000",
          "2024-02-29T00:00:00.000000000",
          "2024-03-31T00:00:00.000000000",
          "2024-04-30T00:00:00.000000000",
          "2024-05-31T00:00:00.000000000",
          "2024-06-30T00:00:00.000000000",
          "2024-07-31T00:00:00.000000000",
          "2024-08-31T00:00:00.000000000",
          "2024-09-30T00:00:00.000000000",
          "2024-10-31T00:00:00.000000000",
          "2024-11-30T00:00:00.000000000",
          "2024-12-31T00:00:00.000000000",
          "2025-01-31T00:00:00.000000000",
          "2025-02-28T00:00:00.000000000"
         ],
         "xaxis": "x",
         "y": [
          null,
          null,
          0,
          4144433585.7500005,
          370843856.55,
          0,
          881957089.2,
          0,
          0,
          1258210384.18,
          0,
          0,
          0,
          0
         ],
         "yaxis": "y"
        },
        {
         "hovertemplate": "project=SGB<br>date=%{x}<br>revenue=%{y}<extra></extra>",
         "legendgroup": "SGB",
         "marker": {
          "color": "#19d3f3",
          "pattern": {
           "shape": ""
          }
         },
         "name": "SGB",
         "orientation": "v",
         "showlegend": true,
         "textposition": "auto",
         "type": "bar",
         "x": [
          "2024-01-31T00:00:00.000000000",
          "2024-02-29T00:00:00.000000000",
          "2024-03-31T00:00:00.000000000",
          "2024-04-30T00:00:00.000000000",
          "2024-05-31T00:00:00.000000000",
          "2024-06-30T00:00:00.000000000",
          "2024-07-31T00:00:00.000000000",
          "2024-08-31T00:00:00.000000000",
          "2024-09-30T00:00:00.000000000",
          "2024-10-31T00:00:00.000000000",
          "2024-11-30T00:00:00.000000000",
          "2024-12-31T00:00:00.000000000",
          "2025-01-31T00:00:00.000000000",
          "2025-02-28T00:00:00.000000000"
         ],
         "xaxis": "x",
         "y": [
          null,
          null,
          0,
          0,
          0,
          0,
          0,
          0,
          0,
          0,
          88848502.67,
          0,
          0,
          0
         ],
         "yaxis": "y"
        },
        {
         "hovertemplate": "project=Sun Pathway<br>date=%{x}<br>revenue=%{y}<extra></extra>",
         "legendgroup": "Sun Pathway",
         "marker": {
          "color": "#FF6692",
          "pattern": {
           "shape": ""
          }
         },
         "name": "Sun Pathway",
         "orientation": "v",
         "showlegend": true,
         "textposition": "auto",
         "type": "bar",
         "x": [
          "2024-01-31T00:00:00.000000000",
          "2024-02-29T00:00:00.000000000",
          "2024-03-31T00:00:00.000000000",
          "2024-04-30T00:00:00.000000000",
          "2024-05-31T00:00:00.000000000",
          "2024-06-30T00:00:00.000000000",
          "2024-07-31T00:00:00.000000000",
          "2024-08-31T00:00:00.000000000",
          "2024-09-30T00:00:00.000000000",
          "2024-10-31T00:00:00.000000000",
          "2024-11-30T00:00:00.000000000",
          "2024-12-31T00:00:00.000000000",
          "2025-01-31T00:00:00.000000000",
          "2025-02-28T00:00:00.000000000"
         ],
         "xaxis": "x",
         "y": [
          null,
          null,
          0,
          0,
          2835854897.255,
          212234299.25,
          118630348.65,
          0,
          0,
          0,
          0,
          0,
          0,
          0
         ],
         "yaxis": "y"
        },
        {
         "hovertemplate": "project=SUN PONTE RESIDENCE<br>date=%{x}<br>revenue=%{y}<extra></extra>",
         "legendgroup": "SUN PONTE RESIDENCE",
         "marker": {
          "color": "#B6E880",
          "pattern": {
           "shape": ""
          }
         },
         "name": "SUN PONTE RESIDENCE",
         "orientation": "v",
         "showlegend": true,
         "textposition": "auto",
         "type": "bar",
         "x": [
          "2024-01-31T00:00:00.000000000",
          "2024-02-29T00:00:00.000000000",
          "2024-03-31T00:00:00.000000000",
          "2024-04-30T00:00:00.000000000",
          "2024-05-31T00:00:00.000000000",
          "2024-06-30T00:00:00.000000000",
          "2024-07-31T00:00:00.000000000",
          "2024-08-31T00:00:00.000000000",
          "2024-09-30T00:00:00.000000000",
          "2024-10-31T00:00:00.000000000",
          "2024-11-30T00:00:00.000000000",
          "2024-12-31T00:00:00.000000000",
          "2025-01-31T00:00:00.000000000",
          "2025-02-28T00:00:00.000000000"
         ],
         "xaxis": "x",
         "y": [
          173266539,
          null,
          0,
          6644721935.228199,
          1738785420.1202002,
          0,
          0,
          0,
          0,
          0,
          175083789.028905,
          0,
          0,
          0
         ],
         "yaxis": "y"
        },
        {
         "hovertemplate": "project=SUN RIVERSIDE VILLAGE SẦM SƠN<br>date=%{x}<br>revenue=%{y}<extra></extra>",
         "legendgroup": "SUN RIVERSIDE VILLAGE SẦM SƠN",
         "marker": {
          "color": "#FF97FF",
          "pattern": {
           "shape": ""
          }
         },
         "name": "SUN RIVERSIDE VILLAGE SẦM SƠN",
         "orientation": "v",
         "showlegend": true,
         "textposition": "auto",
         "type": "bar",
         "x": [
          "2024-01-31T00:00:00.000000000",
          "2024-02-29T00:00:00.000000000",
          "2024-03-31T00:00:00.000000000",
          "2024-04-30T00:00:00.000000000",
          "2024-05-31T00:00:00.000000000",
          "2024-06-30T00:00:00.000000000",
          "2024-07-31T00:00:00.000000000",
          "2024-08-31T00:00:00.000000000",
          "2024-09-30T00:00:00.000000000",
          "2024-10-31T00:00:00.000000000",
          "2024-11-30T00:00:00.000000000",
          "2024-12-31T00:00:00.000000000",
          "2025-01-31T00:00:00.000000000",
          "2025-02-28T00:00:00.000000000"
         ],
         "xaxis": "x",
         "y": [
          null,
          null,
          0,
          0,
          0,
          0,
          0,
          0,
          0,
          0,
          0,
          516927422.36,
          0,
          0
         ],
         "yaxis": "y"
        },
        {
         "hovertemplate": "project=Sun Symphony Residences<br>date=%{x}<br>revenue=%{y}<extra></extra>",
         "legendgroup": "Sun Symphony Residences",
         "marker": {
          "color": "#FECB52",
          "pattern": {
           "shape": ""
          }
         },
         "name": "Sun Symphony Residences",
         "orientation": "v",
         "showlegend": true,
         "textposition": "auto",
         "type": "bar",
         "x": [
          "2024-01-31T00:00:00.000000000",
          "2024-02-29T00:00:00.000000000",
          "2024-03-31T00:00:00.000000000",
          "2024-04-30T00:00:00.000000000",
          "2024-05-31T00:00:00.000000000",
          "2024-06-30T00:00:00.000000000",
          "2024-07-31T00:00:00.000000000",
          "2024-08-31T00:00:00.000000000",
          "2024-09-30T00:00:00.000000000",
          "2024-10-31T00:00:00.000000000",
          "2024-11-30T00:00:00.000000000",
          "2024-12-31T00:00:00.000000000",
          "2025-01-31T00:00:00.000000000",
          "2025-02-28T00:00:00.000000000"
         ],
         "xaxis": "x",
         "y": [
          null,
          null,
          0,
          0,
          0,
          5983273259.400002,
          2002929905.1899998,
          3261102399.52,
          1146894478.1799998,
          2056007858.465,
          779001613.6844001,
          1162416203.5479999,
          356977149.603,
          713987148.505
         ],
         "yaxis": "y"
        },
        {
         "hovertemplate": "project=SUN URBAN CITY<br>date=%{x}<br>revenue=%{y}<extra></extra>",
         "legendgroup": "SUN URBAN CITY",
         "marker": {
          "color": "#636efa",
          "pattern": {
           "shape": ""
          }
         },
         "name": "SUN URBAN CITY",
         "orientation": "v",
         "showlegend": true,
         "textposition": "auto",
         "type": "bar",
         "x": [
          "2024-01-31T00:00:00.000000000",
          "2024-02-29T00:00:00.000000000",
          "2024-03-31T00:00:00.000000000",
          "2024-04-30T00:00:00.000000000",
          "2024-05-31T00:00:00.000000000",
          "2024-06-30T00:00:00.000000000",
          "2024-07-31T00:00:00.000000000",
          "2024-08-31T00:00:00.000000000",
          "2024-09-30T00:00:00.000000000",
          "2024-10-31T00:00:00.000000000",
          "2024-11-30T00:00:00.000000000",
          "2024-12-31T00:00:00.000000000",
          "2025-01-31T00:00:00.000000000",
          "2025-02-28T00:00:00.000000000"
         ],
         "xaxis": "x",
         "y": [
          null,
          null,
          0,
          0,
          0,
          0,
          0,
          0,
          0,
          1218783116.1941998,
          263897840.3832,
          0,
          0,
          0
         ],
         "yaxis": "y"
        },
        {
         "hovertemplate": "project=Sun Cosmo Residence Đà Nẵng<br>date=%{x}<br>revenue=%{y}<extra></extra>",
         "legendgroup": "Sun Cosmo Residence Đà Nẵng",
         "marker": {
          "color": "#EF553B",
          "pattern": {
           "shape": ""
          }
         },
         "name": "Sun Cosmo Residence Đà Nẵng",
         "orientation": "v",
         "showlegend": true,
         "textposition": "auto",
         "type": "bar",
         "x": [
          "2024-01-31T00:00:00.000000000",
          "2024-02-29T00:00:00.000000000",
          "2024-03-31T00:00:00.000000000",
          "2024-04-30T00:00:00.000000000",
          "2024-05-31T00:00:00.000000000",
          "2024-06-30T00:00:00.000000000",
          "2024-07-31T00:00:00.000000000",
          "2024-08-31T00:00:00.000000000",
          "2024-09-30T00:00:00.000000000",
          "2024-10-31T00:00:00.000000000",
          "2024-11-30T00:00:00.000000000",
          "2024-12-31T00:00:00.000000000",
          "2025-01-31T00:00:00.000000000",
          "2025-02-28T00:00:00.000000000"
         ],
         "xaxis": "x",
         "y": [
          null,
          null,
          0,
          0,
          2766217216.08,
          0,
          0,
          0,
          0,
          0,
          0,
          0,
          0,
          236845706.68
         ],
         "yaxis": "y"
        },
        {
         "hovertemplate": "project=THE MIAMI - GS5<br>date=%{x}<br>revenue=%{y}<extra></extra>",
         "legendgroup": "THE MIAMI - GS5",
         "marker": {
          "color": "#00cc96",
          "pattern": {
           "shape": ""
          }
         },
         "name": "THE MIAMI - GS5",
         "orientation": "v",
         "showlegend": true,
         "textposition": "auto",
         "type": "bar",
         "x": [
          "2024-01-31T00:00:00.000000000",
          "2024-02-29T00:00:00.000000000",
          "2024-03-31T00:00:00.000000000",
          "2024-04-30T00:00:00.000000000",
          "2024-05-31T00:00:00.000000000",
          "2024-06-30T00:00:00.000000000",
          "2024-07-31T00:00:00.000000000",
          "2024-08-31T00:00:00.000000000",
          "2024-09-30T00:00:00.000000000",
          "2024-10-31T00:00:00.000000000",
          "2024-11-30T00:00:00.000000000",
          "2024-12-31T00:00:00.000000000",
          "2025-01-31T00:00:00.000000000",
          "2025-02-28T00:00:00.000000000"
         ],
         "xaxis": "x",
         "y": [
          null,
          null,
          0,
          0,
          0,
          0,
          0,
          2236387364.19,
          1094346451.085,
          0,
          0,
          200981219.85,
          0,
          0
         ],
         "yaxis": "y"
        },
        {
         "hovertemplate": "project=The Panoma<br>date=%{x}<br>revenue=%{y}<extra></extra>",
         "legendgroup": "The Panoma",
         "marker": {
          "color": "#ab63fa",
          "pattern": {
           "shape": ""
          }
         },
         "name": "The Panoma",
         "orientation": "v",
         "showlegend": true,
         "textposition": "auto",
         "type": "bar",
         "x": [
          "2024-01-31T00:00:00.000000000",
          "2024-02-29T00:00:00.000000000",
          "2024-03-31T00:00:00.000000000",
          "2024-04-30T00:00:00.000000000",
          "2024-05-31T00:00:00.000000000",
          "2024-06-30T00:00:00.000000000",
          "2024-07-31T00:00:00.000000000",
          "2024-08-31T00:00:00.000000000",
          "2024-09-30T00:00:00.000000000",
          "2024-10-31T00:00:00.000000000",
          "2024-11-30T00:00:00.000000000",
          "2024-12-31T00:00:00.000000000",
          "2025-01-31T00:00:00.000000000",
          "2025-02-28T00:00:00.000000000"
         ],
         "xaxis": "x",
         "y": [
          null,
          null,
          0,
          0,
          155619775.16,
          0,
          0,
          0,
          0,
          0,
          0,
          0,
          0,
          0
         ],
         "yaxis": "y"
        },
        {
         "hovertemplate": "project=Vinhomes Royal Residences<br>date=%{x}<br>revenue=%{y}<extra></extra>",
         "legendgroup": "Vinhomes Royal Residences",
         "marker": {
          "color": "#FFA15A",
          "pattern": {
           "shape": ""
          }
         },
         "name": "Vinhomes Royal Residences",
         "orientation": "v",
         "showlegend": true,
         "textposition": "auto",
         "type": "bar",
         "x": [
          "2024-01-31T00:00:00.000000000",
          "2024-02-29T00:00:00.000000000",
          "2024-03-31T00:00:00.000000000",
          "2024-04-30T00:00:00.000000000",
          "2024-05-31T00:00:00.000000000",
          "2024-06-30T00:00:00.000000000",
          "2024-07-31T00:00:00.000000000",
          "2024-08-31T00:00:00.000000000",
          "2024-09-30T00:00:00.000000000",
          "2024-10-31T00:00:00.000000000",
          "2024-11-30T00:00:00.000000000",
          "2024-12-31T00:00:00.000000000",
          "2025-01-31T00:00:00.000000000",
          "2025-02-28T00:00:00.000000000"
         ],
         "xaxis": "x",
         "y": [
          null,
          null,
          0,
          0,
          0,
          0,
          484164357.76,
          0,
          0,
          146894178.34,
          60240202.260000005,
          0,
          0,
          0
         ],
         "yaxis": "y"
        },
        {
         "hovertemplate": "project=The Senique<br>date=%{x}<br>revenue=%{y}<extra></extra>",
         "legendgroup": "The Senique",
         "marker": {
          "color": "#19d3f3",
          "pattern": {
           "shape": ""
          }
         },
         "name": "The Senique",
         "orientation": "v",
         "showlegend": true,
         "textposition": "auto",
         "type": "bar",
         "x": [
          "2024-01-31T00:00:00.000000000",
          "2024-02-29T00:00:00.000000000",
          "2024-03-31T00:00:00.000000000",
          "2024-04-30T00:00:00.000000000",
          "2024-05-31T00:00:00.000000000",
          "2024-06-30T00:00:00.000000000",
          "2024-07-31T00:00:00.000000000",
          "2024-08-31T00:00:00.000000000",
          "2024-09-30T00:00:00.000000000",
          "2024-10-31T00:00:00.000000000",
          "2024-11-30T00:00:00.000000000",
          "2024-12-31T00:00:00.000000000",
          "2025-01-31T00:00:00.000000000",
          "2025-02-28T00:00:00.000000000"
         ],
         "xaxis": "x",
         "y": [
          null,
          null,
          0,
          0,
          0,
          0,
          0,
          0,
          0,
          0,
          1958112816.8000002,
          0,
          0,
          0
         ],
         "yaxis": "y"
        },
        {
         "hovertemplate": "project=The Sola Park<br>date=%{x}<br>revenue=%{y}<extra></extra>",
         "legendgroup": "The Sola Park",
         "marker": {
          "color": "#FF6692",
          "pattern": {
           "shape": ""
          }
         },
         "name": "The Sola Park",
         "orientation": "v",
         "showlegend": true,
         "textposition": "auto",
         "type": "bar",
         "x": [
          "2024-01-31T00:00:00.000000000",
          "2024-02-29T00:00:00.000000000",
          "2024-03-31T00:00:00.000000000",
          "2024-04-30T00:00:00.000000000",
          "2024-05-31T00:00:00.000000000",
          "2024-06-30T00:00:00.000000000",
          "2024-07-31T00:00:00.000000000",
          "2024-08-31T00:00:00.000000000",
          "2024-09-30T00:00:00.000000000",
          "2024-10-31T00:00:00.000000000",
          "2024-11-30T00:00:00.000000000",
          "2024-12-31T00:00:00.000000000",
          "2025-01-31T00:00:00.000000000",
          "2025-02-28T00:00:00.000000000"
         ],
         "xaxis": "x",
         "y": [
          null,
          null,
          0,
          0,
          0,
          0,
          0,
          0,
          0,
          6646321405.169997,
          0,
          0,
          0,
          0
         ],
         "yaxis": "y"
        },
        {
         "hovertemplate": "project=The Victoria<br>date=%{x}<br>revenue=%{y}<extra></extra>",
         "legendgroup": "The Victoria",
         "marker": {
          "color": "#B6E880",
          "pattern": {
           "shape": ""
          }
         },
         "name": "The Victoria",
         "orientation": "v",
         "showlegend": true,
         "textposition": "auto",
         "type": "bar",
         "x": [
          "2024-01-31T00:00:00.000000000",
          "2024-02-29T00:00:00.000000000",
          "2024-03-31T00:00:00.000000000",
          "2024-04-30T00:00:00.000000000",
          "2024-05-31T00:00:00.000000000",
          "2024-06-30T00:00:00.000000000",
          "2024-07-31T00:00:00.000000000",
          "2024-08-31T00:00:00.000000000",
          "2024-09-30T00:00:00.000000000",
          "2024-10-31T00:00:00.000000000",
          "2024-11-30T00:00:00.000000000",
          "2024-12-31T00:00:00.000000000",
          "2025-01-31T00:00:00.000000000",
          "2025-02-28T00:00:00.000000000"
         ],
         "xaxis": "x",
         "y": [
          null,
          null,
          0,
          0,
          0,
          0,
          0,
          0,
          0,
          2546598360.9999995,
          0,
          0,
          0,
          0
         ],
         "yaxis": "y"
        },
        {
         "hovertemplate": "project=Vinhomes Global Gate<br>date=%{x}<br>revenue=%{y}<extra></extra>",
         "legendgroup": "Vinhomes Global Gate",
         "marker": {
          "color": "#FF97FF",
          "pattern": {
           "shape": ""
          }
         },
         "name": "Vinhomes Global Gate",
         "orientation": "v",
         "showlegend": true,
         "textposition": "auto",
         "type": "bar",
         "x": [
          "2024-01-31T00:00:00.000000000",
          "2024-02-29T00:00:00.000000000",
          "2024-03-31T00:00:00.000000000",
          "2024-04-30T00:00:00.000000000",
          "2024-05-31T00:00:00.000000000",
          "2024-06-30T00:00:00.000000000",
          "2024-07-31T00:00:00.000000000",
          "2024-08-31T00:00:00.000000000",
          "2024-09-30T00:00:00.000000000",
          "2024-10-31T00:00:00.000000000",
          "2024-11-30T00:00:00.000000000",
          "2024-12-31T00:00:00.000000000",
          "2025-01-31T00:00:00.000000000",
          "2025-02-28T00:00:00.000000000"
         ],
         "xaxis": "x",
         "y": [
          null,
          null,
          0,
          0,
          0,
          0,
          0,
          0,
          7028022455.639999,
          2576937930.9,
          616335588.54,
          0,
          0,
          0
         ],
         "yaxis": "y"
        },
        {
         "hovertemplate": "project=Vinhomes Royal Island<br>date=%{x}<br>revenue=%{y}<extra></extra>",
         "legendgroup": "Vinhomes Royal Island",
         "marker": {
          "color": "#FECB52",
          "pattern": {
           "shape": ""
          }
         },
         "name": "Vinhomes Royal Island",
         "orientation": "v",
         "showlegend": true,
         "textposition": "auto",
         "type": "bar",
         "x": [
          "2024-01-31T00:00:00.000000000",
          "2024-02-29T00:00:00.000000000",
          "2024-03-31T00:00:00.000000000",
          "2024-04-30T00:00:00.000000000",
          "2024-05-31T00:00:00.000000000",
          "2024-06-30T00:00:00.000000000",
          "2024-07-31T00:00:00.000000000",
          "2024-08-31T00:00:00.000000000",
          "2024-09-30T00:00:00.000000000",
          "2024-10-31T00:00:00.000000000",
          "2024-11-30T00:00:00.000000000",
          "2024-12-31T00:00:00.000000000",
          "2025-01-31T00:00:00.000000000",
          "2025-02-28T00:00:00.000000000"
         ],
         "xaxis": "x",
         "y": [
          null,
          null,
          240652933.61400002,
          0,
          0,
          0,
          0,
          0,
          0,
          0,
          0,
          0,
          0,
          0
         ],
         "yaxis": "y"
        }
       ],
       "layout": {
        "barmode": "stack",
        "legend": {
         "title": {
          "text": "project"
         },
         "tracegroupgap": 0
        },
        "margin": {
         "t": 60
        },
        "template": {
         "data": {
          "bar": [
           {
            "error_x": {
             "color": "#2a3f5f"
            },
            "error_y": {
             "color": "#2a3f5f"
            },
            "marker": {
             "line": {
              "color": "#E5ECF6",
              "width": 0.5
             },
             "pattern": {
              "fillmode": "overlay",
              "size": 10,
              "solidity": 0.2
             }
            },
            "type": "bar"
           }
          ],
          "barpolar": [
           {
            "marker": {
             "line": {
              "color": "#E5ECF6",
              "width": 0.5
             },
             "pattern": {
              "fillmode": "overlay",
              "size": 10,
              "solidity": 0.2
             }
            },
            "type": "barpolar"
           }
          ],
          "carpet": [
           {
            "aaxis": {
             "endlinecolor": "#2a3f5f",
             "gridcolor": "white",
             "linecolor": "white",
             "minorgridcolor": "white",
             "startlinecolor": "#2a3f5f"
            },
            "baxis": {
             "endlinecolor": "#2a3f5f",
             "gridcolor": "white",
             "linecolor": "white",
             "minorgridcolor": "white",
             "startlinecolor": "#2a3f5f"
            },
            "type": "carpet"
           }
          ],
          "choropleth": [
           {
            "colorbar": {
             "outlinewidth": 0,
             "ticks": ""
            },
            "type": "choropleth"
           }
          ],
          "contour": [
           {
            "colorbar": {
             "outlinewidth": 0,
             "ticks": ""
            },
            "colorscale": [
             [
              0,
              "#0d0887"
             ],
             [
              0.1111111111111111,
              "#46039f"
             ],
             [
              0.2222222222222222,
              "#7201a8"
             ],
             [
              0.3333333333333333,
              "#9c179e"
             ],
             [
              0.4444444444444444,
              "#bd3786"
             ],
             [
              0.5555555555555556,
              "#d8576b"
             ],
             [
              0.6666666666666666,
              "#ed7953"
             ],
             [
              0.7777777777777778,
              "#fb9f3a"
             ],
             [
              0.8888888888888888,
              "#fdca26"
             ],
             [
              1,
              "#f0f921"
             ]
            ],
            "type": "contour"
           }
          ],
          "contourcarpet": [
           {
            "colorbar": {
             "outlinewidth": 0,
             "ticks": ""
            },
            "type": "contourcarpet"
           }
          ],
          "heatmap": [
           {
            "colorbar": {
             "outlinewidth": 0,
             "ticks": ""
            },
            "colorscale": [
             [
              0,
              "#0d0887"
             ],
             [
              0.1111111111111111,
              "#46039f"
             ],
             [
              0.2222222222222222,
              "#7201a8"
             ],
             [
              0.3333333333333333,
              "#9c179e"
             ],
             [
              0.4444444444444444,
              "#bd3786"
             ],
             [
              0.5555555555555556,
              "#d8576b"
             ],
             [
              0.6666666666666666,
              "#ed7953"
             ],
             [
              0.7777777777777778,
              "#fb9f3a"
             ],
             [
              0.8888888888888888,
              "#fdca26"
             ],
             [
              1,
              "#f0f921"
             ]
            ],
            "type": "heatmap"
           }
          ],
          "histogram": [
           {
            "marker": {
             "pattern": {
              "fillmode": "overlay",
              "size": 10,
              "solidity": 0.2
             }
            },
            "type": "histogram"
           }
          ],
          "histogram2d": [
           {
            "colorbar": {
             "outlinewidth": 0,
             "ticks": ""
            },
            "colorscale": [
             [
              0,
              "#0d0887"
             ],
             [
              0.1111111111111111,
              "#46039f"
             ],
             [
              0.2222222222222222,
              "#7201a8"
             ],
             [
              0.3333333333333333,
              "#9c179e"
             ],
             [
              0.4444444444444444,
              "#bd3786"
             ],
             [
              0.5555555555555556,
              "#d8576b"
             ],
             [
              0.6666666666666666,
              "#ed7953"
             ],
             [
              0.7777777777777778,
              "#fb9f3a"
             ],
             [
              0.8888888888888888,
              "#fdca26"
             ],
             [
              1,
              "#f0f921"
             ]
            ],
            "type": "histogram2d"
           }
          ],
          "histogram2dcontour": [
           {
            "colorbar": {
             "outlinewidth": 0,
             "ticks": ""
            },
            "colorscale": [
             [
              0,
              "#0d0887"
             ],
             [
              0.1111111111111111,
              "#46039f"
             ],
             [
              0.2222222222222222,
              "#7201a8"
             ],
             [
              0.3333333333333333,
              "#9c179e"
             ],
             [
              0.4444444444444444,
              "#bd3786"
             ],
             [
              0.5555555555555556,
              "#d8576b"
             ],
             [
              0.6666666666666666,
              "#ed7953"
             ],
             [
              0.7777777777777778,
              "#fb9f3a"
             ],
             [
              0.8888888888888888,
              "#fdca26"
             ],
             [
              1,
              "#f0f921"
             ]
            ],
            "type": "histogram2dcontour"
           }
          ],
          "mesh3d": [
           {
            "colorbar": {
             "outlinewidth": 0,
             "ticks": ""
            },
            "type": "mesh3d"
           }
          ],
          "parcoords": [
           {
            "line": {
             "colorbar": {
              "outlinewidth": 0,
              "ticks": ""
             }
            },
            "type": "parcoords"
           }
          ],
          "pie": [
           {
            "automargin": true,
            "type": "pie"
           }
          ],
          "scatter": [
           {
            "fillpattern": {
             "fillmode": "overlay",
             "size": 10,
             "solidity": 0.2
            },
            "type": "scatter"
           }
          ],
          "scatter3d": [
           {
            "line": {
             "colorbar": {
              "outlinewidth": 0,
              "ticks": ""
             }
            },
            "marker": {
             "colorbar": {
              "outlinewidth": 0,
              "ticks": ""
             }
            },
            "type": "scatter3d"
           }
          ],
          "scattercarpet": [
           {
            "marker": {
             "colorbar": {
              "outlinewidth": 0,
              "ticks": ""
             }
            },
            "type": "scattercarpet"
           }
          ],
          "scattergeo": [
           {
            "marker": {
             "colorbar": {
              "outlinewidth": 0,
              "ticks": ""
             }
            },
            "type": "scattergeo"
           }
          ],
          "scattergl": [
           {
            "marker": {
             "colorbar": {
              "outlinewidth": 0,
              "ticks": ""
             }
            },
            "type": "scattergl"
           }
          ],
          "scattermap": [
           {
            "marker": {
             "colorbar": {
              "outlinewidth": 0,
              "ticks": ""
             }
            },
            "type": "scattermap"
           }
          ],
          "scattermapbox": [
           {
            "marker": {
             "colorbar": {
              "outlinewidth": 0,
              "ticks": ""
             }
            },
            "type": "scattermapbox"
           }
          ],
          "scatterpolar": [
           {
            "marker": {
             "colorbar": {
              "outlinewidth": 0,
              "ticks": ""
             }
            },
            "type": "scatterpolar"
           }
          ],
          "scatterpolargl": [
           {
            "marker": {
             "colorbar": {
              "outlinewidth": 0,
              "ticks": ""
             }
            },
            "type": "scatterpolargl"
           }
          ],
          "scatterternary": [
           {
            "marker": {
             "colorbar": {
              "outlinewidth": 0,
              "ticks": ""
             }
            },
            "type": "scatterternary"
           }
          ],
          "surface": [
           {
            "colorbar": {
             "outlinewidth": 0,
             "ticks": ""
            },
            "colorscale": [
             [
              0,
              "#0d0887"
             ],
             [
              0.1111111111111111,
              "#46039f"
             ],
             [
              0.2222222222222222,
              "#7201a8"
             ],
             [
              0.3333333333333333,
              "#9c179e"
             ],
             [
              0.4444444444444444,
              "#bd3786"
             ],
             [
              0.5555555555555556,
              "#d8576b"
             ],
             [
              0.6666666666666666,
              "#ed7953"
             ],
             [
              0.7777777777777778,
              "#fb9f3a"
             ],
             [
              0.8888888888888888,
              "#fdca26"
             ],
             [
              1,
              "#f0f921"
             ]
            ],
            "type": "surface"
           }
          ],
          "table": [
           {
            "cells": {
             "fill": {
              "color": "#EBF0F8"
             },
             "line": {
              "color": "white"
             }
            },
            "header": {
             "fill": {
              "color": "#C8D4E3"
             },
             "line": {
              "color": "white"
             }
            },
            "type": "table"
           }
          ]
         },
         "layout": {
          "annotationdefaults": {
           "arrowcolor": "#2a3f5f",
           "arrowhead": 0,
           "arrowwidth": 1
          },
          "autotypenumbers": "strict",
          "coloraxis": {
           "colorbar": {
            "outlinewidth": 0,
            "ticks": ""
           }
          },
          "colorscale": {
           "diverging": [
            [
             0,
             "#8e0152"
            ],
            [
             0.1,
             "#c51b7d"
            ],
            [
             0.2,
             "#de77ae"
            ],
            [
             0.3,
             "#f1b6da"
            ],
            [
             0.4,
             "#fde0ef"
            ],
            [
             0.5,
             "#f7f7f7"
            ],
            [
             0.6,
             "#e6f5d0"
            ],
            [
             0.7,
             "#b8e186"
            ],
            [
             0.8,
             "#7fbc41"
            ],
            [
             0.9,
             "#4d9221"
            ],
            [
             1,
             "#276419"
            ]
           ],
           "sequential": [
            [
             0,
             "#0d0887"
            ],
            [
             0.1111111111111111,
             "#46039f"
            ],
            [
             0.2222222222222222,
             "#7201a8"
            ],
            [
             0.3333333333333333,
             "#9c179e"
            ],
            [
             0.4444444444444444,
             "#bd3786"
            ],
            [
             0.5555555555555556,
             "#d8576b"
            ],
            [
             0.6666666666666666,
             "#ed7953"
            ],
            [
             0.7777777777777778,
             "#fb9f3a"
            ],
            [
             0.8888888888888888,
             "#fdca26"
            ],
            [
             1,
             "#f0f921"
            ]
           ],
           "sequentialminus": [
            [
             0,
             "#0d0887"
            ],
            [
             0.1111111111111111,
             "#46039f"
            ],
            [
             0.2222222222222222,
             "#7201a8"
            ],
            [
             0.3333333333333333,
             "#9c179e"
            ],
            [
             0.4444444444444444,
             "#bd3786"
            ],
            [
             0.5555555555555556,
             "#d8576b"
            ],
            [
             0.6666666666666666,
             "#ed7953"
            ],
            [
             0.7777777777777778,
             "#fb9f3a"
            ],
            [
             0.8888888888888888,
             "#fdca26"
            ],
            [
             1,
             "#f0f921"
            ]
           ]
          },
          "colorway": [
           "#636efa",
           "#EF553B",
           "#00cc96",
           "#ab63fa",
           "#FFA15A",
           "#19d3f3",
           "#FF6692",
           "#B6E880",
           "#FF97FF",
           "#FECB52"
          ],
          "font": {
           "color": "#2a3f5f"
          },
          "geo": {
           "bgcolor": "white",
           "lakecolor": "white",
           "landcolor": "#E5ECF6",
           "showlakes": true,
           "showland": true,
           "subunitcolor": "white"
          },
          "hoverlabel": {
           "align": "left"
          },
          "hovermode": "closest",
          "mapbox": {
           "style": "light"
          },
          "paper_bgcolor": "white",
          "plot_bgcolor": "#E5ECF6",
          "polar": {
           "angularaxis": {
            "gridcolor": "white",
            "linecolor": "white",
            "ticks": ""
           },
           "bgcolor": "#E5ECF6",
           "radialaxis": {
            "gridcolor": "white",
            "linecolor": "white",
            "ticks": ""
           }
          },
          "scene": {
           "xaxis": {
            "backgroundcolor": "#E5ECF6",
            "gridcolor": "white",
            "gridwidth": 2,
            "linecolor": "white",
            "showbackground": true,
            "ticks": "",
            "zerolinecolor": "white"
           },
           "yaxis": {
            "backgroundcolor": "#E5ECF6",
            "gridcolor": "white",
            "gridwidth": 2,
            "linecolor": "white",
            "showbackground": true,
            "ticks": "",
            "zerolinecolor": "white"
           },
           "zaxis": {
            "backgroundcolor": "#E5ECF6",
            "gridcolor": "white",
            "gridwidth": 2,
            "linecolor": "white",
            "showbackground": true,
            "ticks": "",
            "zerolinecolor": "white"
           }
          },
          "shapedefaults": {
           "line": {
            "color": "#2a3f5f"
           }
          },
          "ternary": {
           "aaxis": {
            "gridcolor": "white",
            "linecolor": "white",
            "ticks": ""
           },
           "baxis": {
            "gridcolor": "white",
            "linecolor": "white",
            "ticks": ""
           },
           "bgcolor": "#E5ECF6",
           "caxis": {
            "gridcolor": "white",
            "linecolor": "white",
            "ticks": ""
           }
          },
          "title": {
           "x": 0.05
          },
          "xaxis": {
           "automargin": true,
           "gridcolor": "white",
           "linecolor": "white",
           "ticks": "",
           "title": {
            "standoff": 15
           },
           "zerolinecolor": "white",
           "zerolinewidth": 2
          },
          "yaxis": {
           "automargin": true,
           "gridcolor": "white",
           "linecolor": "white",
           "ticks": "",
           "title": {
            "standoff": 15
           },
           "zerolinecolor": "white",
           "zerolinewidth": 2
          }
         }
        },
        "xaxis": {
         "anchor": "y",
         "domain": [
          0,
          1
         ],
         "title": {
          "text": "date"
         }
        },
        "yaxis": {
         "anchor": "x",
         "domain": [
          0,
          1
         ],
         "title": {
          "text": "revenue"
         }
        }
       }
      }
     },
     "metadata": {},
     "output_type": "display_data"
    }
   ],
   "source": [
    "px.bar(\n",
    "    data_frame=df.loc[~df.project.isin([\"DOANH THU\", \"Thưởng nóng\", \"Doanh thu cho thuê HCM\"])], \n",
    "    x=\"date\", y=\"revenue\",\n",
    "    color=\"project\",\n",
    "    barmode=\"stack\"\n",
    ")"
   ]
  }
 ],
 "metadata": {
  "kernelspec": {
   "display_name": "ds",
   "language": "python",
   "name": "python3"
  },
  "language_info": {
   "codemirror_mode": {
    "name": "ipython",
    "version": 3
   },
   "file_extension": ".py",
   "mimetype": "text/x-python",
   "name": "python",
   "nbconvert_exporter": "python",
   "pygments_lexer": "ipython3",
   "version": "3.9.20"
  }
 },
 "nbformat": 4,
 "nbformat_minor": 5
}
